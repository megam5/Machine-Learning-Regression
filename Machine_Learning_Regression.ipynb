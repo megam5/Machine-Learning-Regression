{
  "nbformat": 4,
  "nbformat_minor": 0,
  "metadata": {
    "colab": {
      "name": "Machine Learning Regression.ipynb",
      "provenance": [],
      "collapsed_sections": [
        "j3iDc14yGDgF",
        "YFOzVy9O8Kml",
        "9zxozHI-GLPQ",
        "0msBWm0VlGfV",
        "s1y-QCm9liUe",
        "pPVCGcU7pDSB",
        "UfwEmqCHvO1S",
        "Df917cflWoF9",
        "_B82wmrb-0qD",
        "jEWkGF9PZ7JO",
        "207-0NBlIv6k",
        "kEAXjAjOa1hy"
      ]
    },
    "kernelspec": {
      "name": "python3",
      "display_name": "Python 3"
    },
    "accelerator": "GPU"
  },
  "cells": [
    {
      "cell_type": "markdown",
      "metadata": {
        "id": "j3iDc14yGDgF",
        "colab_type": "text"
      },
      "source": [
        "## Get the Data"
      ]
    },
    {
      "cell_type": "code",
      "metadata": {
        "id": "HhUD47BJiJcI",
        "colab_type": "code",
        "colab": {}
      },
      "source": [
        "# from google.colab import drive\n",
        "# drive.mount('/content/drive')"
      ],
      "execution_count": 0,
      "outputs": []
    },
    {
      "cell_type": "code",
      "metadata": {
        "id": "JbZ4fD8KhP6K",
        "colab_type": "code",
        "colab": {}
      },
      "source": [
        "import os\n",
        "import tarfile\n",
        "import urllib\n",
        "\n",
        "DOWNLOAD_ROOT = \"https://raw.githubusercontent.com/ageron/handson-ml2/master/\"\n",
        "HOUSING_PATH = os.path.join(\"datasets\", \"housing\")\n",
        "HOUSING_URL = DOWNLOAD_ROOT + \"datasets/housing/housing.tgz\"\n",
        "\n",
        "def fetch_housing_data(housing_url=HOUSING_URL, housing_path=HOUSING_PATH):\n",
        "    if not os.path.isdir(housing_path):\n",
        "        os.makedirs(housing_path)\n",
        "    tgz_path = os.path.join(housing_path, \"housing.tgz\")\n",
        "    urllib.request.urlretrieve(housing_url, tgz_path)\n",
        "    housing_tgz = tarfile.open(tgz_path)\n",
        "    housing_tgz.extractall(path=housing_path)\n",
        "    housing_tgz.close()"
      ],
      "execution_count": 0,
      "outputs": []
    },
    {
      "cell_type": "code",
      "metadata": {
        "id": "PEBGydvBhU6t",
        "colab_type": "code",
        "colab": {}
      },
      "source": [
        "import pandas as pd\n",
        "fetch_housing_data()\n",
        "def load_housing_data(housing_path=HOUSING_PATH):\n",
        "    csv_path = os.path.join(housing_path, \"housing.csv\")\n",
        "    return pd.read_csv(csv_path)"
      ],
      "execution_count": 0,
      "outputs": []
    },
    {
      "cell_type": "code",
      "metadata": {
        "id": "SqjBHmeee4Uy",
        "colab_type": "code",
        "colab": {}
      },
      "source": [
        "housing = load_housing_data()"
      ],
      "execution_count": 0,
      "outputs": []
    },
    {
      "cell_type": "code",
      "metadata": {
        "id": "NDzoFZ1zfya9",
        "colab_type": "code",
        "outputId": "1001b9fd-ca15-41dc-9f47-4ebb4967d2be",
        "colab": {
          "base_uri": "https://localhost:8080/",
          "height": 0
        }
      },
      "source": [
        "housing.head()"
      ],
      "execution_count": 5,
      "outputs": [
        {
          "output_type": "execute_result",
          "data": {
            "text/html": [
              "<div>\n",
              "<style scoped>\n",
              "    .dataframe tbody tr th:only-of-type {\n",
              "        vertical-align: middle;\n",
              "    }\n",
              "\n",
              "    .dataframe tbody tr th {\n",
              "        vertical-align: top;\n",
              "    }\n",
              "\n",
              "    .dataframe thead th {\n",
              "        text-align: right;\n",
              "    }\n",
              "</style>\n",
              "<table border=\"1\" class=\"dataframe\">\n",
              "  <thead>\n",
              "    <tr style=\"text-align: right;\">\n",
              "      <th></th>\n",
              "      <th>longitude</th>\n",
              "      <th>latitude</th>\n",
              "      <th>housing_median_age</th>\n",
              "      <th>total_rooms</th>\n",
              "      <th>total_bedrooms</th>\n",
              "      <th>population</th>\n",
              "      <th>households</th>\n",
              "      <th>median_income</th>\n",
              "      <th>median_house_value</th>\n",
              "      <th>ocean_proximity</th>\n",
              "    </tr>\n",
              "  </thead>\n",
              "  <tbody>\n",
              "    <tr>\n",
              "      <th>0</th>\n",
              "      <td>-122.23</td>\n",
              "      <td>37.88</td>\n",
              "      <td>41.0</td>\n",
              "      <td>880.0</td>\n",
              "      <td>129.0</td>\n",
              "      <td>322.0</td>\n",
              "      <td>126.0</td>\n",
              "      <td>8.3252</td>\n",
              "      <td>452600.0</td>\n",
              "      <td>NEAR BAY</td>\n",
              "    </tr>\n",
              "    <tr>\n",
              "      <th>1</th>\n",
              "      <td>-122.22</td>\n",
              "      <td>37.86</td>\n",
              "      <td>21.0</td>\n",
              "      <td>7099.0</td>\n",
              "      <td>1106.0</td>\n",
              "      <td>2401.0</td>\n",
              "      <td>1138.0</td>\n",
              "      <td>8.3014</td>\n",
              "      <td>358500.0</td>\n",
              "      <td>NEAR BAY</td>\n",
              "    </tr>\n",
              "    <tr>\n",
              "      <th>2</th>\n",
              "      <td>-122.24</td>\n",
              "      <td>37.85</td>\n",
              "      <td>52.0</td>\n",
              "      <td>1467.0</td>\n",
              "      <td>190.0</td>\n",
              "      <td>496.0</td>\n",
              "      <td>177.0</td>\n",
              "      <td>7.2574</td>\n",
              "      <td>352100.0</td>\n",
              "      <td>NEAR BAY</td>\n",
              "    </tr>\n",
              "    <tr>\n",
              "      <th>3</th>\n",
              "      <td>-122.25</td>\n",
              "      <td>37.85</td>\n",
              "      <td>52.0</td>\n",
              "      <td>1274.0</td>\n",
              "      <td>235.0</td>\n",
              "      <td>558.0</td>\n",
              "      <td>219.0</td>\n",
              "      <td>5.6431</td>\n",
              "      <td>341300.0</td>\n",
              "      <td>NEAR BAY</td>\n",
              "    </tr>\n",
              "    <tr>\n",
              "      <th>4</th>\n",
              "      <td>-122.25</td>\n",
              "      <td>37.85</td>\n",
              "      <td>52.0</td>\n",
              "      <td>1627.0</td>\n",
              "      <td>280.0</td>\n",
              "      <td>565.0</td>\n",
              "      <td>259.0</td>\n",
              "      <td>3.8462</td>\n",
              "      <td>342200.0</td>\n",
              "      <td>NEAR BAY</td>\n",
              "    </tr>\n",
              "  </tbody>\n",
              "</table>\n",
              "</div>"
            ],
            "text/plain": [
              "   longitude  latitude  ...  median_house_value  ocean_proximity\n",
              "0    -122.23     37.88  ...            452600.0         NEAR BAY\n",
              "1    -122.22     37.86  ...            358500.0         NEAR BAY\n",
              "2    -122.24     37.85  ...            352100.0         NEAR BAY\n",
              "3    -122.25     37.85  ...            341300.0         NEAR BAY\n",
              "4    -122.25     37.85  ...            342200.0         NEAR BAY\n",
              "\n",
              "[5 rows x 10 columns]"
            ]
          },
          "metadata": {
            "tags": []
          },
          "execution_count": 5
        }
      ]
    },
    {
      "cell_type": "code",
      "metadata": {
        "id": "gDvckx42f8Gw",
        "colab_type": "code",
        "outputId": "13387a7f-b45e-430f-db51-ece6db34af3b",
        "colab": {
          "base_uri": "https://localhost:8080/",
          "height": 0
        }
      },
      "source": [
        "housing.info()"
      ],
      "execution_count": 6,
      "outputs": [
        {
          "output_type": "stream",
          "text": [
            "<class 'pandas.core.frame.DataFrame'>\n",
            "RangeIndex: 20640 entries, 0 to 20639\n",
            "Data columns (total 10 columns):\n",
            "longitude             20640 non-null float64\n",
            "latitude              20640 non-null float64\n",
            "housing_median_age    20640 non-null float64\n",
            "total_rooms           20640 non-null float64\n",
            "total_bedrooms        20433 non-null float64\n",
            "population            20640 non-null float64\n",
            "households            20640 non-null float64\n",
            "median_income         20640 non-null float64\n",
            "median_house_value    20640 non-null float64\n",
            "ocean_proximity       20640 non-null object\n",
            "dtypes: float64(9), object(1)\n",
            "memory usage: 1.6+ MB\n"
          ],
          "name": "stdout"
        }
      ]
    },
    {
      "cell_type": "code",
      "metadata": {
        "id": "xDLS3FYeiFbR",
        "colab_type": "code",
        "outputId": "81f651df-d411-461c-f412-c57758f3a6a8",
        "colab": {
          "base_uri": "https://localhost:8080/",
          "height": 0
        }
      },
      "source": [
        "housing['ocean_proximity'].value_counts()"
      ],
      "execution_count": 7,
      "outputs": [
        {
          "output_type": "execute_result",
          "data": {
            "text/plain": [
              "<1H OCEAN     9136\n",
              "INLAND        6551\n",
              "NEAR OCEAN    2658\n",
              "NEAR BAY      2290\n",
              "ISLAND           5\n",
              "Name: ocean_proximity, dtype: int64"
            ]
          },
          "metadata": {
            "tags": []
          },
          "execution_count": 7
        }
      ]
    },
    {
      "cell_type": "code",
      "metadata": {
        "id": "uFv23T4qktqM",
        "colab_type": "code",
        "outputId": "e2c90756-394e-4010-f546-4c9795176893",
        "colab": {
          "base_uri": "https://localhost:8080/",
          "height": 0
        }
      },
      "source": [
        "housing.describe()"
      ],
      "execution_count": 8,
      "outputs": [
        {
          "output_type": "execute_result",
          "data": {
            "text/html": [
              "<div>\n",
              "<style scoped>\n",
              "    .dataframe tbody tr th:only-of-type {\n",
              "        vertical-align: middle;\n",
              "    }\n",
              "\n",
              "    .dataframe tbody tr th {\n",
              "        vertical-align: top;\n",
              "    }\n",
              "\n",
              "    .dataframe thead th {\n",
              "        text-align: right;\n",
              "    }\n",
              "</style>\n",
              "<table border=\"1\" class=\"dataframe\">\n",
              "  <thead>\n",
              "    <tr style=\"text-align: right;\">\n",
              "      <th></th>\n",
              "      <th>longitude</th>\n",
              "      <th>latitude</th>\n",
              "      <th>housing_median_age</th>\n",
              "      <th>total_rooms</th>\n",
              "      <th>total_bedrooms</th>\n",
              "      <th>population</th>\n",
              "      <th>households</th>\n",
              "      <th>median_income</th>\n",
              "      <th>median_house_value</th>\n",
              "    </tr>\n",
              "  </thead>\n",
              "  <tbody>\n",
              "    <tr>\n",
              "      <th>count</th>\n",
              "      <td>20640.000000</td>\n",
              "      <td>20640.000000</td>\n",
              "      <td>20640.000000</td>\n",
              "      <td>20640.000000</td>\n",
              "      <td>20433.000000</td>\n",
              "      <td>20640.000000</td>\n",
              "      <td>20640.000000</td>\n",
              "      <td>20640.000000</td>\n",
              "      <td>20640.000000</td>\n",
              "    </tr>\n",
              "    <tr>\n",
              "      <th>mean</th>\n",
              "      <td>-119.569704</td>\n",
              "      <td>35.631861</td>\n",
              "      <td>28.639486</td>\n",
              "      <td>2635.763081</td>\n",
              "      <td>537.870553</td>\n",
              "      <td>1425.476744</td>\n",
              "      <td>499.539680</td>\n",
              "      <td>3.870671</td>\n",
              "      <td>206855.816909</td>\n",
              "    </tr>\n",
              "    <tr>\n",
              "      <th>std</th>\n",
              "      <td>2.003532</td>\n",
              "      <td>2.135952</td>\n",
              "      <td>12.585558</td>\n",
              "      <td>2181.615252</td>\n",
              "      <td>421.385070</td>\n",
              "      <td>1132.462122</td>\n",
              "      <td>382.329753</td>\n",
              "      <td>1.899822</td>\n",
              "      <td>115395.615874</td>\n",
              "    </tr>\n",
              "    <tr>\n",
              "      <th>min</th>\n",
              "      <td>-124.350000</td>\n",
              "      <td>32.540000</td>\n",
              "      <td>1.000000</td>\n",
              "      <td>2.000000</td>\n",
              "      <td>1.000000</td>\n",
              "      <td>3.000000</td>\n",
              "      <td>1.000000</td>\n",
              "      <td>0.499900</td>\n",
              "      <td>14999.000000</td>\n",
              "    </tr>\n",
              "    <tr>\n",
              "      <th>25%</th>\n",
              "      <td>-121.800000</td>\n",
              "      <td>33.930000</td>\n",
              "      <td>18.000000</td>\n",
              "      <td>1447.750000</td>\n",
              "      <td>296.000000</td>\n",
              "      <td>787.000000</td>\n",
              "      <td>280.000000</td>\n",
              "      <td>2.563400</td>\n",
              "      <td>119600.000000</td>\n",
              "    </tr>\n",
              "    <tr>\n",
              "      <th>50%</th>\n",
              "      <td>-118.490000</td>\n",
              "      <td>34.260000</td>\n",
              "      <td>29.000000</td>\n",
              "      <td>2127.000000</td>\n",
              "      <td>435.000000</td>\n",
              "      <td>1166.000000</td>\n",
              "      <td>409.000000</td>\n",
              "      <td>3.534800</td>\n",
              "      <td>179700.000000</td>\n",
              "    </tr>\n",
              "    <tr>\n",
              "      <th>75%</th>\n",
              "      <td>-118.010000</td>\n",
              "      <td>37.710000</td>\n",
              "      <td>37.000000</td>\n",
              "      <td>3148.000000</td>\n",
              "      <td>647.000000</td>\n",
              "      <td>1725.000000</td>\n",
              "      <td>605.000000</td>\n",
              "      <td>4.743250</td>\n",
              "      <td>264725.000000</td>\n",
              "    </tr>\n",
              "    <tr>\n",
              "      <th>max</th>\n",
              "      <td>-114.310000</td>\n",
              "      <td>41.950000</td>\n",
              "      <td>52.000000</td>\n",
              "      <td>39320.000000</td>\n",
              "      <td>6445.000000</td>\n",
              "      <td>35682.000000</td>\n",
              "      <td>6082.000000</td>\n",
              "      <td>15.000100</td>\n",
              "      <td>500001.000000</td>\n",
              "    </tr>\n",
              "  </tbody>\n",
              "</table>\n",
              "</div>"
            ],
            "text/plain": [
              "          longitude      latitude  ...  median_income  median_house_value\n",
              "count  20640.000000  20640.000000  ...   20640.000000        20640.000000\n",
              "mean    -119.569704     35.631861  ...       3.870671       206855.816909\n",
              "std        2.003532      2.135952  ...       1.899822       115395.615874\n",
              "min     -124.350000     32.540000  ...       0.499900        14999.000000\n",
              "25%     -121.800000     33.930000  ...       2.563400       119600.000000\n",
              "50%     -118.490000     34.260000  ...       3.534800       179700.000000\n",
              "75%     -118.010000     37.710000  ...       4.743250       264725.000000\n",
              "max     -114.310000     41.950000  ...      15.000100       500001.000000\n",
              "\n",
              "[8 rows x 9 columns]"
            ]
          },
          "metadata": {
            "tags": []
          },
          "execution_count": 8
        }
      ]
    },
    {
      "cell_type": "code",
      "metadata": {
        "id": "ZN9-ElvUkvy5",
        "colab_type": "code",
        "outputId": "7f3a0cab-b6f8-4014-dcff-e5463fdd7e6d",
        "colab": {
          "base_uri": "https://localhost:8080/",
          "height": 0
        }
      },
      "source": [
        "%matplotlib inline\n",
        "import matplotlib.pyplot as plt\n",
        "housing.hist(bins=20, figsize=(15,8))\n",
        "plt.show()"
      ],
      "execution_count": 9,
      "outputs": [
        {
          "output_type": "display_data",
          "data": {
            "image/png": "[encoded data removed]",
            "text/plain": [
              "<Figure size 1080x576 with 9 Axes>"
            ]
          },
          "metadata": {
            "tags": []
          }
        }
      ]
    },
    {
      "cell_type": "code",
      "metadata": {
        "id": "GYXurJXoluaJ",
        "colab_type": "code",
        "colab": {}
      },
      "source": [
        "import numpy as np\n",
        "\n",
        "def split_train_test(data, test_ratio):\n",
        "  np.random.seed(42)\n",
        "  shuffled_indices = np.random.permutation(len(data))\n",
        "  # print(shuffled_indices)\n",
        "  test_set_size = int(len(data) * test_ratio)\n",
        "  test_indices = shuffled_indices[:test_set_size]\n",
        "  train_indices = shuffled_indices[test_set_size:]\n",
        "  return data.iloc[train_indices], data.iloc[test_indices]"
      ],
      "execution_count": 0,
      "outputs": []
    },
    {
      "cell_type": "code",
      "metadata": {
        "id": "qzKZK5bbrQzZ",
        "colab_type": "code",
        "colab": {}
      },
      "source": [
        "train_set, test_set = split_train_test(housing, 0.2)"
      ],
      "execution_count": 0,
      "outputs": []
    },
    {
      "cell_type": "code",
      "metadata": {
        "id": "5FYp2pIrgGcB",
        "colab_type": "code",
        "outputId": "ce41a587-2d30-4d6a-d119-c03586c51970",
        "colab": {
          "base_uri": "https://localhost:8080/",
          "height": 0
        }
      },
      "source": [
        "test_set.head()"
      ],
      "execution_count": 12,
      "outputs": [
        {
          "output_type": "execute_result",
          "data": {
            "text/html": [
              "<div>\n",
              "<style scoped>\n",
              "    .dataframe tbody tr th:only-of-type {\n",
              "        vertical-align: middle;\n",
              "    }\n",
              "\n",
              "    .dataframe tbody tr th {\n",
              "        vertical-align: top;\n",
              "    }\n",
              "\n",
              "    .dataframe thead th {\n",
              "        text-align: right;\n",
              "    }\n",
              "</style>\n",
              "<table border=\"1\" class=\"dataframe\">\n",
              "  <thead>\n",
              "    <tr style=\"text-align: right;\">\n",
              "      <th></th>\n",
              "      <th>longitude</th>\n",
              "      <th>latitude</th>\n",
              "      <th>housing_median_age</th>\n",
              "      <th>total_rooms</th>\n",
              "      <th>total_bedrooms</th>\n",
              "      <th>population</th>\n",
              "      <th>households</th>\n",
              "      <th>median_income</th>\n",
              "      <th>median_house_value</th>\n",
              "      <th>ocean_proximity</th>\n",
              "    </tr>\n",
              "  </thead>\n",
              "  <tbody>\n",
              "    <tr>\n",
              "      <th>20046</th>\n",
              "      <td>-119.01</td>\n",
              "      <td>36.06</td>\n",
              "      <td>25.0</td>\n",
              "      <td>1505.0</td>\n",
              "      <td>NaN</td>\n",
              "      <td>1392.0</td>\n",
              "      <td>359.0</td>\n",
              "      <td>1.6812</td>\n",
              "      <td>47700.0</td>\n",
              "      <td>INLAND</td>\n",
              "    </tr>\n",
              "    <tr>\n",
              "      <th>3024</th>\n",
              "      <td>-119.46</td>\n",
              "      <td>35.14</td>\n",
              "      <td>30.0</td>\n",
              "      <td>2943.0</td>\n",
              "      <td>NaN</td>\n",
              "      <td>1565.0</td>\n",
              "      <td>584.0</td>\n",
              "      <td>2.5313</td>\n",
              "      <td>45800.0</td>\n",
              "      <td>INLAND</td>\n",
              "    </tr>\n",
              "    <tr>\n",
              "      <th>15663</th>\n",
              "      <td>-122.44</td>\n",
              "      <td>37.80</td>\n",
              "      <td>52.0</td>\n",
              "      <td>3830.0</td>\n",
              "      <td>NaN</td>\n",
              "      <td>1310.0</td>\n",
              "      <td>963.0</td>\n",
              "      <td>3.4801</td>\n",
              "      <td>500001.0</td>\n",
              "      <td>NEAR BAY</td>\n",
              "    </tr>\n",
              "    <tr>\n",
              "      <th>20484</th>\n",
              "      <td>-118.72</td>\n",
              "      <td>34.28</td>\n",
              "      <td>17.0</td>\n",
              "      <td>3051.0</td>\n",
              "      <td>NaN</td>\n",
              "      <td>1705.0</td>\n",
              "      <td>495.0</td>\n",
              "      <td>5.7376</td>\n",
              "      <td>218600.0</td>\n",
              "      <td>&lt;1H OCEAN</td>\n",
              "    </tr>\n",
              "    <tr>\n",
              "      <th>9814</th>\n",
              "      <td>-121.93</td>\n",
              "      <td>36.62</td>\n",
              "      <td>34.0</td>\n",
              "      <td>2351.0</td>\n",
              "      <td>NaN</td>\n",
              "      <td>1063.0</td>\n",
              "      <td>428.0</td>\n",
              "      <td>3.7250</td>\n",
              "      <td>278000.0</td>\n",
              "      <td>NEAR OCEAN</td>\n",
              "    </tr>\n",
              "  </tbody>\n",
              "</table>\n",
              "</div>"
            ],
            "text/plain": [
              "       longitude  latitude  ...  median_house_value  ocean_proximity\n",
              "20046    -119.01     36.06  ...             47700.0           INLAND\n",
              "3024     -119.46     35.14  ...             45800.0           INLAND\n",
              "15663    -122.44     37.80  ...            500001.0         NEAR BAY\n",
              "20484    -118.72     34.28  ...            218600.0        <1H OCEAN\n",
              "9814     -121.93     36.62  ...            278000.0       NEAR OCEAN\n",
              "\n",
              "[5 rows x 10 columns]"
            ]
          },
          "metadata": {
            "tags": []
          },
          "execution_count": 12
        }
      ]
    },
    {
      "cell_type": "code",
      "metadata": {
        "id": "xnnElvgZrcdq",
        "colab_type": "code",
        "outputId": "f2f34369-9065-4ce5-c690-681b77358a95",
        "colab": {
          "base_uri": "https://localhost:8080/",
          "height": 0
        }
      },
      "source": [
        "print(f'Rows in train set: {len(train_set)}\\nRows in test set: {len(test_set)}')"
      ],
      "execution_count": 13,
      "outputs": [
        {
          "output_type": "stream",
          "text": [
            "Rows in train set: 16512\n",
            "Rows in test set: 4128\n"
          ],
          "name": "stdout"
        }
      ]
    },
    {
      "cell_type": "code",
      "metadata": {
        "id": "zyfv371Ryb9T",
        "colab_type": "code",
        "colab": {}
      },
      "source": [
        "from zlib import crc32\n",
        "\n",
        "def test_set_check(identifier, test_ratio):\n",
        "    return crc32(np.int64(identifier)) & 0xffffffff < test_ratio * 2**32\n",
        "\n",
        "def split_train_test_by_id(data, test_ratio, id_column):\n",
        "    ids = data[id_column]\n",
        "    in_test_set = ids.apply(lambda id_: test_set_check(id_, test_ratio))\n",
        "    return data.loc[~in_test_set], data.loc[in_test_set]\n",
        "\n",
        "# import hashlib\n",
        "\n",
        "# def test_set_check(identifier, test_ratio, hash=hashlib.md5):\n",
        "#     return hash(np.int64(identifier)).digest()[-1] < 256 * test_ratio\n",
        "\n",
        "# def test_set_check(identifier, test_ratio, hash=hashlib.md5):\n",
        "#     return bytearray(hash(np.int64(identifier)).digest())[-1] < 256 * test_ratio"
      ],
      "execution_count": 0,
      "outputs": []
    },
    {
      "cell_type": "code",
      "metadata": {
        "id": "aH0PnpWzyeGv",
        "colab_type": "code",
        "colab": {}
      },
      "source": [
        "housing_with_id = housing.reset_index()\n",
        "train_set, test_set = split_train_test_by_id(housing_with_id, 0.2, \"index\")"
      ],
      "execution_count": 0,
      "outputs": []
    },
    {
      "cell_type": "code",
      "metadata": {
        "id": "23qa3ZYvyjC6",
        "colab_type": "code",
        "colab": {}
      },
      "source": [
        "housing_with_id['id'] = housing['longitude'] * 1000 + housing['latitude']\n",
        "train_set, test_set = split_train_test_by_id(housing_with_id, 0.2, 'id')"
      ],
      "execution_count": 0,
      "outputs": []
    },
    {
      "cell_type": "code",
      "metadata": {
        "id": "T8w0GqPrynDD",
        "colab_type": "code",
        "outputId": "b1c712fb-23d1-4f80-e5e7-9bb579427348",
        "colab": {
          "base_uri": "https://localhost:8080/",
          "height": 0
        }
      },
      "source": [
        "test_set.head()"
      ],
      "execution_count": 17,
      "outputs": [
        {
          "output_type": "execute_result",
          "data": {
            "text/html": [
              "<div>\n",
              "<style scoped>\n",
              "    .dataframe tbody tr th:only-of-type {\n",
              "        vertical-align: middle;\n",
              "    }\n",
              "\n",
              "    .dataframe tbody tr th {\n",
              "        vertical-align: top;\n",
              "    }\n",
              "\n",
              "    .dataframe thead th {\n",
              "        text-align: right;\n",
              "    }\n",
              "</style>\n",
              "<table border=\"1\" class=\"dataframe\">\n",
              "  <thead>\n",
              "    <tr style=\"text-align: right;\">\n",
              "      <th></th>\n",
              "      <th>index</th>\n",
              "      <th>longitude</th>\n",
              "      <th>latitude</th>\n",
              "      <th>housing_median_age</th>\n",
              "      <th>total_rooms</th>\n",
              "      <th>total_bedrooms</th>\n",
              "      <th>population</th>\n",
              "      <th>households</th>\n",
              "      <th>median_income</th>\n",
              "      <th>median_house_value</th>\n",
              "      <th>ocean_proximity</th>\n",
              "      <th>id</th>\n",
              "    </tr>\n",
              "  </thead>\n",
              "  <tbody>\n",
              "    <tr>\n",
              "      <th>59</th>\n",
              "      <td>59</td>\n",
              "      <td>-122.29</td>\n",
              "      <td>37.82</td>\n",
              "      <td>2.0</td>\n",
              "      <td>158.0</td>\n",
              "      <td>43.0</td>\n",
              "      <td>94.0</td>\n",
              "      <td>57.0</td>\n",
              "      <td>2.5625</td>\n",
              "      <td>60000.0</td>\n",
              "      <td>NEAR BAY</td>\n",
              "      <td>-122252.18</td>\n",
              "    </tr>\n",
              "    <tr>\n",
              "      <th>60</th>\n",
              "      <td>60</td>\n",
              "      <td>-122.29</td>\n",
              "      <td>37.83</td>\n",
              "      <td>52.0</td>\n",
              "      <td>1121.0</td>\n",
              "      <td>211.0</td>\n",
              "      <td>554.0</td>\n",
              "      <td>187.0</td>\n",
              "      <td>3.3929</td>\n",
              "      <td>75700.0</td>\n",
              "      <td>NEAR BAY</td>\n",
              "      <td>-122252.17</td>\n",
              "    </tr>\n",
              "    <tr>\n",
              "      <th>61</th>\n",
              "      <td>61</td>\n",
              "      <td>-122.29</td>\n",
              "      <td>37.82</td>\n",
              "      <td>49.0</td>\n",
              "      <td>135.0</td>\n",
              "      <td>29.0</td>\n",
              "      <td>86.0</td>\n",
              "      <td>23.0</td>\n",
              "      <td>6.1183</td>\n",
              "      <td>75000.0</td>\n",
              "      <td>NEAR BAY</td>\n",
              "      <td>-122252.18</td>\n",
              "    </tr>\n",
              "    <tr>\n",
              "      <th>62</th>\n",
              "      <td>62</td>\n",
              "      <td>-122.29</td>\n",
              "      <td>37.81</td>\n",
              "      <td>50.0</td>\n",
              "      <td>760.0</td>\n",
              "      <td>190.0</td>\n",
              "      <td>377.0</td>\n",
              "      <td>122.0</td>\n",
              "      <td>0.9011</td>\n",
              "      <td>86100.0</td>\n",
              "      <td>NEAR BAY</td>\n",
              "      <td>-122252.19</td>\n",
              "    </tr>\n",
              "    <tr>\n",
              "      <th>67</th>\n",
              "      <td>67</td>\n",
              "      <td>-122.29</td>\n",
              "      <td>37.80</td>\n",
              "      <td>52.0</td>\n",
              "      <td>1027.0</td>\n",
              "      <td>244.0</td>\n",
              "      <td>492.0</td>\n",
              "      <td>147.0</td>\n",
              "      <td>2.6094</td>\n",
              "      <td>81300.0</td>\n",
              "      <td>NEAR BAY</td>\n",
              "      <td>-122252.20</td>\n",
              "    </tr>\n",
              "  </tbody>\n",
              "</table>\n",
              "</div>"
            ],
            "text/plain": [
              "    index  longitude  latitude  ...  median_house_value  ocean_proximity         id\n",
              "59     59    -122.29     37.82  ...             60000.0         NEAR BAY -122252.18\n",
              "60     60    -122.29     37.83  ...             75700.0         NEAR BAY -122252.17\n",
              "61     61    -122.29     37.82  ...             75000.0         NEAR BAY -122252.18\n",
              "62     62    -122.29     37.81  ...             86100.0         NEAR BAY -122252.19\n",
              "67     67    -122.29     37.80  ...             81300.0         NEAR BAY -122252.20\n",
              "\n",
              "[5 rows x 12 columns]"
            ]
          },
          "metadata": {
            "tags": []
          },
          "execution_count": 17
        }
      ]
    },
    {
      "cell_type": "code",
      "metadata": {
        "id": "kB88DFiZyq3I",
        "colab_type": "code",
        "colab": {}
      },
      "source": [
        "from sklearn.model_selection import train_test_split\n",
        "train_set, test_set = train_test_split(housing, test_size=0.2, random_state=42)"
      ],
      "execution_count": 0,
      "outputs": []
    },
    {
      "cell_type": "code",
      "metadata": {
        "id": "Au2v7UIdyxTH",
        "colab_type": "code",
        "outputId": "066e5030-374c-464a-f1a5-f11227e80f5e",
        "colab": {
          "base_uri": "https://localhost:8080/",
          "height": 0
        }
      },
      "source": [
        "test_set.head()"
      ],
      "execution_count": 19,
      "outputs": [
        {
          "output_type": "execute_result",
          "data": {
            "text/html": [
              "<div>\n",
              "<style scoped>\n",
              "    .dataframe tbody tr th:only-of-type {\n",
              "        vertical-align: middle;\n",
              "    }\n",
              "\n",
              "    .dataframe tbody tr th {\n",
              "        vertical-align: top;\n",
              "    }\n",
              "\n",
              "    .dataframe thead th {\n",
              "        text-align: right;\n",
              "    }\n",
              "</style>\n",
              "<table border=\"1\" class=\"dataframe\">\n",
              "  <thead>\n",
              "    <tr style=\"text-align: right;\">\n",
              "      <th></th>\n",
              "      <th>longitude</th>\n",
              "      <th>latitude</th>\n",
              "      <th>housing_median_age</th>\n",
              "      <th>total_rooms</th>\n",
              "      <th>total_bedrooms</th>\n",
              "      <th>population</th>\n",
              "      <th>households</th>\n",
              "      <th>median_income</th>\n",
              "      <th>median_house_value</th>\n",
              "      <th>ocean_proximity</th>\n",
              "    </tr>\n",
              "  </thead>\n",
              "  <tbody>\n",
              "    <tr>\n",
              "      <th>20046</th>\n",
              "      <td>-119.01</td>\n",
              "      <td>36.06</td>\n",
              "      <td>25.0</td>\n",
              "      <td>1505.0</td>\n",
              "      <td>NaN</td>\n",
              "      <td>1392.0</td>\n",
              "      <td>359.0</td>\n",
              "      <td>1.6812</td>\n",
              "      <td>47700.0</td>\n",
              "      <td>INLAND</td>\n",
              "    </tr>\n",
              "    <tr>\n",
              "      <th>3024</th>\n",
              "      <td>-119.46</td>\n",
              "      <td>35.14</td>\n",
              "      <td>30.0</td>\n",
              "      <td>2943.0</td>\n",
              "      <td>NaN</td>\n",
              "      <td>1565.0</td>\n",
              "      <td>584.0</td>\n",
              "      <td>2.5313</td>\n",
              "      <td>45800.0</td>\n",
              "      <td>INLAND</td>\n",
              "    </tr>\n",
              "    <tr>\n",
              "      <th>15663</th>\n",
              "      <td>-122.44</td>\n",
              "      <td>37.80</td>\n",
              "      <td>52.0</td>\n",
              "      <td>3830.0</td>\n",
              "      <td>NaN</td>\n",
              "      <td>1310.0</td>\n",
              "      <td>963.0</td>\n",
              "      <td>3.4801</td>\n",
              "      <td>500001.0</td>\n",
              "      <td>NEAR BAY</td>\n",
              "    </tr>\n",
              "    <tr>\n",
              "      <th>20484</th>\n",
              "      <td>-118.72</td>\n",
              "      <td>34.28</td>\n",
              "      <td>17.0</td>\n",
              "      <td>3051.0</td>\n",
              "      <td>NaN</td>\n",
              "      <td>1705.0</td>\n",
              "      <td>495.0</td>\n",
              "      <td>5.7376</td>\n",
              "      <td>218600.0</td>\n",
              "      <td>&lt;1H OCEAN</td>\n",
              "    </tr>\n",
              "    <tr>\n",
              "      <th>9814</th>\n",
              "      <td>-121.93</td>\n",
              "      <td>36.62</td>\n",
              "      <td>34.0</td>\n",
              "      <td>2351.0</td>\n",
              "      <td>NaN</td>\n",
              "      <td>1063.0</td>\n",
              "      <td>428.0</td>\n",
              "      <td>3.7250</td>\n",
              "      <td>278000.0</td>\n",
              "      <td>NEAR OCEAN</td>\n",
              "    </tr>\n",
              "  </tbody>\n",
              "</table>\n",
              "</div>"
            ],
            "text/plain": [
              "       longitude  latitude  ...  median_house_value  ocean_proximity\n",
              "20046    -119.01     36.06  ...             47700.0           INLAND\n",
              "3024     -119.46     35.14  ...             45800.0           INLAND\n",
              "15663    -122.44     37.80  ...            500001.0         NEAR BAY\n",
              "20484    -118.72     34.28  ...            218600.0        <1H OCEAN\n",
              "9814     -121.93     36.62  ...            278000.0       NEAR OCEAN\n",
              "\n",
              "[5 rows x 10 columns]"
            ]
          },
          "metadata": {
            "tags": []
          },
          "execution_count": 19
        }
      ]
    },
    {
      "cell_type": "code",
      "metadata": {
        "id": "i3098_UIgRQF",
        "colab_type": "code",
        "outputId": "89030b84-791b-4b74-c852-fcfd5f3c1be5",
        "colab": {
          "base_uri": "https://localhost:8080/",
          "height": 0
        }
      },
      "source": [
        "housing['median_income'].hist(bins=50)"
      ],
      "execution_count": 20,
      "outputs": [
        {
          "output_type": "execute_result",
          "data": {
            "text/plain": [
              "<matplotlib.axes._subplots.AxesSubplot at 0x7f9e0973f0f0>"
            ]
          },
          "metadata": {
            "tags": []
          },
          "execution_count": 20
        },
        {
          "output_type": "display_data",
          "data": {
            "image/png": "[encoded data removed]",
            "text/plain": [
              "<Figure size 432x288 with 1 Axes>"
            ]
          },
          "metadata": {
            "tags": []
          }
        }
      ]
    },
    {
      "cell_type": "code",
      "metadata": {
        "id": "LisetuXhhg6n",
        "colab_type": "code",
        "colab": {}
      },
      "source": [
        "housing['income_cat'] = pd.cut(housing['median_income'], \n",
        "                               bins=[0., 1.5, 3.0, 4.5, 6, np.inf], \n",
        "                               labels=[1, 2, 3, 4, 5])"
      ],
      "execution_count": 0,
      "outputs": []
    },
    {
      "cell_type": "code",
      "metadata": {
        "id": "WKBvtdJKi-V8",
        "colab_type": "code",
        "outputId": "a6efb427-6764-4552-cbc4-08f1dfb266d0",
        "colab": {
          "base_uri": "https://localhost:8080/",
          "height": 0
        }
      },
      "source": [
        "housing['income_cat'].value_counts()"
      ],
      "execution_count": 22,
      "outputs": [
        {
          "output_type": "execute_result",
          "data": {
            "text/plain": [
              "3    7236\n",
              "2    6581\n",
              "4    3639\n",
              "5    2362\n",
              "1     822\n",
              "Name: income_cat, dtype: int64"
            ]
          },
          "metadata": {
            "tags": []
          },
          "execution_count": 22
        }
      ]
    },
    {
      "cell_type": "code",
      "metadata": {
        "id": "g00NPi1vjEi-",
        "colab_type": "code",
        "outputId": "33a40015-28bc-4701-dd94-632317e63192",
        "colab": {
          "base_uri": "https://localhost:8080/",
          "height": 0
        }
      },
      "source": [
        "housing['income_cat'].hist()"
      ],
      "execution_count": 23,
      "outputs": [
        {
          "output_type": "execute_result",
          "data": {
            "text/plain": [
              "<matplotlib.axes._subplots.AxesSubplot at 0x7f9e09424588>"
            ]
          },
          "metadata": {
            "tags": []
          },
          "execution_count": 23
        },
        {
          "output_type": "display_data",
          "data": {
            "image/png": "[encoded data removed]",
            "text/plain": [
              "<Figure size 432x288 with 1 Axes>"
            ]
          },
          "metadata": {
            "tags": []
          }
        }
      ]
    },
    {
      "cell_type": "code",
      "metadata": {
        "id": "28gu1JGijgLl",
        "colab_type": "code",
        "colab": {}
      },
      "source": [
        "# stratified shuffle on income_cat column\n",
        "from sklearn.model_selection import StratifiedShuffleSplit\n",
        "\n",
        "splits = StratifiedShuffleSplit(n_splits=1, test_size=0.2, random_state=42)\n",
        "\n",
        "for train_index, test_index in splits.split(housing, housing['income_cat']):\n",
        "  strat_train_set = housing.loc[train_index]\n",
        "  strat_test_set = housing.loc[test_index]"
      ],
      "execution_count": 0,
      "outputs": []
    },
    {
      "cell_type": "code",
      "metadata": {
        "id": "rkCqali1nIHN",
        "colab_type": "code",
        "outputId": "623cbc0e-1cf2-4d8e-ed71-9f8719b8eacc",
        "colab": {
          "base_uri": "https://localhost:8080/",
          "height": 0
        }
      },
      "source": [
        "strat_test_set['income_cat'].value_counts() / len(strat_test_set)"
      ],
      "execution_count": 25,
      "outputs": [
        {
          "output_type": "execute_result",
          "data": {
            "text/plain": [
              "3    0.350533\n",
              "2    0.318798\n",
              "4    0.176357\n",
              "5    0.114583\n",
              "1    0.039729\n",
              "Name: income_cat, dtype: float64"
            ]
          },
          "metadata": {
            "tags": []
          },
          "execution_count": 25
        }
      ]
    },
    {
      "cell_type": "code",
      "metadata": {
        "id": "ZFzcARQAoiXO",
        "colab_type": "code",
        "outputId": "31a514f9-ecc6-43bc-9aca-42531a2c55d7",
        "colab": {
          "base_uri": "https://localhost:8080/",
          "height": 0
        }
      },
      "source": [
        "housing['income_cat'].value_counts() / len(housing)"
      ],
      "execution_count": 26,
      "outputs": [
        {
          "output_type": "execute_result",
          "data": {
            "text/plain": [
              "3    0.350581\n",
              "2    0.318847\n",
              "4    0.176308\n",
              "5    0.114438\n",
              "1    0.039826\n",
              "Name: income_cat, dtype: float64"
            ]
          },
          "metadata": {
            "tags": []
          },
          "execution_count": 26
        }
      ]
    },
    {
      "cell_type": "code",
      "metadata": {
        "id": "IlsmDAPT53cn",
        "colab_type": "code",
        "colab": {}
      },
      "source": [
        "# error comparison of strat and random \n",
        "def income_cat_proportions(data):\n",
        "    return data[\"income_cat\"].value_counts() / len(data)\n",
        "\n",
        "train_set, test_set = train_test_split(housing, test_size=0.2, random_state=42)\n",
        "\n",
        "compare_props = pd.DataFrame({\n",
        "    \"Overall\": income_cat_proportions(housing),\n",
        "    \"Stratified\": income_cat_proportions(strat_test_set),\n",
        "    \"Random\": income_cat_proportions(test_set),\n",
        "}).sort_index()\n",
        "compare_props[\"Rand. %error\"] = 100 * compare_props[\"Random\"] / compare_props[\"Overall\"] - 100\n",
        "compare_props[\"Strat. %error\"] = 100 * compare_props[\"Stratified\"] / compare_props[\"Overall\"] - 100"
      ],
      "execution_count": 0,
      "outputs": []
    },
    {
      "cell_type": "code",
      "metadata": {
        "id": "U3Kr9ZO754LR",
        "colab_type": "code",
        "outputId": "38ed8ec1-5554-4634-fd8c-4c0c2b83f34d",
        "colab": {
          "base_uri": "https://localhost:8080/",
          "height": 0
        }
      },
      "source": [
        "compare_props"
      ],
      "execution_count": 28,
      "outputs": [
        {
          "output_type": "execute_result",
          "data": {
            "text/html": [
              "<div>\n",
              "<style scoped>\n",
              "    .dataframe tbody tr th:only-of-type {\n",
              "        vertical-align: middle;\n",
              "    }\n",
              "\n",
              "    .dataframe tbody tr th {\n",
              "        vertical-align: top;\n",
              "    }\n",
              "\n",
              "    .dataframe thead th {\n",
              "        text-align: right;\n",
              "    }\n",
              "</style>\n",
              "<table border=\"1\" class=\"dataframe\">\n",
              "  <thead>\n",
              "    <tr style=\"text-align: right;\">\n",
              "      <th></th>\n",
              "      <th>Overall</th>\n",
              "      <th>Stratified</th>\n",
              "      <th>Random</th>\n",
              "      <th>Rand. %error</th>\n",
              "      <th>Strat. %error</th>\n",
              "    </tr>\n",
              "  </thead>\n",
              "  <tbody>\n",
              "    <tr>\n",
              "      <th>1</th>\n",
              "      <td>0.039826</td>\n",
              "      <td>0.039729</td>\n",
              "      <td>0.040213</td>\n",
              "      <td>0.973236</td>\n",
              "      <td>-0.243309</td>\n",
              "    </tr>\n",
              "    <tr>\n",
              "      <th>2</th>\n",
              "      <td>0.318847</td>\n",
              "      <td>0.318798</td>\n",
              "      <td>0.324370</td>\n",
              "      <td>1.732260</td>\n",
              "      <td>-0.015195</td>\n",
              "    </tr>\n",
              "    <tr>\n",
              "      <th>3</th>\n",
              "      <td>0.350581</td>\n",
              "      <td>0.350533</td>\n",
              "      <td>0.358527</td>\n",
              "      <td>2.266446</td>\n",
              "      <td>-0.013820</td>\n",
              "    </tr>\n",
              "    <tr>\n",
              "      <th>4</th>\n",
              "      <td>0.176308</td>\n",
              "      <td>0.176357</td>\n",
              "      <td>0.167393</td>\n",
              "      <td>-5.056334</td>\n",
              "      <td>0.027480</td>\n",
              "    </tr>\n",
              "    <tr>\n",
              "      <th>5</th>\n",
              "      <td>0.114438</td>\n",
              "      <td>0.114583</td>\n",
              "      <td>0.109496</td>\n",
              "      <td>-4.318374</td>\n",
              "      <td>0.127011</td>\n",
              "    </tr>\n",
              "  </tbody>\n",
              "</table>\n",
              "</div>"
            ],
            "text/plain": [
              "    Overall  Stratified    Random  Rand. %error  Strat. %error\n",
              "1  0.039826    0.039729  0.040213      0.973236      -0.243309\n",
              "2  0.318847    0.318798  0.324370      1.732260      -0.015195\n",
              "3  0.350581    0.350533  0.358527      2.266446      -0.013820\n",
              "4  0.176308    0.176357  0.167393     -5.056334       0.027480\n",
              "5  0.114438    0.114583  0.109496     -4.318374       0.127011"
            ]
          },
          "metadata": {
            "tags": []
          },
          "execution_count": 28
        }
      ]
    },
    {
      "cell_type": "code",
      "metadata": {
        "id": "Wl99mTyS55oD",
        "colab_type": "code",
        "colab": {}
      },
      "source": [
        "# remove income_cat from data\n",
        "for set_ in (strat_train_set, strat_test_set):\n",
        "  set_.drop(\"income_cat\", axis=1, inplace=True)"
      ],
      "execution_count": 0,
      "outputs": []
    },
    {
      "cell_type": "markdown",
      "metadata": {
        "id": "YFOzVy9O8Kml",
        "colab_type": "text"
      },
      "source": [
        "## Discover and Visualize Data (to Gain Insights)"
      ]
    },
    {
      "cell_type": "code",
      "metadata": {
        "id": "c0l_zLGF7waY",
        "colab_type": "code",
        "colab": {}
      },
      "source": [
        "# create copy of training data\n",
        "housing = strat_train_set.copy()"
      ],
      "execution_count": 0,
      "outputs": []
    },
    {
      "cell_type": "code",
      "metadata": {
        "id": "TqScw-Qz8aCn",
        "colab_type": "code",
        "outputId": "c5d2c2fa-7b46-4a45-ea6e-125c4899e6ac",
        "colab": {
          "base_uri": "https://localhost:8080/",
          "height": 0
        }
      },
      "source": [
        "# visualize all districts\n",
        "housing.plot(kind='scatter', x='longitude', y='latitude')"
      ],
      "execution_count": 31,
      "outputs": [
        {
          "output_type": "execute_result",
          "data": {
            "text/plain": [
              "<matplotlib.axes._subplots.AxesSubplot at 0x7f9e093f2908>"
            ]
          },
          "metadata": {
            "tags": []
          },
          "execution_count": 31
        },
        {
          "output_type": "display_data",
          "data": {
            "image/png": "[encoded data removed]",
            "text/plain": [
              "<Figure size 432x288 with 1 Axes>"
            ]
          },
          "metadata": {
            "tags": []
          }
        }
      ]
    },
    {
      "cell_type": "code",
      "metadata": {
        "id": "c4Td1AN38vhn",
        "colab_type": "code",
        "outputId": "7315cbe1-29f3-4328-bedf-87feb02ef3d1",
        "colab": {
          "base_uri": "https://localhost:8080/",
          "height": 0
        }
      },
      "source": [
        "# visualize all districts with high density points\n",
        "housing.plot(kind='scatter', x='longitude', y='latitude', alpha=0.1)"
      ],
      "execution_count": 32,
      "outputs": [
        {
          "output_type": "execute_result",
          "data": {
            "text/plain": [
              "<matplotlib.axes._subplots.AxesSubplot at 0x7f9e06b2e470>"
            ]
          },
          "metadata": {
            "tags": []
          },
          "execution_count": 32
        },
        {
          "output_type": "display_data",
          "data": {
            "image/png": "[encoded data removed]",
            "text/plain": [
              "<Figure size 432x288 with 1 Axes>"
            ]
          },
          "metadata": {
            "tags": []
          }
        }
      ]
    },
    {
      "cell_type": "code",
      "metadata": {
        "id": "KVS6jIUp9Sfm",
        "colab_type": "code",
        "outputId": "0565d361-d9cb-4574-ef91-1516e8f286ac",
        "colab": {
          "base_uri": "https://localhost:8080/",
          "height": 0
        }
      },
      "source": [
        "# visualize housing price\n",
        "housing.plot(kind='scatter', x='longitude', y='latitude', alpha=0.5,\n",
        "             s=housing['population']/100, label='population', figsize=(10,6),\n",
        "             c='median_house_value', cmap=plt.get_cmap('jet'), colorbar=True,\n",
        "             sharex=False)\n",
        "plt.legend()"
      ],
      "execution_count": 33,
      "outputs": [
        {
          "output_type": "execute_result",
          "data": {
            "text/plain": [
              "<matplotlib.legend.Legend at 0x7f9e09394ef0>"
            ]
          },
          "metadata": {
            "tags": []
          },
          "execution_count": 33
        },
        {
          "output_type": "display_data",
          "data": {
            "image/png": "[encoded data removed]",
            "text/plain": [
              "<Figure size 720x432 with 2 Axes>"
            ]
          },
          "metadata": {
            "tags": []
          }
        }
      ]
    },
    {
      "cell_type": "code",
      "metadata": {
        "id": "Sn-Kgu63-KS8",
        "colab_type": "code",
        "colab": {}
      },
      "source": [
        "corr_matrix = housing.corr()"
      ],
      "execution_count": 0,
      "outputs": []
    },
    {
      "cell_type": "code",
      "metadata": {
        "id": "NIqi80AzA18B",
        "colab_type": "code",
        "outputId": "1e6d9306-d8d7-42e6-b072-18f2f8fa4a06",
        "colab": {
          "base_uri": "https://localhost:8080/",
          "height": 0
        }
      },
      "source": [
        "corr_matrix['median_house_value'].sort_values(ascending=False)"
      ],
      "execution_count": 35,
      "outputs": [
        {
          "output_type": "execute_result",
          "data": {
            "text/plain": [
              "median_house_value    1.000000\n",
              "median_income         0.687160\n",
              "total_rooms           0.135097\n",
              "housing_median_age    0.114110\n",
              "households            0.064506\n",
              "total_bedrooms        0.047689\n",
              "population           -0.026920\n",
              "longitude            -0.047432\n",
              "latitude             -0.142724\n",
              "Name: median_house_value, dtype: float64"
            ]
          },
          "metadata": {
            "tags": []
          },
          "execution_count": 35
        }
      ]
    },
    {
      "cell_type": "code",
      "metadata": {
        "id": "G2g_1_vwBGR2",
        "colab_type": "code",
        "outputId": "ee69dc59-bb78-446b-fa92-99e8b76821dc",
        "colab": {
          "base_uri": "https://localhost:8080/",
          "height": 0
        }
      },
      "source": [
        "# from pandas.tools.plotting import scatter_matrix # For older versions of Pandas\n",
        "from pandas.plotting import scatter_matrix\n",
        "\n",
        "attributes = [\"median_house_value\", \"median_income\", \"total_rooms\",\n",
        "              \"housing_median_age\"]\n",
        "scatter_matrix(housing[attributes], figsize=(12, 8))\n"
      ],
      "execution_count": 36,
      "outputs": [
        {
          "output_type": "execute_result",
          "data": {
            "text/plain": [
              "array([[<matplotlib.axes._subplots.AxesSubplot object at 0x7f9e06a89630>,\n",
              "        <matplotlib.axes._subplots.AxesSubplot object at 0x7f9e068fa710>,\n",
              "        <matplotlib.axes._subplots.AxesSubplot object at 0x7f9e069eecc0>,\n",
              "        <matplotlib.axes._subplots.AxesSubplot object at 0x7f9e069ab2b0>],\n",
              "       [<matplotlib.axes._subplots.AxesSubplot object at 0x7f9e069dc860>,\n",
              "        <matplotlib.axes._subplots.AxesSubplot object at 0x7f9e0698ee10>,\n",
              "        <matplotlib.axes._subplots.AxesSubplot object at 0x7f9e0694d400>,\n",
              "        <matplotlib.axes._subplots.AxesSubplot object at 0x7f9e050ba9e8>],\n",
              "       [<matplotlib.axes._subplots.AxesSubplot object at 0x7f9e050baa20>,\n",
              "        <matplotlib.axes._subplots.AxesSubplot object at 0x7f9e0502a550>,\n",
              "        <matplotlib.axes._subplots.AxesSubplot object at 0x7f9e04fdbb00>,\n",
              "        <matplotlib.axes._subplots.AxesSubplot object at 0x7f9e050190f0>],\n",
              "       [<matplotlib.axes._subplots.AxesSubplot object at 0x7f9e04fca6a0>,\n",
              "        <matplotlib.axes._subplots.AxesSubplot object at 0x7f9e04f7ac50>,\n",
              "        <matplotlib.axes._subplots.AxesSubplot object at 0x7f9e04f36240>,\n",
              "        <matplotlib.axes._subplots.AxesSubplot object at 0x7f9e04ee97f0>]],\n",
              "      dtype=object)"
            ]
          },
          "metadata": {
            "tags": []
          },
          "execution_count": 36
        },
        {
          "output_type": "display_data",
          "data": {
            "image/png": "[encoded data removed]",
            "text/plain": [
              "<Figure size 864x576 with 16 Axes>"
            ]
          },
          "metadata": {
            "tags": []
          }
        }
      ]
    },
    {
      "cell_type": "code",
      "metadata": {
        "id": "1m0MYK8nDtZr",
        "colab_type": "code",
        "outputId": "18f4bfd3-a161-4da5-d0cd-7952febed641",
        "colab": {
          "base_uri": "https://localhost:8080/",
          "height": 0
        }
      },
      "source": [
        "housing.plot(kind='scatter', x='median_income', y='median_house_value', alpha=0.1)\n",
        "plt.axis([0,16,0,550000])"
      ],
      "execution_count": 37,
      "outputs": [
        {
          "output_type": "execute_result",
          "data": {
            "text/plain": [
              "[0, 16, 0, 550000]"
            ]
          },
          "metadata": {
            "tags": []
          },
          "execution_count": 37
        },
        {
          "output_type": "display_data",
          "data": {
            "image/png": "[encoded data removed]",
            "text/plain": [
              "<Figure size 432x288 with 1 Axes>"
            ]
          },
          "metadata": {
            "tags": []
          }
        }
      ]
    },
    {
      "cell_type": "code",
      "metadata": {
        "id": "FRxt9Q1CEXe5",
        "colab_type": "code",
        "colab": {}
      },
      "source": [
        "housing[\"rooms_per_household\"] = housing[\"total_rooms\"]/housing[\"households\"]\n",
        "housing[\"bedrooms_per_room\"] = housing[\"total_bedrooms\"]/housing[\"total_rooms\"]\n",
        "housing[\"population_per_household\"]=housing[\"population\"]/housing[\"households\"]"
      ],
      "execution_count": 0,
      "outputs": []
    },
    {
      "cell_type": "code",
      "metadata": {
        "id": "7X9BspEXFBdx",
        "colab_type": "code",
        "outputId": "e0e5d9f1-942a-4b3b-f915-2b44ec6b7096",
        "colab": {
          "base_uri": "https://localhost:8080/",
          "height": 0
        }
      },
      "source": [
        "corr_matrix = housing.corr()\n",
        "corr_matrix[\"median_house_value\"].sort_values(ascending=False)"
      ],
      "execution_count": 39,
      "outputs": [
        {
          "output_type": "execute_result",
          "data": {
            "text/plain": [
              "median_house_value          1.000000\n",
              "median_income               0.687160\n",
              "rooms_per_household         0.146285\n",
              "total_rooms                 0.135097\n",
              "housing_median_age          0.114110\n",
              "households                  0.064506\n",
              "total_bedrooms              0.047689\n",
              "population_per_household   -0.021985\n",
              "population                 -0.026920\n",
              "longitude                  -0.047432\n",
              "latitude                   -0.142724\n",
              "bedrooms_per_room          -0.259984\n",
              "Name: median_house_value, dtype: float64"
            ]
          },
          "metadata": {
            "tags": []
          },
          "execution_count": 39
        }
      ]
    },
    {
      "cell_type": "code",
      "metadata": {
        "id": "9H-qUZImFCTe",
        "colab_type": "code",
        "colab": {}
      },
      "source": [
        "  "
      ],
      "execution_count": 0,
      "outputs": []
    },
    {
      "cell_type": "markdown",
      "metadata": {
        "id": "9zxozHI-GLPQ",
        "colab_type": "text"
      },
      "source": [
        "## Prepare the Data for Machine Learning Alogrithm"
      ]
    },
    {
      "cell_type": "markdown",
      "metadata": {
        "id": "0msBWm0VlGfV",
        "colab_type": "text"
      },
      "source": [
        "#### Data Cleaning"
      ]
    },
    {
      "cell_type": "code",
      "metadata": {
        "id": "94OLDVSFGbQz",
        "colab_type": "code",
        "colab": {}
      },
      "source": [
        "# housing.head()"
      ],
      "execution_count": 0,
      "outputs": []
    },
    {
      "cell_type": "code",
      "metadata": {
        "id": "v61uYmOuaTrE",
        "colab_type": "code",
        "colab": {}
      },
      "source": [
        "# separate predictors and labels\n",
        "housing = strat_train_set.drop('median_house_value', axis=1)\n",
        "housing_labels = strat_train_set['median_house_value'].copy()"
      ],
      "execution_count": 0,
      "outputs": []
    },
    {
      "cell_type": "code",
      "metadata": {
        "id": "CZuPyO-TavCx",
        "colab_type": "code",
        "colab": {}
      },
      "source": [
        "# housing.info()"
      ],
      "execution_count": 0,
      "outputs": []
    },
    {
      "cell_type": "code",
      "metadata": {
        "id": "OyLB_Bqbbhdu",
        "colab_type": "code",
        "colab": {}
      },
      "source": [
        "# housing['total_bedrooms'].value_counts()"
      ],
      "execution_count": 0,
      "outputs": []
    },
    {
      "cell_type": "code",
      "metadata": {
        "id": "YdRrqVW0cD7U",
        "colab_type": "code",
        "outputId": "2959bc87-5d33-45f2-9706-92d498c5e7d4",
        "colab": {
          "base_uri": "https://localhost:8080/",
          "height": 0
        }
      },
      "source": [
        "sample_incomplete_rows = housing[housing.isnull().any(axis=1)].head()\n",
        "sample_incomplete_rows"
      ],
      "execution_count": 44,
      "outputs": [
        {
          "output_type": "execute_result",
          "data": {
            "text/html": [
              "<div>\n",
              "<style scoped>\n",
              "    .dataframe tbody tr th:only-of-type {\n",
              "        vertical-align: middle;\n",
              "    }\n",
              "\n",
              "    .dataframe tbody tr th {\n",
              "        vertical-align: top;\n",
              "    }\n",
              "\n",
              "    .dataframe thead th {\n",
              "        text-align: right;\n",
              "    }\n",
              "</style>\n",
              "<table border=\"1\" class=\"dataframe\">\n",
              "  <thead>\n",
              "    <tr style=\"text-align: right;\">\n",
              "      <th></th>\n",
              "      <th>longitude</th>\n",
              "      <th>latitude</th>\n",
              "      <th>housing_median_age</th>\n",
              "      <th>total_rooms</th>\n",
              "      <th>total_bedrooms</th>\n",
              "      <th>population</th>\n",
              "      <th>households</th>\n",
              "      <th>median_income</th>\n",
              "      <th>ocean_proximity</th>\n",
              "    </tr>\n",
              "  </thead>\n",
              "  <tbody>\n",
              "    <tr>\n",
              "      <th>4629</th>\n",
              "      <td>-118.30</td>\n",
              "      <td>34.07</td>\n",
              "      <td>18.0</td>\n",
              "      <td>3759.0</td>\n",
              "      <td>NaN</td>\n",
              "      <td>3296.0</td>\n",
              "      <td>1462.0</td>\n",
              "      <td>2.2708</td>\n",
              "      <td>&lt;1H OCEAN</td>\n",
              "    </tr>\n",
              "    <tr>\n",
              "      <th>6068</th>\n",
              "      <td>-117.86</td>\n",
              "      <td>34.01</td>\n",
              "      <td>16.0</td>\n",
              "      <td>4632.0</td>\n",
              "      <td>NaN</td>\n",
              "      <td>3038.0</td>\n",
              "      <td>727.0</td>\n",
              "      <td>5.1762</td>\n",
              "      <td>&lt;1H OCEAN</td>\n",
              "    </tr>\n",
              "    <tr>\n",
              "      <th>17923</th>\n",
              "      <td>-121.97</td>\n",
              "      <td>37.35</td>\n",
              "      <td>30.0</td>\n",
              "      <td>1955.0</td>\n",
              "      <td>NaN</td>\n",
              "      <td>999.0</td>\n",
              "      <td>386.0</td>\n",
              "      <td>4.6328</td>\n",
              "      <td>&lt;1H OCEAN</td>\n",
              "    </tr>\n",
              "    <tr>\n",
              "      <th>13656</th>\n",
              "      <td>-117.30</td>\n",
              "      <td>34.05</td>\n",
              "      <td>6.0</td>\n",
              "      <td>2155.0</td>\n",
              "      <td>NaN</td>\n",
              "      <td>1039.0</td>\n",
              "      <td>391.0</td>\n",
              "      <td>1.6675</td>\n",
              "      <td>INLAND</td>\n",
              "    </tr>\n",
              "    <tr>\n",
              "      <th>19252</th>\n",
              "      <td>-122.79</td>\n",
              "      <td>38.48</td>\n",
              "      <td>7.0</td>\n",
              "      <td>6837.0</td>\n",
              "      <td>NaN</td>\n",
              "      <td>3468.0</td>\n",
              "      <td>1405.0</td>\n",
              "      <td>3.1662</td>\n",
              "      <td>&lt;1H OCEAN</td>\n",
              "    </tr>\n",
              "  </tbody>\n",
              "</table>\n",
              "</div>"
            ],
            "text/plain": [
              "       longitude  latitude  ...  median_income  ocean_proximity\n",
              "4629     -118.30     34.07  ...         2.2708        <1H OCEAN\n",
              "6068     -117.86     34.01  ...         5.1762        <1H OCEAN\n",
              "17923    -121.97     37.35  ...         4.6328        <1H OCEAN\n",
              "13656    -117.30     34.05  ...         1.6675           INLAND\n",
              "19252    -122.79     38.48  ...         3.1662        <1H OCEAN\n",
              "\n",
              "[5 rows x 9 columns]"
            ]
          },
          "metadata": {
            "tags": []
          },
          "execution_count": 44
        }
      ]
    },
    {
      "cell_type": "code",
      "metadata": {
        "id": "pTPBGQN8cQ92",
        "colab_type": "code",
        "outputId": "517c0c34-f4c0-470c-e6b1-8c05b93c7178",
        "colab": {
          "base_uri": "https://localhost:8080/",
          "height": 0
        }
      },
      "source": [
        "# remove missing values of the corresponding districts\n",
        "sample_incomplete_rows.dropna(subset=['total_bedrooms'])"
      ],
      "execution_count": 45,
      "outputs": [
        {
          "output_type": "execute_result",
          "data": {
            "text/html": [
              "<div>\n",
              "<style scoped>\n",
              "    .dataframe tbody tr th:only-of-type {\n",
              "        vertical-align: middle;\n",
              "    }\n",
              "\n",
              "    .dataframe tbody tr th {\n",
              "        vertical-align: top;\n",
              "    }\n",
              "\n",
              "    .dataframe thead th {\n",
              "        text-align: right;\n",
              "    }\n",
              "</style>\n",
              "<table border=\"1\" class=\"dataframe\">\n",
              "  <thead>\n",
              "    <tr style=\"text-align: right;\">\n",
              "      <th></th>\n",
              "      <th>longitude</th>\n",
              "      <th>latitude</th>\n",
              "      <th>housing_median_age</th>\n",
              "      <th>total_rooms</th>\n",
              "      <th>total_bedrooms</th>\n",
              "      <th>population</th>\n",
              "      <th>households</th>\n",
              "      <th>median_income</th>\n",
              "      <th>ocean_proximity</th>\n",
              "    </tr>\n",
              "  </thead>\n",
              "  <tbody>\n",
              "  </tbody>\n",
              "</table>\n",
              "</div>"
            ],
            "text/plain": [
              "Empty DataFrame\n",
              "Columns: [longitude, latitude, housing_median_age, total_rooms, total_bedrooms, population, households, median_income, ocean_proximity]\n",
              "Index: []"
            ]
          },
          "metadata": {
            "tags": []
          },
          "execution_count": 45
        }
      ]
    },
    {
      "cell_type": "code",
      "metadata": {
        "id": "EQABl6Snd5C4",
        "colab_type": "code",
        "outputId": "ceecb27e-b79b-459f-a7da-fad8a8a69331",
        "colab": {
          "base_uri": "https://localhost:8080/",
          "height": 0
        }
      },
      "source": [
        "# remove whole attribute of missing value\n",
        "sample_incomplete_rows.drop('total_bedrooms', axis=1)"
      ],
      "execution_count": 46,
      "outputs": [
        {
          "output_type": "execute_result",
          "data": {
            "text/html": [
              "<div>\n",
              "<style scoped>\n",
              "    .dataframe tbody tr th:only-of-type {\n",
              "        vertical-align: middle;\n",
              "    }\n",
              "\n",
              "    .dataframe tbody tr th {\n",
              "        vertical-align: top;\n",
              "    }\n",
              "\n",
              "    .dataframe thead th {\n",
              "        text-align: right;\n",
              "    }\n",
              "</style>\n",
              "<table border=\"1\" class=\"dataframe\">\n",
              "  <thead>\n",
              "    <tr style=\"text-align: right;\">\n",
              "      <th></th>\n",
              "      <th>longitude</th>\n",
              "      <th>latitude</th>\n",
              "      <th>housing_median_age</th>\n",
              "      <th>total_rooms</th>\n",
              "      <th>population</th>\n",
              "      <th>households</th>\n",
              "      <th>median_income</th>\n",
              "      <th>ocean_proximity</th>\n",
              "    </tr>\n",
              "  </thead>\n",
              "  <tbody>\n",
              "    <tr>\n",
              "      <th>4629</th>\n",
              "      <td>-118.30</td>\n",
              "      <td>34.07</td>\n",
              "      <td>18.0</td>\n",
              "      <td>3759.0</td>\n",
              "      <td>3296.0</td>\n",
              "      <td>1462.0</td>\n",
              "      <td>2.2708</td>\n",
              "      <td>&lt;1H OCEAN</td>\n",
              "    </tr>\n",
              "    <tr>\n",
              "      <th>6068</th>\n",
              "      <td>-117.86</td>\n",
              "      <td>34.01</td>\n",
              "      <td>16.0</td>\n",
              "      <td>4632.0</td>\n",
              "      <td>3038.0</td>\n",
              "      <td>727.0</td>\n",
              "      <td>5.1762</td>\n",
              "      <td>&lt;1H OCEAN</td>\n",
              "    </tr>\n",
              "    <tr>\n",
              "      <th>17923</th>\n",
              "      <td>-121.97</td>\n",
              "      <td>37.35</td>\n",
              "      <td>30.0</td>\n",
              "      <td>1955.0</td>\n",
              "      <td>999.0</td>\n",
              "      <td>386.0</td>\n",
              "      <td>4.6328</td>\n",
              "      <td>&lt;1H OCEAN</td>\n",
              "    </tr>\n",
              "    <tr>\n",
              "      <th>13656</th>\n",
              "      <td>-117.30</td>\n",
              "      <td>34.05</td>\n",
              "      <td>6.0</td>\n",
              "      <td>2155.0</td>\n",
              "      <td>1039.0</td>\n",
              "      <td>391.0</td>\n",
              "      <td>1.6675</td>\n",
              "      <td>INLAND</td>\n",
              "    </tr>\n",
              "    <tr>\n",
              "      <th>19252</th>\n",
              "      <td>-122.79</td>\n",
              "      <td>38.48</td>\n",
              "      <td>7.0</td>\n",
              "      <td>6837.0</td>\n",
              "      <td>3468.0</td>\n",
              "      <td>1405.0</td>\n",
              "      <td>3.1662</td>\n",
              "      <td>&lt;1H OCEAN</td>\n",
              "    </tr>\n",
              "  </tbody>\n",
              "</table>\n",
              "</div>"
            ],
            "text/plain": [
              "       longitude  latitude  ...  median_income  ocean_proximity\n",
              "4629     -118.30     34.07  ...         2.2708        <1H OCEAN\n",
              "6068     -117.86     34.01  ...         5.1762        <1H OCEAN\n",
              "17923    -121.97     37.35  ...         4.6328        <1H OCEAN\n",
              "13656    -117.30     34.05  ...         1.6675           INLAND\n",
              "19252    -122.79     38.48  ...         3.1662        <1H OCEAN\n",
              "\n",
              "[5 rows x 8 columns]"
            ]
          },
          "metadata": {
            "tags": []
          },
          "execution_count": 46
        }
      ]
    },
    {
      "cell_type": "code",
      "metadata": {
        "id": "lnFOmAETeG8A",
        "colab_type": "code",
        "colab": {}
      },
      "source": [
        "# set median values of missing values\n",
        "median = housing['total_bedrooms'].median()\n",
        "sample_incomplete_rows[\"total_bedrooms\"].fillna(median, inplace=True)"
      ],
      "execution_count": 0,
      "outputs": []
    },
    {
      "cell_type": "code",
      "metadata": {
        "id": "Bzmyur3XeqBi",
        "colab_type": "code",
        "colab": {}
      },
      "source": [
        "# sample_incomplete_rows"
      ],
      "execution_count": 0,
      "outputs": []
    },
    {
      "cell_type": "code",
      "metadata": {
        "id": "a1t72Kf9et_K",
        "colab_type": "code",
        "colab": {}
      },
      "source": [
        "# filling missing values using Imputer class\n",
        "from sklearn.impute import SimpleImputer\n",
        "imputer = SimpleImputer(strategy='median')"
      ],
      "execution_count": 0,
      "outputs": []
    },
    {
      "cell_type": "code",
      "metadata": {
        "id": "wLHzceyjfr2O",
        "colab_type": "code",
        "colab": {}
      },
      "source": [
        "# housing.info()"
      ],
      "execution_count": 0,
      "outputs": []
    },
    {
      "cell_type": "code",
      "metadata": {
        "id": "XJrMqzSWfzoI",
        "colab_type": "code",
        "colab": {}
      },
      "source": [
        "# remove text attribute to apply median\n",
        "housing_num = housing.drop('ocean_proximity', axis=1)\n",
        "# alternatively: housing_num = housing.select_dtypes(include=[np.number])"
      ],
      "execution_count": 0,
      "outputs": []
    },
    {
      "cell_type": "code",
      "metadata": {
        "id": "Xj0NffdVgF8X",
        "colab_type": "code",
        "outputId": "5976a045-9f65-41c3-c915-7aa0ffdce76e",
        "colab": {
          "base_uri": "https://localhost:8080/",
          "height": 0
        }
      },
      "source": [
        "imputer.fit(housing_num)"
      ],
      "execution_count": 52,
      "outputs": [
        {
          "output_type": "execute_result",
          "data": {
            "text/plain": [
              "SimpleImputer(add_indicator=False, copy=True, fill_value=None,\n",
              "              missing_values=nan, strategy='median', verbose=0)"
            ]
          },
          "metadata": {
            "tags": []
          },
          "execution_count": 52
        }
      ]
    },
    {
      "cell_type": "code",
      "metadata": {
        "id": "t8-m9NLsgP4H",
        "colab_type": "code",
        "colab": {}
      },
      "source": [
        "# view median of each attribute\n",
        "imp_stats = imputer.statistics_"
      ],
      "execution_count": 0,
      "outputs": []
    },
    {
      "cell_type": "code",
      "metadata": {
        "id": "mgJW_iv1gq4q",
        "colab_type": "code",
        "colab": {}
      },
      "source": [
        "# manually computed median\n",
        "man_stats = housing_num.median().values"
      ],
      "execution_count": 0,
      "outputs": []
    },
    {
      "cell_type": "code",
      "metadata": {
        "id": "smiTNhINg9_e",
        "colab_type": "code",
        "outputId": "607d4616-d9d7-4e0d-f768-300524586bd4",
        "colab": {
          "base_uri": "https://localhost:8080/",
          "height": 0
        }
      },
      "source": [
        "imp_stats == man_stats"
      ],
      "execution_count": 55,
      "outputs": [
        {
          "output_type": "execute_result",
          "data": {
            "text/plain": [
              "array([ True,  True,  True,  True,  True,  True,  True,  True])"
            ]
          },
          "metadata": {
            "tags": []
          },
          "execution_count": 55
        }
      ]
    },
    {
      "cell_type": "code",
      "metadata": {
        "id": "dPKExho5hHx-",
        "colab_type": "code",
        "colab": {}
      },
      "source": [
        "# transform the training set\n",
        "X = imputer.transform(housing_num)"
      ],
      "execution_count": 0,
      "outputs": []
    },
    {
      "cell_type": "code",
      "metadata": {
        "id": "vDvMZrXdhxLd",
        "colab_type": "code",
        "colab": {}
      },
      "source": [
        "# convert numpy array to pandas df\n",
        "housing_tr = pd.DataFrame(X, columns=housing_num.columns,\n",
        "                          index=housing.index)"
      ],
      "execution_count": 0,
      "outputs": []
    },
    {
      "cell_type": "code",
      "metadata": {
        "id": "Sf565I2RiB5l",
        "colab_type": "code",
        "outputId": "25c83559-f41d-4e26-f057-6ee6b4251e24",
        "colab": {
          "base_uri": "https://localhost:8080/",
          "height": 0
        }
      },
      "source": [
        "housing_tr.loc[sample_incomplete_rows.index.values]"
      ],
      "execution_count": 58,
      "outputs": [
        {
          "output_type": "execute_result",
          "data": {
            "text/html": [
              "<div>\n",
              "<style scoped>\n",
              "    .dataframe tbody tr th:only-of-type {\n",
              "        vertical-align: middle;\n",
              "    }\n",
              "\n",
              "    .dataframe tbody tr th {\n",
              "        vertical-align: top;\n",
              "    }\n",
              "\n",
              "    .dataframe thead th {\n",
              "        text-align: right;\n",
              "    }\n",
              "</style>\n",
              "<table border=\"1\" class=\"dataframe\">\n",
              "  <thead>\n",
              "    <tr style=\"text-align: right;\">\n",
              "      <th></th>\n",
              "      <th>longitude</th>\n",
              "      <th>latitude</th>\n",
              "      <th>housing_median_age</th>\n",
              "      <th>total_rooms</th>\n",
              "      <th>total_bedrooms</th>\n",
              "      <th>population</th>\n",
              "      <th>households</th>\n",
              "      <th>median_income</th>\n",
              "    </tr>\n",
              "  </thead>\n",
              "  <tbody>\n",
              "    <tr>\n",
              "      <th>4629</th>\n",
              "      <td>-118.30</td>\n",
              "      <td>34.07</td>\n",
              "      <td>18.0</td>\n",
              "      <td>3759.0</td>\n",
              "      <td>433.0</td>\n",
              "      <td>3296.0</td>\n",
              "      <td>1462.0</td>\n",
              "      <td>2.2708</td>\n",
              "    </tr>\n",
              "    <tr>\n",
              "      <th>6068</th>\n",
              "      <td>-117.86</td>\n",
              "      <td>34.01</td>\n",
              "      <td>16.0</td>\n",
              "      <td>4632.0</td>\n",
              "      <td>433.0</td>\n",
              "      <td>3038.0</td>\n",
              "      <td>727.0</td>\n",
              "      <td>5.1762</td>\n",
              "    </tr>\n",
              "    <tr>\n",
              "      <th>17923</th>\n",
              "      <td>-121.97</td>\n",
              "      <td>37.35</td>\n",
              "      <td>30.0</td>\n",
              "      <td>1955.0</td>\n",
              "      <td>433.0</td>\n",
              "      <td>999.0</td>\n",
              "      <td>386.0</td>\n",
              "      <td>4.6328</td>\n",
              "    </tr>\n",
              "    <tr>\n",
              "      <th>13656</th>\n",
              "      <td>-117.30</td>\n",
              "      <td>34.05</td>\n",
              "      <td>6.0</td>\n",
              "      <td>2155.0</td>\n",
              "      <td>433.0</td>\n",
              "      <td>1039.0</td>\n",
              "      <td>391.0</td>\n",
              "      <td>1.6675</td>\n",
              "    </tr>\n",
              "    <tr>\n",
              "      <th>19252</th>\n",
              "      <td>-122.79</td>\n",
              "      <td>38.48</td>\n",
              "      <td>7.0</td>\n",
              "      <td>6837.0</td>\n",
              "      <td>433.0</td>\n",
              "      <td>3468.0</td>\n",
              "      <td>1405.0</td>\n",
              "      <td>3.1662</td>\n",
              "    </tr>\n",
              "  </tbody>\n",
              "</table>\n",
              "</div>"
            ],
            "text/plain": [
              "       longitude  latitude  ...  households  median_income\n",
              "4629     -118.30     34.07  ...      1462.0         2.2708\n",
              "6068     -117.86     34.01  ...       727.0         5.1762\n",
              "17923    -121.97     37.35  ...       386.0         4.6328\n",
              "13656    -117.30     34.05  ...       391.0         1.6675\n",
              "19252    -122.79     38.48  ...      1405.0         3.1662\n",
              "\n",
              "[5 rows x 8 columns]"
            ]
          },
          "metadata": {
            "tags": []
          },
          "execution_count": 58
        }
      ]
    },
    {
      "cell_type": "code",
      "metadata": {
        "id": "c-ZRYXZvi10p",
        "colab_type": "code",
        "outputId": "1c171b31-b886-4354-b67a-4128dc02d9b3",
        "colab": {
          "base_uri": "https://localhost:8080/",
          "height": 0
        }
      },
      "source": [
        "imputer.strategy"
      ],
      "execution_count": 59,
      "outputs": [
        {
          "output_type": "execute_result",
          "data": {
            "text/plain": [
              "'median'"
            ]
          },
          "metadata": {
            "tags": []
          },
          "execution_count": 59
        }
      ]
    },
    {
      "cell_type": "code",
      "metadata": {
        "id": "iNlyNrP7i3ov",
        "colab_type": "code",
        "colab": {}
      },
      "source": [
        "housing_tr = pd.DataFrame(X, columns=housing_num.columns,\n",
        "                          index=housing_num.index)"
      ],
      "execution_count": 0,
      "outputs": []
    },
    {
      "cell_type": "code",
      "metadata": {
        "id": "4Z8ulIr4i6F-",
        "colab_type": "code",
        "outputId": "0497b71b-78a1-4c10-8a34-e1a9a194338d",
        "colab": {
          "base_uri": "https://localhost:8080/",
          "height": 0
        }
      },
      "source": [
        "housing_tr.head()"
      ],
      "execution_count": 61,
      "outputs": [
        {
          "output_type": "execute_result",
          "data": {
            "text/html": [
              "<div>\n",
              "<style scoped>\n",
              "    .dataframe tbody tr th:only-of-type {\n",
              "        vertical-align: middle;\n",
              "    }\n",
              "\n",
              "    .dataframe tbody tr th {\n",
              "        vertical-align: top;\n",
              "    }\n",
              "\n",
              "    .dataframe thead th {\n",
              "        text-align: right;\n",
              "    }\n",
              "</style>\n",
              "<table border=\"1\" class=\"dataframe\">\n",
              "  <thead>\n",
              "    <tr style=\"text-align: right;\">\n",
              "      <th></th>\n",
              "      <th>longitude</th>\n",
              "      <th>latitude</th>\n",
              "      <th>housing_median_age</th>\n",
              "      <th>total_rooms</th>\n",
              "      <th>total_bedrooms</th>\n",
              "      <th>population</th>\n",
              "      <th>households</th>\n",
              "      <th>median_income</th>\n",
              "    </tr>\n",
              "  </thead>\n",
              "  <tbody>\n",
              "    <tr>\n",
              "      <th>17606</th>\n",
              "      <td>-121.89</td>\n",
              "      <td>37.29</td>\n",
              "      <td>38.0</td>\n",
              "      <td>1568.0</td>\n",
              "      <td>351.0</td>\n",
              "      <td>710.0</td>\n",
              "      <td>339.0</td>\n",
              "      <td>2.7042</td>\n",
              "    </tr>\n",
              "    <tr>\n",
              "      <th>18632</th>\n",
              "      <td>-121.93</td>\n",
              "      <td>37.05</td>\n",
              "      <td>14.0</td>\n",
              "      <td>679.0</td>\n",
              "      <td>108.0</td>\n",
              "      <td>306.0</td>\n",
              "      <td>113.0</td>\n",
              "      <td>6.4214</td>\n",
              "    </tr>\n",
              "    <tr>\n",
              "      <th>14650</th>\n",
              "      <td>-117.20</td>\n",
              "      <td>32.77</td>\n",
              "      <td>31.0</td>\n",
              "      <td>1952.0</td>\n",
              "      <td>471.0</td>\n",
              "      <td>936.0</td>\n",
              "      <td>462.0</td>\n",
              "      <td>2.8621</td>\n",
              "    </tr>\n",
              "    <tr>\n",
              "      <th>3230</th>\n",
              "      <td>-119.61</td>\n",
              "      <td>36.31</td>\n",
              "      <td>25.0</td>\n",
              "      <td>1847.0</td>\n",
              "      <td>371.0</td>\n",
              "      <td>1460.0</td>\n",
              "      <td>353.0</td>\n",
              "      <td>1.8839</td>\n",
              "    </tr>\n",
              "    <tr>\n",
              "      <th>3555</th>\n",
              "      <td>-118.59</td>\n",
              "      <td>34.23</td>\n",
              "      <td>17.0</td>\n",
              "      <td>6592.0</td>\n",
              "      <td>1525.0</td>\n",
              "      <td>4459.0</td>\n",
              "      <td>1463.0</td>\n",
              "      <td>3.0347</td>\n",
              "    </tr>\n",
              "  </tbody>\n",
              "</table>\n",
              "</div>"
            ],
            "text/plain": [
              "       longitude  latitude  ...  households  median_income\n",
              "17606    -121.89     37.29  ...       339.0         2.7042\n",
              "18632    -121.93     37.05  ...       113.0         6.4214\n",
              "14650    -117.20     32.77  ...       462.0         2.8621\n",
              "3230     -119.61     36.31  ...       353.0         1.8839\n",
              "3555     -118.59     34.23  ...      1463.0         3.0347\n",
              "\n",
              "[5 rows x 8 columns]"
            ]
          },
          "metadata": {
            "tags": []
          },
          "execution_count": 61
        }
      ]
    },
    {
      "cell_type": "markdown",
      "metadata": {
        "id": "s1y-QCm9liUe",
        "colab_type": "text"
      },
      "source": [
        "#### Handling Text and Categorical Attributes"
      ]
    },
    {
      "cell_type": "code",
      "metadata": {
        "id": "bOkXRzIhlpxm",
        "colab_type": "code",
        "outputId": "6a2c5bbd-e21a-40b7-b11a-c85f05b04b64",
        "colab": {
          "base_uri": "https://localhost:8080/",
          "height": 0
        }
      },
      "source": [
        "# preprocess the categorical data\n",
        "housing_cat = housing['ocean_proximity']\n",
        "housing_cat.head(10)"
      ],
      "execution_count": 62,
      "outputs": [
        {
          "output_type": "execute_result",
          "data": {
            "text/plain": [
              "17606     <1H OCEAN\n",
              "18632     <1H OCEAN\n",
              "14650    NEAR OCEAN\n",
              "3230         INLAND\n",
              "3555      <1H OCEAN\n",
              "19480        INLAND\n",
              "8879      <1H OCEAN\n",
              "13685        INLAND\n",
              "4937      <1H OCEAN\n",
              "4861      <1H OCEAN\n",
              "Name: ocean_proximity, dtype: object"
            ]
          },
          "metadata": {
            "tags": []
          },
          "execution_count": 62
        }
      ]
    },
    {
      "cell_type": "code",
      "metadata": {
        "id": "IJ58HVGLfYCA",
        "colab_type": "code",
        "outputId": "1f40ab60-5d0d-4378-dfd2-73fe6a933062",
        "colab": {
          "base_uri": "https://localhost:8080/",
          "height": 0
        }
      },
      "source": [
        "# convert caterogical to numbers\n",
        "from sklearn.preprocessing import OrdinalEncoder\n",
        "\n",
        "ordinal_encoder = OrdinalEncoder()\n",
        "housing_cat_encoded = ordinal_encoder.fit_transform([housing_cat])\n",
        "housing_cat_encoded[:10]"
      ],
      "execution_count": 63,
      "outputs": [
        {
          "output_type": "execute_result",
          "data": {
            "text/plain": [
              "array([[0., 0., 0., ..., 0., 0., 0.]])"
            ]
          },
          "metadata": {
            "tags": []
          },
          "execution_count": 63
        }
      ]
    },
    {
      "cell_type": "code",
      "metadata": {
        "id": "ErKnbRPagKRh",
        "colab_type": "code",
        "outputId": "c59aec27-2d49-4602-9ac0-9461e630d54d",
        "colab": {
          "base_uri": "https://localhost:8080/",
          "height": 0
        }
      },
      "source": [
        "ordinal_encoder.categories_"
      ],
      "execution_count": 64,
      "outputs": [
        {
          "output_type": "execute_result",
          "data": {
            "text/plain": [
              "[array(['<1H OCEAN'], dtype=object),\n",
              " array(['<1H OCEAN'], dtype=object),\n",
              " array(['NEAR OCEAN'], dtype=object),\n",
              " array(['INLAND'], dtype=object),\n",
              " array(['<1H OCEAN'], dtype=object),\n",
              " array(['INLAND'], dtype=object),\n",
              " array(['<1H OCEAN'], dtype=object),\n",
              " array(['INLAND'], dtype=object),\n",
              " array(['<1H OCEAN'], dtype=object),\n",
              " array(['<1H OCEAN'], dtype=object),\n",
              " array(['INLAND'], dtype=object),\n",
              " array(['INLAND'], dtype=object),\n",
              " array(['<1H OCEAN'], dtype=object),\n",
              " array(['INLAND'], dtype=object),\n",
              " array(['INLAND'], dtype=object),\n",
              " array(['<1H OCEAN'], dtype=object),\n",
              " array(['NEAR BAY'], dtype=object),\n",
              " array(['INLAND'], dtype=object),\n",
              " array(['INLAND'], dtype=object),\n",
              " array(['INLAND'], dtype=object),\n",
              " array(['<1H OCEAN'], dtype=object),\n",
              " array(['<1H OCEAN'], dtype=object),\n",
              " array(['<1H OCEAN'], dtype=object),\n",
              " array(['INLAND'], dtype=object),\n",
              " array(['INLAND'], dtype=object),\n",
              " array(['<1H OCEAN'], dtype=object),\n",
              " array(['<1H OCEAN'], dtype=object),\n",
              " array(['<1H OCEAN'], dtype=object),\n",
              " array(['<1H OCEAN'], dtype=object),\n",
              " array(['NEAR BAY'], dtype=object),\n",
              " array(['<1H OCEAN'], dtype=object),\n",
              " array(['<1H OCEAN'], dtype=object),\n",
              " array(['INLAND'], dtype=object),\n",
              " array(['INLAND'], dtype=object),\n",
              " array(['<1H OCEAN'], dtype=object),\n",
              " array(['<1H OCEAN'], dtype=object),\n",
              " array(['INLAND'], dtype=object),\n",
              " array(['<1H OCEAN'], dtype=object),\n",
              " array(['INLAND'], dtype=object),\n",
              " array(['<1H OCEAN'], dtype=object),\n",
              " array(['<1H OCEAN'], dtype=object),\n",
              " array(['<1H OCEAN'], dtype=object),\n",
              " array(['<1H OCEAN'], dtype=object),\n",
              " array(['NEAR OCEAN'], dtype=object),\n",
              " array(['NEAR OCEAN'], dtype=object),\n",
              " array(['<1H OCEAN'], dtype=object),\n",
              " array(['INLAND'], dtype=object),\n",
              " array(['<1H OCEAN'], dtype=object),\n",
              " array(['<1H OCEAN'], dtype=object),\n",
              " array(['<1H OCEAN'], dtype=object),\n",
              " array(['NEAR BAY'], dtype=object),\n",
              " array(['INLAND'], dtype=object),\n",
              " array(['<1H OCEAN'], dtype=object),\n",
              " array(['INLAND'], dtype=object),\n",
              " array(['<1H OCEAN'], dtype=object),\n",
              " array(['<1H OCEAN'], dtype=object),\n",
              " array(['INLAND'], dtype=object),\n",
              " array(['INLAND'], dtype=object),\n",
              " array(['NEAR BAY'], dtype=object),\n",
              " array(['NEAR BAY'], dtype=object),\n",
              " array(['NEAR BAY'], dtype=object),\n",
              " array(['INLAND'], dtype=object),\n",
              " array(['INLAND'], dtype=object),\n",
              " array(['INLAND'], dtype=object),\n",
              " array(['<1H OCEAN'], dtype=object),\n",
              " array(['INLAND'], dtype=object),\n",
              " array(['<1H OCEAN'], dtype=object),\n",
              " array(['INLAND'], dtype=object),\n",
              " array(['<1H OCEAN'], dtype=object),\n",
              " array(['<1H OCEAN'], dtype=object),\n",
              " array(['<1H OCEAN'], dtype=object),\n",
              " array(['<1H OCEAN'], dtype=object),\n",
              " array(['INLAND'], dtype=object),\n",
              " array(['<1H OCEAN'], dtype=object),\n",
              " array(['INLAND'], dtype=object),\n",
              " array(['<1H OCEAN'], dtype=object),\n",
              " array(['NEAR BAY'], dtype=object),\n",
              " array(['<1H OCEAN'], dtype=object),\n",
              " array(['INLAND'], dtype=object),\n",
              " array(['<1H OCEAN'], dtype=object),\n",
              " array(['INLAND'], dtype=object),\n",
              " array(['INLAND'], dtype=object),\n",
              " array(['NEAR OCEAN'], dtype=object),\n",
              " array(['INLAND'], dtype=object),\n",
              " array(['INLAND'], dtype=object),\n",
              " array(['<1H OCEAN'], dtype=object),\n",
              " array(['<1H OCEAN'], dtype=object),\n",
              " array(['<1H OCEAN'], dtype=object),\n",
              " array(['<1H OCEAN'], dtype=object),\n",
              " array(['<1H OCEAN'], dtype=object),\n",
              " array(['<1H OCEAN'], dtype=object),\n",
              " array(['<1H OCEAN'], dtype=object),\n",
              " array(['NEAR BAY'], dtype=object),\n",
              " array(['<1H OCEAN'], dtype=object),\n",
              " array(['NEAR OCEAN'], dtype=object),\n",
              " array(['INLAND'], dtype=object),\n",
              " array(['<1H OCEAN'], dtype=object),\n",
              " array(['NEAR BAY'], dtype=object),\n",
              " array(['<1H OCEAN'], dtype=object),\n",
              " array(['<1H OCEAN'], dtype=object),\n",
              " array(['NEAR BAY'], dtype=object),\n",
              " array(['<1H OCEAN'], dtype=object),\n",
              " array(['INLAND'], dtype=object),\n",
              " array(['NEAR BAY'], dtype=object),\n",
              " array(['INLAND'], dtype=object),\n",
              " array(['INLAND'], dtype=object),\n",
              " array(['<1H OCEAN'], dtype=object),\n",
              " array(['INLAND'], dtype=object),\n",
              " array(['<1H OCEAN'], dtype=object),\n",
              " array(['<1H OCEAN'], dtype=object),\n",
              " array(['INLAND'], dtype=object),\n",
              " array(['INLAND'], dtype=object),\n",
              " array(['INLAND'], dtype=object),\n",
              " array(['<1H OCEAN'], dtype=object),\n",
              " array(['<1H OCEAN'], dtype=object),\n",
              " array(['<1H OCEAN'], dtype=object),\n",
              " array(['<1H OCEAN'], dtype=object),\n",
              " array(['<1H OCEAN'], dtype=object),\n",
              " array(['<1H OCEAN'], dtype=object),\n",
              " array(['INLAND'], dtype=object),\n",
              " array(['INLAND'], dtype=object),\n",
              " array(['NEAR BAY'], dtype=object),\n",
              " array(['<1H OCEAN'], dtype=object),\n",
              " array(['<1H OCEAN'], dtype=object),\n",
              " array(['<1H OCEAN'], dtype=object),\n",
              " array(['INLAND'], dtype=object),\n",
              " array(['<1H OCEAN'], dtype=object),\n",
              " array(['<1H OCEAN'], dtype=object),\n",
              " array(['INLAND'], dtype=object),\n",
              " array(['NEAR OCEAN'], dtype=object),\n",
              " array(['<1H OCEAN'], dtype=object),\n",
              " array(['INLAND'], dtype=object),\n",
              " array(['<1H OCEAN'], dtype=object),\n",
              " array(['INLAND'], dtype=object),\n",
              " array(['<1H OCEAN'], dtype=object),\n",
              " array(['NEAR OCEAN'], dtype=object),\n",
              " array(['INLAND'], dtype=object),\n",
              " array(['INLAND'], dtype=object),\n",
              " array(['NEAR BAY'], dtype=object),\n",
              " array(['INLAND'], dtype=object),\n",
              " array(['INLAND'], dtype=object),\n",
              " array(['<1H OCEAN'], dtype=object),\n",
              " array(['INLAND'], dtype=object),\n",
              " array(['INLAND'], dtype=object),\n",
              " array(['<1H OCEAN'], dtype=object),\n",
              " array(['INLAND'], dtype=object),\n",
              " array(['INLAND'], dtype=object),\n",
              " array(['<1H OCEAN'], dtype=object),\n",
              " array(['NEAR BAY'], dtype=object),\n",
              " array(['<1H OCEAN'], dtype=object),\n",
              " array(['INLAND'], dtype=object),\n",
              " array(['NEAR BAY'], dtype=object),\n",
              " array(['<1H OCEAN'], dtype=object),\n",
              " array(['<1H OCEAN'], dtype=object),\n",
              " array(['<1H OCEAN'], dtype=object),\n",
              " array(['<1H OCEAN'], dtype=object),\n",
              " array(['NEAR OCEAN'], dtype=object),\n",
              " array(['<1H OCEAN'], dtype=object),\n",
              " array(['INLAND'], dtype=object),\n",
              " array(['NEAR OCEAN'], dtype=object),\n",
              " array(['NEAR BAY'], dtype=object),\n",
              " array(['INLAND'], dtype=object),\n",
              " array(['<1H OCEAN'], dtype=object),\n",
              " array(['<1H OCEAN'], dtype=object),\n",
              " array(['NEAR OCEAN'], dtype=object),\n",
              " array(['INLAND'], dtype=object),\n",
              " array(['INLAND'], dtype=object),\n",
              " array(['NEAR OCEAN'], dtype=object),\n",
              " array(['<1H OCEAN'], dtype=object),\n",
              " array(['NEAR OCEAN'], dtype=object),\n",
              " array(['NEAR BAY'], dtype=object),\n",
              " array(['<1H OCEAN'], dtype=object),\n",
              " array(['INLAND'], dtype=object),\n",
              " array(['INLAND'], dtype=object),\n",
              " array(['NEAR OCEAN'], dtype=object),\n",
              " array(['INLAND'], dtype=object),\n",
              " array(['INLAND'], dtype=object),\n",
              " array(['<1H OCEAN'], dtype=object),\n",
              " array(['<1H OCEAN'], dtype=object),\n",
              " array(['INLAND'], dtype=object),\n",
              " array(['INLAND'], dtype=object),\n",
              " array(['NEAR BAY'], dtype=object),\n",
              " array(['<1H OCEAN'], dtype=object),\n",
              " array(['INLAND'], dtype=object),\n",
              " array(['NEAR BAY'], dtype=object),\n",
              " array(['<1H OCEAN'], dtype=object),\n",
              " array(['INLAND'], dtype=object),\n",
              " array(['<1H OCEAN'], dtype=object),\n",
              " array(['NEAR OCEAN'], dtype=object),\n",
              " array(['INLAND'], dtype=object),\n",
              " array(['<1H OCEAN'], dtype=object),\n",
              " array(['<1H OCEAN'], dtype=object),\n",
              " array(['INLAND'], dtype=object),\n",
              " array(['<1H OCEAN'], dtype=object),\n",
              " array(['<1H OCEAN'], dtype=object),\n",
              " array(['NEAR BAY'], dtype=object),\n",
              " array(['INLAND'], dtype=object),\n",
              " array(['INLAND'], dtype=object),\n",
              " array(['NEAR BAY'], dtype=object),\n",
              " array(['<1H OCEAN'], dtype=object),\n",
              " array(['NEAR OCEAN'], dtype=object),\n",
              " array(['NEAR OCEAN'], dtype=object),\n",
              " array(['NEAR BAY'], dtype=object),\n",
              " array(['NEAR OCEAN'], dtype=object),\n",
              " array(['NEAR BAY'], dtype=object),\n",
              " array(['<1H OCEAN'], dtype=object),\n",
              " array(['<1H OCEAN'], dtype=object),\n",
              " array(['<1H OCEAN'], dtype=object),\n",
              " array(['<1H OCEAN'], dtype=object),\n",
              " array(['INLAND'], dtype=object),\n",
              " array(['INLAND'], dtype=object),\n",
              " array(['<1H OCEAN'], dtype=object),\n",
              " array(['NEAR OCEAN'], dtype=object),\n",
              " array(['INLAND'], dtype=object),\n",
              " array(['<1H OCEAN'], dtype=object),\n",
              " array(['INLAND'], dtype=object),\n",
              " array(['<1H OCEAN'], dtype=object),\n",
              " array(['<1H OCEAN'], dtype=object),\n",
              " array(['INLAND'], dtype=object),\n",
              " array(['<1H OCEAN'], dtype=object),\n",
              " array(['NEAR OCEAN'], dtype=object),\n",
              " array(['NEAR BAY'], dtype=object),\n",
              " array(['NEAR OCEAN'], dtype=object),\n",
              " array(['NEAR OCEAN'], dtype=object),\n",
              " array(['INLAND'], dtype=object),\n",
              " array(['INLAND'], dtype=object),\n",
              " array(['<1H OCEAN'], dtype=object),\n",
              " array(['INLAND'], dtype=object),\n",
              " array(['<1H OCEAN'], dtype=object),\n",
              " array(['INLAND'], dtype=object),\n",
              " array(['INLAND'], dtype=object),\n",
              " array(['NEAR BAY'], dtype=object),\n",
              " array(['INLAND'], dtype=object),\n",
              " array(['NEAR BAY'], dtype=object),\n",
              " array(['INLAND'], dtype=object),\n",
              " array(['<1H OCEAN'], dtype=object),\n",
              " array(['NEAR OCEAN'], dtype=object),\n",
              " array(['INLAND'], dtype=object),\n",
              " array(['NEAR OCEAN'], dtype=object),\n",
              " array(['<1H OCEAN'], dtype=object),\n",
              " array(['<1H OCEAN'], dtype=object),\n",
              " array(['<1H OCEAN'], dtype=object),\n",
              " array(['INLAND'], dtype=object),\n",
              " array(['NEAR BAY'], dtype=object),\n",
              " array(['INLAND'], dtype=object),\n",
              " array(['INLAND'], dtype=object),\n",
              " array(['INLAND'], dtype=object),\n",
              " array(['<1H OCEAN'], dtype=object),\n",
              " array(['NEAR BAY'], dtype=object),\n",
              " array(['<1H OCEAN'], dtype=object),\n",
              " array(['<1H OCEAN'], dtype=object),\n",
              " array(['NEAR OCEAN'], dtype=object),\n",
              " array(['NEAR BAY'], dtype=object),\n",
              " array(['<1H OCEAN'], dtype=object),\n",
              " array(['INLAND'], dtype=object),\n",
              " array(['NEAR BAY'], dtype=object),\n",
              " array(['<1H OCEAN'], dtype=object),\n",
              " array(['INLAND'], dtype=object),\n",
              " array(['<1H OCEAN'], dtype=object),\n",
              " array(['NEAR OCEAN'], dtype=object),\n",
              " array(['INLAND'], dtype=object),\n",
              " array(['<1H OCEAN'], dtype=object),\n",
              " array(['<1H OCEAN'], dtype=object),\n",
              " array(['INLAND'], dtype=object),\n",
              " array(['<1H OCEAN'], dtype=object),\n",
              " array(['INLAND'], dtype=object),\n",
              " array(['<1H OCEAN'], dtype=object),\n",
              " array(['NEAR OCEAN'], dtype=object),\n",
              " array(['NEAR OCEAN'], dtype=object),\n",
              " array(['<1H OCEAN'], dtype=object),\n",
              " array(['INLAND'], dtype=object),\n",
              " array(['<1H OCEAN'], dtype=object),\n",
              " array(['<1H OCEAN'], dtype=object),\n",
              " array(['NEAR OCEAN'], dtype=object),\n",
              " array(['<1H OCEAN'], dtype=object),\n",
              " array(['<1H OCEAN'], dtype=object),\n",
              " array(['<1H OCEAN'], dtype=object),\n",
              " array(['<1H OCEAN'], dtype=object),\n",
              " array(['NEAR OCEAN'], dtype=object),\n",
              " array(['INLAND'], dtype=object),\n",
              " array(['<1H OCEAN'], dtype=object),\n",
              " array(['INLAND'], dtype=object),\n",
              " array(['INLAND'], dtype=object),\n",
              " array(['NEAR OCEAN'], dtype=object),\n",
              " array(['<1H OCEAN'], dtype=object),\n",
              " array(['INLAND'], dtype=object),\n",
              " array(['<1H OCEAN'], dtype=object),\n",
              " array(['INLAND'], dtype=object),\n",
              " array(['INLAND'], dtype=object),\n",
              " array(['<1H OCEAN'], dtype=object),\n",
              " array(['<1H OCEAN'], dtype=object),\n",
              " array(['<1H OCEAN'], dtype=object),\n",
              " array(['INLAND'], dtype=object),\n",
              " array(['INLAND'], dtype=object),\n",
              " array(['<1H OCEAN'], dtype=object),\n",
              " array(['<1H OCEAN'], dtype=object),\n",
              " array(['INLAND'], dtype=object),\n",
              " array(['NEAR BAY'], dtype=object),\n",
              " array(['NEAR BAY'], dtype=object),\n",
              " array(['<1H OCEAN'], dtype=object),\n",
              " array(['NEAR OCEAN'], dtype=object),\n",
              " array(['<1H OCEAN'], dtype=object),\n",
              " array(['<1H OCEAN'], dtype=object),\n",
              " array(['INLAND'], dtype=object),\n",
              " array(['INLAND'], dtype=object),\n",
              " array(['NEAR OCEAN'], dtype=object),\n",
              " array(['INLAND'], dtype=object),\n",
              " array(['<1H OCEAN'], dtype=object),\n",
              " array(['INLAND'], dtype=object),\n",
              " array(['<1H OCEAN'], dtype=object),\n",
              " array(['<1H OCEAN'], dtype=object),\n",
              " array(['<1H OCEAN'], dtype=object),\n",
              " array(['INLAND'], dtype=object),\n",
              " array(['INLAND'], dtype=object),\n",
              " array(['NEAR OCEAN'], dtype=object),\n",
              " array(['<1H OCEAN'], dtype=object),\n",
              " array(['INLAND'], dtype=object),\n",
              " array(['NEAR BAY'], dtype=object),\n",
              " array(['NEAR OCEAN'], dtype=object),\n",
              " array(['INLAND'], dtype=object),\n",
              " array(['<1H OCEAN'], dtype=object),\n",
              " array(['<1H OCEAN'], dtype=object),\n",
              " array(['<1H OCEAN'], dtype=object),\n",
              " array(['INLAND'], dtype=object),\n",
              " array(['<1H OCEAN'], dtype=object),\n",
              " array(['NEAR OCEAN'], dtype=object),\n",
              " array(['INLAND'], dtype=object),\n",
              " array(['<1H OCEAN'], dtype=object),\n",
              " array(['INLAND'], dtype=object),\n",
              " array(['<1H OCEAN'], dtype=object),\n",
              " array(['NEAR BAY'], dtype=object),\n",
              " array(['NEAR OCEAN'], dtype=object),\n",
              " array(['<1H OCEAN'], dtype=object),\n",
              " array(['<1H OCEAN'], dtype=object),\n",
              " array(['<1H OCEAN'], dtype=object),\n",
              " array(['INLAND'], dtype=object),\n",
              " array(['<1H OCEAN'], dtype=object),\n",
              " array(['<1H OCEAN'], dtype=object),\n",
              " array(['<1H OCEAN'], dtype=object),\n",
              " array(['INLAND'], dtype=object),\n",
              " array(['INLAND'], dtype=object),\n",
              " array(['INLAND'], dtype=object),\n",
              " array(['NEAR BAY'], dtype=object),\n",
              " array(['NEAR OCEAN'], dtype=object),\n",
              " array(['INLAND'], dtype=object),\n",
              " array(['NEAR OCEAN'], dtype=object),\n",
              " array(['INLAND'], dtype=object),\n",
              " array(['INLAND'], dtype=object),\n",
              " array(['NEAR OCEAN'], dtype=object),\n",
              " array(['NEAR OCEAN'], dtype=object),\n",
              " array(['<1H OCEAN'], dtype=object),\n",
              " array(['NEAR OCEAN'], dtype=object),\n",
              " array(['<1H OCEAN'], dtype=object),\n",
              " array(['NEAR BAY'], dtype=object),\n",
              " array(['INLAND'], dtype=object),\n",
              " array(['INLAND'], dtype=object),\n",
              " array(['<1H OCEAN'], dtype=object),\n",
              " array(['INLAND'], dtype=object),\n",
              " array(['INLAND'], dtype=object),\n",
              " array(['<1H OCEAN'], dtype=object),\n",
              " array(['INLAND'], dtype=object),\n",
              " array(['<1H OCEAN'], dtype=object),\n",
              " array(['NEAR BAY'], dtype=object),\n",
              " array(['<1H OCEAN'], dtype=object),\n",
              " array(['NEAR BAY'], dtype=object),\n",
              " array(['INLAND'], dtype=object),\n",
              " array(['INLAND'], dtype=object),\n",
              " array(['INLAND'], dtype=object),\n",
              " array(['<1H OCEAN'], dtype=object),\n",
              " array(['INLAND'], dtype=object),\n",
              " array(['INLAND'], dtype=object),\n",
              " array(['INLAND'], dtype=object),\n",
              " array(['<1H OCEAN'], dtype=object),\n",
              " array(['<1H OCEAN'], dtype=object),\n",
              " array(['NEAR BAY'], dtype=object),\n",
              " array(['<1H OCEAN'], dtype=object),\n",
              " array(['<1H OCEAN'], dtype=object),\n",
              " array(['INLAND'], dtype=object),\n",
              " array(['NEAR BAY'], dtype=object),\n",
              " array(['<1H OCEAN'], dtype=object),\n",
              " array(['NEAR BAY'], dtype=object),\n",
              " array(['<1H OCEAN'], dtype=object),\n",
              " array(['INLAND'], dtype=object),\n",
              " array(['INLAND'], dtype=object),\n",
              " array(['<1H OCEAN'], dtype=object),\n",
              " array(['<1H OCEAN'], dtype=object),\n",
              " array(['INLAND'], dtype=object),\n",
              " array(['INLAND'], dtype=object),\n",
              " array(['<1H OCEAN'], dtype=object),\n",
              " array(['<1H OCEAN'], dtype=object),\n",
              " array(['<1H OCEAN'], dtype=object),\n",
              " array(['NEAR BAY'], dtype=object),\n",
              " array(['<1H OCEAN'], dtype=object),\n",
              " array(['NEAR BAY'], dtype=object),\n",
              " array(['INLAND'], dtype=object),\n",
              " array(['NEAR BAY'], dtype=object),\n",
              " array(['INLAND'], dtype=object),\n",
              " array(['NEAR OCEAN'], dtype=object),\n",
              " array(['NEAR OCEAN'], dtype=object),\n",
              " array(['<1H OCEAN'], dtype=object),\n",
              " array(['INLAND'], dtype=object),\n",
              " array(['<1H OCEAN'], dtype=object),\n",
              " array(['INLAND'], dtype=object),\n",
              " array(['INLAND'], dtype=object),\n",
              " array(['INLAND'], dtype=object),\n",
              " array(['<1H OCEAN'], dtype=object),\n",
              " array(['<1H OCEAN'], dtype=object),\n",
              " array(['INLAND'], dtype=object),\n",
              " array(['<1H OCEAN'], dtype=object),\n",
              " array(['INLAND'], dtype=object),\n",
              " array(['NEAR OCEAN'], dtype=object),\n",
              " array(['INLAND'], dtype=object),\n",
              " array(['NEAR OCEAN'], dtype=object),\n",
              " array(['NEAR BAY'], dtype=object),\n",
              " array(['<1H OCEAN'], dtype=object),\n",
              " array(['INLAND'], dtype=object),\n",
              " array(['<1H OCEAN'], dtype=object),\n",
              " array(['INLAND'], dtype=object),\n",
              " array(['<1H OCEAN'], dtype=object),\n",
              " array(['NEAR BAY'], dtype=object),\n",
              " array(['NEAR OCEAN'], dtype=object),\n",
              " array(['<1H OCEAN'], dtype=object),\n",
              " array(['<1H OCEAN'], dtype=object),\n",
              " array(['NEAR BAY'], dtype=object),\n",
              " array(['<1H OCEAN'], dtype=object),\n",
              " array(['<1H OCEAN'], dtype=object),\n",
              " array(['INLAND'], dtype=object),\n",
              " array(['NEAR OCEAN'], dtype=object),\n",
              " array(['INLAND'], dtype=object),\n",
              " array(['<1H OCEAN'], dtype=object),\n",
              " array(['<1H OCEAN'], dtype=object),\n",
              " array(['NEAR BAY'], dtype=object),\n",
              " array(['<1H OCEAN'], dtype=object),\n",
              " array(['<1H OCEAN'], dtype=object),\n",
              " array(['INLAND'], dtype=object),\n",
              " array(['<1H OCEAN'], dtype=object),\n",
              " array(['NEAR OCEAN'], dtype=object),\n",
              " array(['NEAR BAY'], dtype=object),\n",
              " array(['<1H OCEAN'], dtype=object),\n",
              " array(['<1H OCEAN'], dtype=object),\n",
              " array(['<1H OCEAN'], dtype=object),\n",
              " array(['<1H OCEAN'], dtype=object),\n",
              " array(['INLAND'], dtype=object),\n",
              " array(['<1H OCEAN'], dtype=object),\n",
              " array(['<1H OCEAN'], dtype=object),\n",
              " array(['<1H OCEAN'], dtype=object),\n",
              " array(['<1H OCEAN'], dtype=object),\n",
              " array(['<1H OCEAN'], dtype=object),\n",
              " array(['NEAR BAY'], dtype=object),\n",
              " array(['INLAND'], dtype=object),\n",
              " array(['INLAND'], dtype=object),\n",
              " array(['INLAND'], dtype=object),\n",
              " array(['INLAND'], dtype=object),\n",
              " array(['<1H OCEAN'], dtype=object),\n",
              " array(['INLAND'], dtype=object),\n",
              " array(['<1H OCEAN'], dtype=object),\n",
              " array(['<1H OCEAN'], dtype=object),\n",
              " array(['INLAND'], dtype=object),\n",
              " array(['NEAR BAY'], dtype=object),\n",
              " array(['NEAR BAY'], dtype=object),\n",
              " array(['INLAND'], dtype=object),\n",
              " array(['<1H OCEAN'], dtype=object),\n",
              " array(['INLAND'], dtype=object),\n",
              " array(['NEAR BAY'], dtype=object),\n",
              " array(['INLAND'], dtype=object),\n",
              " array(['INLAND'], dtype=object),\n",
              " array(['INLAND'], dtype=object),\n",
              " array(['INLAND'], dtype=object),\n",
              " array(['NEAR BAY'], dtype=object),\n",
              " array(['<1H OCEAN'], dtype=object),\n",
              " array(['<1H OCEAN'], dtype=object),\n",
              " array(['INLAND'], dtype=object),\n",
              " array(['<1H OCEAN'], dtype=object),\n",
              " array(['<1H OCEAN'], dtype=object),\n",
              " array(['INLAND'], dtype=object),\n",
              " array(['<1H OCEAN'], dtype=object),\n",
              " array(['NEAR OCEAN'], dtype=object),\n",
              " array(['NEAR BAY'], dtype=object),\n",
              " array(['NEAR OCEAN'], dtype=object),\n",
              " array(['NEAR OCEAN'], dtype=object),\n",
              " array(['NEAR OCEAN'], dtype=object),\n",
              " array(['INLAND'], dtype=object),\n",
              " array(['<1H OCEAN'], dtype=object),\n",
              " array(['<1H OCEAN'], dtype=object),\n",
              " array(['<1H OCEAN'], dtype=object),\n",
              " array(['NEAR BAY'], dtype=object),\n",
              " array(['INLAND'], dtype=object),\n",
              " array(['<1H OCEAN'], dtype=object),\n",
              " array(['<1H OCEAN'], dtype=object),\n",
              " array(['INLAND'], dtype=object),\n",
              " array(['<1H OCEAN'], dtype=object),\n",
              " array(['NEAR BAY'], dtype=object),\n",
              " array(['INLAND'], dtype=object),\n",
              " array(['<1H OCEAN'], dtype=object),\n",
              " array(['NEAR BAY'], dtype=object),\n",
              " array(['<1H OCEAN'], dtype=object),\n",
              " array(['NEAR OCEAN'], dtype=object),\n",
              " array(['INLAND'], dtype=object),\n",
              " array(['INLAND'], dtype=object),\n",
              " array(['NEAR OCEAN'], dtype=object),\n",
              " array(['INLAND'], dtype=object),\n",
              " array(['<1H OCEAN'], dtype=object),\n",
              " array(['NEAR OCEAN'], dtype=object),\n",
              " array(['<1H OCEAN'], dtype=object),\n",
              " array(['INLAND'], dtype=object),\n",
              " array(['NEAR BAY'], dtype=object),\n",
              " array(['NEAR BAY'], dtype=object),\n",
              " array(['<1H OCEAN'], dtype=object),\n",
              " array(['INLAND'], dtype=object),\n",
              " array(['NEAR OCEAN'], dtype=object),\n",
              " array(['<1H OCEAN'], dtype=object),\n",
              " array(['INLAND'], dtype=object),\n",
              " array(['NEAR OCEAN'], dtype=object),\n",
              " array(['<1H OCEAN'], dtype=object),\n",
              " array(['<1H OCEAN'], dtype=object),\n",
              " array(['<1H OCEAN'], dtype=object),\n",
              " array(['INLAND'], dtype=object),\n",
              " array(['<1H OCEAN'], dtype=object),\n",
              " array(['INLAND'], dtype=object),\n",
              " array(['NEAR OCEAN'], dtype=object),\n",
              " array(['INLAND'], dtype=object),\n",
              " array(['<1H OCEAN'], dtype=object),\n",
              " array(['<1H OCEAN'], dtype=object),\n",
              " array(['INLAND'], dtype=object),\n",
              " array(['INLAND'], dtype=object),\n",
              " array(['<1H OCEAN'], dtype=object),\n",
              " array(['<1H OCEAN'], dtype=object),\n",
              " array(['<1H OCEAN'], dtype=object),\n",
              " array(['INLAND'], dtype=object),\n",
              " array(['INLAND'], dtype=object),\n",
              " array(['INLAND'], dtype=object),\n",
              " array(['INLAND'], dtype=object),\n",
              " array(['<1H OCEAN'], dtype=object),\n",
              " array(['<1H OCEAN'], dtype=object),\n",
              " array(['<1H OCEAN'], dtype=object),\n",
              " array(['<1H OCEAN'], dtype=object),\n",
              " array(['<1H OCEAN'], dtype=object),\n",
              " array(['NEAR BAY'], dtype=object),\n",
              " array(['<1H OCEAN'], dtype=object),\n",
              " array(['<1H OCEAN'], dtype=object),\n",
              " array(['INLAND'], dtype=object),\n",
              " array(['<1H OCEAN'], dtype=object),\n",
              " array(['<1H OCEAN'], dtype=object),\n",
              " array(['NEAR OCEAN'], dtype=object),\n",
              " array(['<1H OCEAN'], dtype=object),\n",
              " array(['INLAND'], dtype=object),\n",
              " array(['INLAND'], dtype=object),\n",
              " array(['INLAND'], dtype=object),\n",
              " array(['<1H OCEAN'], dtype=object),\n",
              " array(['NEAR BAY'], dtype=object),\n",
              " array(['NEAR BAY'], dtype=object),\n",
              " array(['<1H OCEAN'], dtype=object),\n",
              " array(['<1H OCEAN'], dtype=object),\n",
              " array(['INLAND'], dtype=object),\n",
              " array(['<1H OCEAN'], dtype=object),\n",
              " array(['NEAR BAY'], dtype=object),\n",
              " array(['NEAR BAY'], dtype=object),\n",
              " array(['NEAR OCEAN'], dtype=object),\n",
              " array(['INLAND'], dtype=object),\n",
              " array(['<1H OCEAN'], dtype=object),\n",
              " array(['NEAR OCEAN'], dtype=object),\n",
              " array(['<1H OCEAN'], dtype=object),\n",
              " array(['<1H OCEAN'], dtype=object),\n",
              " array(['<1H OCEAN'], dtype=object),\n",
              " array(['NEAR OCEAN'], dtype=object),\n",
              " array(['<1H OCEAN'], dtype=object),\n",
              " array(['INLAND'], dtype=object),\n",
              " array(['INLAND'], dtype=object),\n",
              " array(['INLAND'], dtype=object),\n",
              " array(['<1H OCEAN'], dtype=object),\n",
              " array(['<1H OCEAN'], dtype=object),\n",
              " array(['<1H OCEAN'], dtype=object),\n",
              " array(['NEAR BAY'], dtype=object),\n",
              " array(['<1H OCEAN'], dtype=object),\n",
              " array(['NEAR BAY'], dtype=object),\n",
              " array(['NEAR OCEAN'], dtype=object),\n",
              " array(['<1H OCEAN'], dtype=object),\n",
              " array(['<1H OCEAN'], dtype=object),\n",
              " array(['INLAND'], dtype=object),\n",
              " array(['INLAND'], dtype=object),\n",
              " array(['INLAND'], dtype=object),\n",
              " array(['INLAND'], dtype=object),\n",
              " array(['<1H OCEAN'], dtype=object),\n",
              " array(['INLAND'], dtype=object),\n",
              " array(['<1H OCEAN'], dtype=object),\n",
              " array(['<1H OCEAN'], dtype=object),\n",
              " array(['NEAR OCEAN'], dtype=object),\n",
              " array(['<1H OCEAN'], dtype=object),\n",
              " array(['<1H OCEAN'], dtype=object),\n",
              " array(['NEAR BAY'], dtype=object),\n",
              " array(['INLAND'], dtype=object),\n",
              " array(['<1H OCEAN'], dtype=object),\n",
              " array(['NEAR OCEAN'], dtype=object),\n",
              " array(['INLAND'], dtype=object),\n",
              " array(['<1H OCEAN'], dtype=object),\n",
              " array(['<1H OCEAN'], dtype=object),\n",
              " array(['NEAR OCEAN'], dtype=object),\n",
              " array(['INLAND'], dtype=object),\n",
              " array(['INLAND'], dtype=object),\n",
              " array(['<1H OCEAN'], dtype=object),\n",
              " array(['<1H OCEAN'], dtype=object),\n",
              " array(['INLAND'], dtype=object),\n",
              " array(['INLAND'], dtype=object),\n",
              " array(['<1H OCEAN'], dtype=object),\n",
              " array(['<1H OCEAN'], dtype=object),\n",
              " array(['<1H OCEAN'], dtype=object),\n",
              " array(['<1H OCEAN'], dtype=object),\n",
              " array(['<1H OCEAN'], dtype=object),\n",
              " array(['INLAND'], dtype=object),\n",
              " array(['INLAND'], dtype=object),\n",
              " array(['<1H OCEAN'], dtype=object),\n",
              " array(['<1H OCEAN'], dtype=object),\n",
              " array(['<1H OCEAN'], dtype=object),\n",
              " array(['<1H OCEAN'], dtype=object),\n",
              " array(['NEAR OCEAN'], dtype=object),\n",
              " array(['<1H OCEAN'], dtype=object),\n",
              " array(['<1H OCEAN'], dtype=object),\n",
              " array(['NEAR OCEAN'], dtype=object),\n",
              " array(['NEAR OCEAN'], dtype=object),\n",
              " array(['<1H OCEAN'], dtype=object),\n",
              " array(['INLAND'], dtype=object),\n",
              " array(['NEAR OCEAN'], dtype=object),\n",
              " array(['<1H OCEAN'], dtype=object),\n",
              " array(['INLAND'], dtype=object),\n",
              " array(['<1H OCEAN'], dtype=object),\n",
              " array(['NEAR BAY'], dtype=object),\n",
              " array(['<1H OCEAN'], dtype=object),\n",
              " array(['NEAR OCEAN'], dtype=object),\n",
              " array(['INLAND'], dtype=object),\n",
              " array(['<1H OCEAN'], dtype=object),\n",
              " array(['<1H OCEAN'], dtype=object),\n",
              " array(['NEAR OCEAN'], dtype=object),\n",
              " array(['NEAR BAY'], dtype=object),\n",
              " array(['<1H OCEAN'], dtype=object),\n",
              " array(['<1H OCEAN'], dtype=object),\n",
              " array(['<1H OCEAN'], dtype=object),\n",
              " array(['NEAR OCEAN'], dtype=object),\n",
              " array(['NEAR OCEAN'], dtype=object),\n",
              " array(['INLAND'], dtype=object),\n",
              " array(['NEAR BAY'], dtype=object),\n",
              " array(['<1H OCEAN'], dtype=object),\n",
              " array(['INLAND'], dtype=object),\n",
              " array(['NEAR BAY'], dtype=object),\n",
              " array(['INLAND'], dtype=object),\n",
              " array(['<1H OCEAN'], dtype=object),\n",
              " array(['<1H OCEAN'], dtype=object),\n",
              " array(['<1H OCEAN'], dtype=object),\n",
              " array(['<1H OCEAN'], dtype=object),\n",
              " array(['<1H OCEAN'], dtype=object),\n",
              " array(['INLAND'], dtype=object),\n",
              " array(['NEAR BAY'], dtype=object),\n",
              " array(['<1H OCEAN'], dtype=object),\n",
              " array(['NEAR OCEAN'], dtype=object),\n",
              " array(['<1H OCEAN'], dtype=object),\n",
              " array(['INLAND'], dtype=object),\n",
              " array(['<1H OCEAN'], dtype=object),\n",
              " array(['<1H OCEAN'], dtype=object),\n",
              " array(['<1H OCEAN'], dtype=object),\n",
              " array(['<1H OCEAN'], dtype=object),\n",
              " array(['NEAR BAY'], dtype=object),\n",
              " array(['<1H OCEAN'], dtype=object),\n",
              " array(['INLAND'], dtype=object),\n",
              " array(['<1H OCEAN'], dtype=object),\n",
              " array(['NEAR BAY'], dtype=object),\n",
              " array(['NEAR OCEAN'], dtype=object),\n",
              " array(['<1H OCEAN'], dtype=object),\n",
              " array(['NEAR OCEAN'], dtype=object),\n",
              " array(['<1H OCEAN'], dtype=object),\n",
              " array(['NEAR BAY'], dtype=object),\n",
              " array(['<1H OCEAN'], dtype=object),\n",
              " array(['<1H OCEAN'], dtype=object),\n",
              " array(['NEAR BAY'], dtype=object),\n",
              " array(['<1H OCEAN'], dtype=object),\n",
              " array(['NEAR BAY'], dtype=object),\n",
              " array(['<1H OCEAN'], dtype=object),\n",
              " array(['INLAND'], dtype=object),\n",
              " array(['<1H OCEAN'], dtype=object),\n",
              " array(['<1H OCEAN'], dtype=object),\n",
              " array(['NEAR BAY'], dtype=object),\n",
              " array(['<1H OCEAN'], dtype=object),\n",
              " array(['NEAR OCEAN'], dtype=object),\n",
              " array(['INLAND'], dtype=object),\n",
              " array(['NEAR OCEAN'], dtype=object),\n",
              " array(['INLAND'], dtype=object),\n",
              " array(['<1H OCEAN'], dtype=object),\n",
              " array(['<1H OCEAN'], dtype=object),\n",
              " array(['<1H OCEAN'], dtype=object),\n",
              " array(['NEAR OCEAN'], dtype=object),\n",
              " array(['<1H OCEAN'], dtype=object),\n",
              " array(['<1H OCEAN'], dtype=object),\n",
              " array(['INLAND'], dtype=object),\n",
              " array(['<1H OCEAN'], dtype=object),\n",
              " array(['NEAR OCEAN'], dtype=object),\n",
              " array(['<1H OCEAN'], dtype=object),\n",
              " array(['<1H OCEAN'], dtype=object),\n",
              " array(['INLAND'], dtype=object),\n",
              " array(['<1H OCEAN'], dtype=object),\n",
              " array(['INLAND'], dtype=object),\n",
              " array(['<1H OCEAN'], dtype=object),\n",
              " array(['<1H OCEAN'], dtype=object),\n",
              " array(['NEAR OCEAN'], dtype=object),\n",
              " array(['<1H OCEAN'], dtype=object),\n",
              " array(['<1H OCEAN'], dtype=object),\n",
              " array(['NEAR BAY'], dtype=object),\n",
              " array(['NEAR OCEAN'], dtype=object),\n",
              " array(['INLAND'], dtype=object),\n",
              " array(['NEAR OCEAN'], dtype=object),\n",
              " array(['INLAND'], dtype=object),\n",
              " array(['INLAND'], dtype=object),\n",
              " array(['<1H OCEAN'], dtype=object),\n",
              " array(['<1H OCEAN'], dtype=object),\n",
              " array(['NEAR BAY'], dtype=object),\n",
              " array(['<1H OCEAN'], dtype=object),\n",
              " array(['<1H OCEAN'], dtype=object),\n",
              " array(['<1H OCEAN'], dtype=object),\n",
              " array(['<1H OCEAN'], dtype=object),\n",
              " array(['<1H OCEAN'], dtype=object),\n",
              " array(['INLAND'], dtype=object),\n",
              " array(['INLAND'], dtype=object),\n",
              " array(['<1H OCEAN'], dtype=object),\n",
              " array(['INLAND'], dtype=object),\n",
              " array(['<1H OCEAN'], dtype=object),\n",
              " array(['NEAR BAY'], dtype=object),\n",
              " array(['<1H OCEAN'], dtype=object),\n",
              " array(['<1H OCEAN'], dtype=object),\n",
              " array(['<1H OCEAN'], dtype=object),\n",
              " array(['INLAND'], dtype=object),\n",
              " array(['NEAR BAY'], dtype=object),\n",
              " array(['INLAND'], dtype=object),\n",
              " array(['INLAND'], dtype=object),\n",
              " array(['NEAR BAY'], dtype=object),\n",
              " array(['<1H OCEAN'], dtype=object),\n",
              " array(['<1H OCEAN'], dtype=object),\n",
              " array(['<1H OCEAN'], dtype=object),\n",
              " array(['<1H OCEAN'], dtype=object),\n",
              " array(['INLAND'], dtype=object),\n",
              " array(['<1H OCEAN'], dtype=object),\n",
              " array(['<1H OCEAN'], dtype=object),\n",
              " array(['<1H OCEAN'], dtype=object),\n",
              " array(['<1H OCEAN'], dtype=object),\n",
              " array(['INLAND'], dtype=object),\n",
              " array(['NEAR BAY'], dtype=object),\n",
              " array(['NEAR OCEAN'], dtype=object),\n",
              " array(['INLAND'], dtype=object),\n",
              " array(['NEAR BAY'], dtype=object),\n",
              " array(['<1H OCEAN'], dtype=object),\n",
              " array(['NEAR BAY'], dtype=object),\n",
              " array(['INLAND'], dtype=object),\n",
              " array(['NEAR OCEAN'], dtype=object),\n",
              " array(['INLAND'], dtype=object),\n",
              " array(['<1H OCEAN'], dtype=object),\n",
              " array(['<1H OCEAN'], dtype=object),\n",
              " array(['<1H OCEAN'], dtype=object),\n",
              " array(['<1H OCEAN'], dtype=object),\n",
              " array(['<1H OCEAN'], dtype=object),\n",
              " array(['NEAR OCEAN'], dtype=object),\n",
              " array(['NEAR BAY'], dtype=object),\n",
              " array(['INLAND'], dtype=object),\n",
              " array(['NEAR BAY'], dtype=object),\n",
              " array(['INLAND'], dtype=object),\n",
              " array(['NEAR OCEAN'], dtype=object),\n",
              " array(['NEAR BAY'], dtype=object),\n",
              " array(['INLAND'], dtype=object),\n",
              " array(['<1H OCEAN'], dtype=object),\n",
              " array(['<1H OCEAN'], dtype=object),\n",
              " array(['<1H OCEAN'], dtype=object),\n",
              " array(['<1H OCEAN'], dtype=object),\n",
              " array(['<1H OCEAN'], dtype=object),\n",
              " array(['<1H OCEAN'], dtype=object),\n",
              " array(['NEAR BAY'], dtype=object),\n",
              " array(['NEAR BAY'], dtype=object),\n",
              " array(['<1H OCEAN'], dtype=object),\n",
              " array(['NEAR OCEAN'], dtype=object),\n",
              " array(['INLAND'], dtype=object),\n",
              " array(['INLAND'], dtype=object),\n",
              " array(['INLAND'], dtype=object),\n",
              " array(['NEAR OCEAN'], dtype=object),\n",
              " array(['NEAR OCEAN'], dtype=object),\n",
              " array(['INLAND'], dtype=object),\n",
              " array(['INLAND'], dtype=object),\n",
              " array(['NEAR OCEAN'], dtype=object),\n",
              " array(['<1H OCEAN'], dtype=object),\n",
              " array(['<1H OCEAN'], dtype=object),\n",
              " array(['<1H OCEAN'], dtype=object),\n",
              " array(['<1H OCEAN'], dtype=object),\n",
              " array(['NEAR BAY'], dtype=object),\n",
              " array(['<1H OCEAN'], dtype=object),\n",
              " array(['INLAND'], dtype=object),\n",
              " array(['INLAND'], dtype=object),\n",
              " array(['<1H OCEAN'], dtype=object),\n",
              " array(['NEAR BAY'], dtype=object),\n",
              " array(['INLAND'], dtype=object),\n",
              " array(['INLAND'], dtype=object),\n",
              " array(['NEAR BAY'], dtype=object),\n",
              " array(['INLAND'], dtype=object),\n",
              " array(['NEAR BAY'], dtype=object),\n",
              " array(['NEAR BAY'], dtype=object),\n",
              " array(['INLAND'], dtype=object),\n",
              " array(['<1H OCEAN'], dtype=object),\n",
              " array(['INLAND'], dtype=object),\n",
              " array(['NEAR OCEAN'], dtype=object),\n",
              " array(['INLAND'], dtype=object),\n",
              " array(['NEAR OCEAN'], dtype=object),\n",
              " array(['INLAND'], dtype=object),\n",
              " array(['NEAR BAY'], dtype=object),\n",
              " array(['INLAND'], dtype=object),\n",
              " array(['NEAR OCEAN'], dtype=object),\n",
              " array(['INLAND'], dtype=object),\n",
              " array(['NEAR OCEAN'], dtype=object),\n",
              " array(['NEAR OCEAN'], dtype=object),\n",
              " array(['<1H OCEAN'], dtype=object),\n",
              " array(['INLAND'], dtype=object),\n",
              " array(['NEAR BAY'], dtype=object),\n",
              " array(['<1H OCEAN'], dtype=object),\n",
              " array(['<1H OCEAN'], dtype=object),\n",
              " array(['<1H OCEAN'], dtype=object),\n",
              " array(['INLAND'], dtype=object),\n",
              " array(['INLAND'], dtype=object),\n",
              " array(['NEAR BAY'], dtype=object),\n",
              " array(['NEAR BAY'], dtype=object),\n",
              " array(['INLAND'], dtype=object),\n",
              " array(['<1H OCEAN'], dtype=object),\n",
              " array(['NEAR BAY'], dtype=object),\n",
              " array(['<1H OCEAN'], dtype=object),\n",
              " array(['INLAND'], dtype=object),\n",
              " array(['NEAR BAY'], dtype=object),\n",
              " array(['<1H OCEAN'], dtype=object),\n",
              " array(['<1H OCEAN'], dtype=object),\n",
              " array(['INLAND'], dtype=object),\n",
              " array(['INLAND'], dtype=object),\n",
              " array(['NEAR OCEAN'], dtype=object),\n",
              " array(['<1H OCEAN'], dtype=object),\n",
              " array(['<1H OCEAN'], dtype=object),\n",
              " array(['NEAR BAY'], dtype=object),\n",
              " array(['<1H OCEAN'], dtype=object),\n",
              " array(['<1H OCEAN'], dtype=object),\n",
              " array(['<1H OCEAN'], dtype=object),\n",
              " array(['NEAR OCEAN'], dtype=object),\n",
              " array(['<1H OCEAN'], dtype=object),\n",
              " array(['<1H OCEAN'], dtype=object),\n",
              " array(['INLAND'], dtype=object),\n",
              " array(['<1H OCEAN'], dtype=object),\n",
              " array(['<1H OCEAN'], dtype=object),\n",
              " array(['NEAR OCEAN'], dtype=object),\n",
              " array(['INLAND'], dtype=object),\n",
              " array(['<1H OCEAN'], dtype=object),\n",
              " array(['<1H OCEAN'], dtype=object),\n",
              " array(['INLAND'], dtype=object),\n",
              " array(['NEAR BAY'], dtype=object),\n",
              " array(['<1H OCEAN'], dtype=object),\n",
              " array(['NEAR OCEAN'], dtype=object),\n",
              " array(['<1H OCEAN'], dtype=object),\n",
              " array(['NEAR BAY'], dtype=object),\n",
              " array(['INLAND'], dtype=object),\n",
              " array(['NEAR BAY'], dtype=object),\n",
              " array(['<1H OCEAN'], dtype=object),\n",
              " array(['INLAND'], dtype=object),\n",
              " array(['<1H OCEAN'], dtype=object),\n",
              " array(['INLAND'], dtype=object),\n",
              " array(['INLAND'], dtype=object),\n",
              " array(['<1H OCEAN'], dtype=object),\n",
              " array(['INLAND'], dtype=object),\n",
              " array(['NEAR BAY'], dtype=object),\n",
              " array(['<1H OCEAN'], dtype=object),\n",
              " array(['<1H OCEAN'], dtype=object),\n",
              " array(['NEAR OCEAN'], dtype=object),\n",
              " array(['INLAND'], dtype=object),\n",
              " array(['<1H OCEAN'], dtype=object),\n",
              " array(['NEAR BAY'], dtype=object),\n",
              " array(['NEAR OCEAN'], dtype=object),\n",
              " array(['NEAR BAY'], dtype=object),\n",
              " array(['INLAND'], dtype=object),\n",
              " array(['INLAND'], dtype=object),\n",
              " array(['<1H OCEAN'], dtype=object),\n",
              " array(['INLAND'], dtype=object),\n",
              " array(['<1H OCEAN'], dtype=object),\n",
              " array(['<1H OCEAN'], dtype=object),\n",
              " array(['<1H OCEAN'], dtype=object),\n",
              " array(['NEAR BAY'], dtype=object),\n",
              " array(['INLAND'], dtype=object),\n",
              " array(['NEAR BAY'], dtype=object),\n",
              " array(['<1H OCEAN'], dtype=object),\n",
              " array(['<1H OCEAN'], dtype=object),\n",
              " array(['<1H OCEAN'], dtype=object),\n",
              " array(['NEAR BAY'], dtype=object),\n",
              " array(['<1H OCEAN'], dtype=object),\n",
              " array(['<1H OCEAN'], dtype=object),\n",
              " array(['<1H OCEAN'], dtype=object),\n",
              " array(['INLAND'], dtype=object),\n",
              " array(['INLAND'], dtype=object),\n",
              " array(['NEAR OCEAN'], dtype=object),\n",
              " array(['NEAR BAY'], dtype=object),\n",
              " array(['<1H OCEAN'], dtype=object),\n",
              " array(['<1H OCEAN'], dtype=object),\n",
              " array(['<1H OCEAN'], dtype=object),\n",
              " array(['INLAND'], dtype=object),\n",
              " array(['INLAND'], dtype=object),\n",
              " array(['<1H OCEAN'], dtype=object),\n",
              " array(['<1H OCEAN'], dtype=object),\n",
              " array(['INLAND'], dtype=object),\n",
              " array(['NEAR BAY'], dtype=object),\n",
              " array(['NEAR BAY'], dtype=object),\n",
              " array(['<1H OCEAN'], dtype=object),\n",
              " array(['INLAND'], dtype=object),\n",
              " array(['<1H OCEAN'], dtype=object),\n",
              " array(['<1H OCEAN'], dtype=object),\n",
              " array(['<1H OCEAN'], dtype=object),\n",
              " array(['NEAR BAY'], dtype=object),\n",
              " array(['NEAR BAY'], dtype=object),\n",
              " array(['NEAR OCEAN'], dtype=object),\n",
              " array(['INLAND'], dtype=object),\n",
              " array(['NEAR BAY'], dtype=object),\n",
              " array(['INLAND'], dtype=object),\n",
              " array(['<1H OCEAN'], dtype=object),\n",
              " array(['NEAR OCEAN'], dtype=object),\n",
              " array(['NEAR BAY'], dtype=object),\n",
              " array(['<1H OCEAN'], dtype=object),\n",
              " array(['INLAND'], dtype=object),\n",
              " array(['<1H OCEAN'], dtype=object),\n",
              " array(['INLAND'], dtype=object),\n",
              " array(['INLAND'], dtype=object),\n",
              " array(['<1H OCEAN'], dtype=object),\n",
              " array(['<1H OCEAN'], dtype=object),\n",
              " array(['<1H OCEAN'], dtype=object),\n",
              " array(['INLAND'], dtype=object),\n",
              " array(['INLAND'], dtype=object),\n",
              " array(['NEAR BAY'], dtype=object),\n",
              " array(['<1H OCEAN'], dtype=object),\n",
              " array(['INLAND'], dtype=object),\n",
              " array(['<1H OCEAN'], dtype=object),\n",
              " array(['INLAND'], dtype=object),\n",
              " array(['<1H OCEAN'], dtype=object),\n",
              " array(['INLAND'], dtype=object),\n",
              " array(['NEAR BAY'], dtype=object),\n",
              " array(['<1H OCEAN'], dtype=object),\n",
              " array(['<1H OCEAN'], dtype=object),\n",
              " array(['<1H OCEAN'], dtype=object),\n",
              " array(['INLAND'], dtype=object),\n",
              " array(['<1H OCEAN'], dtype=object),\n",
              " array(['<1H OCEAN'], dtype=object),\n",
              " array(['INLAND'], dtype=object),\n",
              " array(['<1H OCEAN'], dtype=object),\n",
              " array(['INLAND'], dtype=object),\n",
              " array(['<1H OCEAN'], dtype=object),\n",
              " array(['<1H OCEAN'], dtype=object),\n",
              " array(['INLAND'], dtype=object),\n",
              " array(['<1H OCEAN'], dtype=object),\n",
              " array(['<1H OCEAN'], dtype=object),\n",
              " array(['INLAND'], dtype=object),\n",
              " array(['NEAR OCEAN'], dtype=object),\n",
              " array(['<1H OCEAN'], dtype=object),\n",
              " array(['<1H OCEAN'], dtype=object),\n",
              " array(['INLAND'], dtype=object),\n",
              " array(['INLAND'], dtype=object),\n",
              " array(['<1H OCEAN'], dtype=object),\n",
              " array(['INLAND'], dtype=object),\n",
              " array(['<1H OCEAN'], dtype=object),\n",
              " array(['<1H OCEAN'], dtype=object),\n",
              " array(['INLAND'], dtype=object),\n",
              " array(['<1H OCEAN'], dtype=object),\n",
              " array(['INLAND'], dtype=object),\n",
              " array(['INLAND'], dtype=object),\n",
              " array(['NEAR BAY'], dtype=object),\n",
              " array(['<1H OCEAN'], dtype=object),\n",
              " array(['INLAND'], dtype=object),\n",
              " array(['INLAND'], dtype=object),\n",
              " array(['<1H OCEAN'], dtype=object),\n",
              " array(['<1H OCEAN'], dtype=object),\n",
              " array(['NEAR BAY'], dtype=object),\n",
              " array(['INLAND'], dtype=object),\n",
              " array(['<1H OCEAN'], dtype=object),\n",
              " array(['INLAND'], dtype=object),\n",
              " array(['<1H OCEAN'], dtype=object),\n",
              " array(['<1H OCEAN'], dtype=object),\n",
              " array(['INLAND'], dtype=object),\n",
              " array(['INLAND'], dtype=object),\n",
              " array(['NEAR OCEAN'], dtype=object),\n",
              " array(['INLAND'], dtype=object),\n",
              " array(['<1H OCEAN'], dtype=object),\n",
              " array(['<1H OCEAN'], dtype=object),\n",
              " array(['<1H OCEAN'], dtype=object),\n",
              " array(['<1H OCEAN'], dtype=object),\n",
              " array(['NEAR OCEAN'], dtype=object),\n",
              " array(['INLAND'], dtype=object),\n",
              " array(['<1H OCEAN'], dtype=object),\n",
              " array(['<1H OCEAN'], dtype=object),\n",
              " array(['<1H OCEAN'], dtype=object),\n",
              " array(['<1H OCEAN'], dtype=object),\n",
              " array(['NEAR BAY'], dtype=object),\n",
              " array(['INLAND'], dtype=object),\n",
              " array(['<1H OCEAN'], dtype=object),\n",
              " array(['INLAND'], dtype=object),\n",
              " array(['INLAND'], dtype=object),\n",
              " array(['<1H OCEAN'], dtype=object),\n",
              " array(['INLAND'], dtype=object),\n",
              " array(['<1H OCEAN'], dtype=object),\n",
              " array(['<1H OCEAN'], dtype=object),\n",
              " array(['NEAR BAY'], dtype=object),\n",
              " array(['INLAND'], dtype=object),\n",
              " array(['<1H OCEAN'], dtype=object),\n",
              " ...]"
            ]
          },
          "metadata": {
            "tags": []
          },
          "execution_count": 64
        }
      ]
    },
    {
      "cell_type": "code",
      "metadata": {
        "id": "4QuPAkszj2LA",
        "colab_type": "code",
        "outputId": "e6de858b-8c84-46b2-bc58-aa0b95dea59b",
        "colab": {
          "base_uri": "https://localhost:8080/",
          "height": 0
        }
      },
      "source": [
        "# convert binary attribute per category\n",
        "# (https://medium.com/@michaeldelsole/what-is-one-hot-encoding-and-how-to-do-it-f0ae272f1179)\n",
        "from sklearn.preprocessing import OneHotEncoder\n",
        "\n",
        "cat_encoder = OneHotEncoder()\n",
        "housing_cat_1hot = cat_encoder.fit_transform([housing_cat])\n",
        "housing_cat_1hot\n",
        "\n",
        "\n",
        "# Alternatively, you can set `sparse=False` when creating the `OneHotEncoder`\n",
        "# cat_encoder = OneHotEncoder(sparse=False)\n",
        "# housing_cat_1hot = cat_encoder.fit_transform(housing_cat)\n",
        "# housing_cat_1hot"
      ],
      "execution_count": 65,
      "outputs": [
        {
          "output_type": "execute_result",
          "data": {
            "text/plain": [
              "<1x16512 sparse matrix of type '<class 'numpy.float64'>'\n",
              "\twith 16512 stored elements in Compressed Sparse Row format>"
            ]
          },
          "metadata": {
            "tags": []
          },
          "execution_count": 65
        }
      ]
    },
    {
      "cell_type": "code",
      "metadata": {
        "id": "qAyWlH1FlR07",
        "colab_type": "code",
        "outputId": "9c1be9bd-ff49-42c2-95f2-6c7319578430",
        "colab": {
          "base_uri": "https://localhost:8080/",
          "height": 0
        }
      },
      "source": [
        "# convert sparse matrix (only stores the location) to numpy array\n",
        "housing_cat_1hot.toarray()"
      ],
      "execution_count": 66,
      "outputs": [
        {
          "output_type": "execute_result",
          "data": {
            "text/plain": [
              "array([[1., 1., 1., ..., 1., 1., 1.]])"
            ]
          },
          "metadata": {
            "tags": []
          },
          "execution_count": 66
        }
      ]
    },
    {
      "cell_type": "code",
      "metadata": {
        "id": "tZJ7NbeZodA9",
        "colab_type": "code",
        "outputId": "b909e802-bb5a-4a06-9f16-e056249faa9e",
        "colab": {
          "base_uri": "https://localhost:8080/",
          "height": 0
        }
      },
      "source": [
        "cat_encoder.categories_"
      ],
      "execution_count": 67,
      "outputs": [
        {
          "output_type": "execute_result",
          "data": {
            "text/plain": [
              "[array(['<1H OCEAN'], dtype=object),\n",
              " array(['<1H OCEAN'], dtype=object),\n",
              " array(['NEAR OCEAN'], dtype=object),\n",
              " array(['INLAND'], dtype=object),\n",
              " array(['<1H OCEAN'], dtype=object),\n",
              " array(['INLAND'], dtype=object),\n",
              " array(['<1H OCEAN'], dtype=object),\n",
              " array(['INLAND'], dtype=object),\n",
              " array(['<1H OCEAN'], dtype=object),\n",
              " array(['<1H OCEAN'], dtype=object),\n",
              " array(['INLAND'], dtype=object),\n",
              " array(['INLAND'], dtype=object),\n",
              " array(['<1H OCEAN'], dtype=object),\n",
              " array(['INLAND'], dtype=object),\n",
              " array(['INLAND'], dtype=object),\n",
              " array(['<1H OCEAN'], dtype=object),\n",
              " array(['NEAR BAY'], dtype=object),\n",
              " array(['INLAND'], dtype=object),\n",
              " array(['INLAND'], dtype=object),\n",
              " array(['INLAND'], dtype=object),\n",
              " array(['<1H OCEAN'], dtype=object),\n",
              " array(['<1H OCEAN'], dtype=object),\n",
              " array(['<1H OCEAN'], dtype=object),\n",
              " array(['INLAND'], dtype=object),\n",
              " array(['INLAND'], dtype=object),\n",
              " array(['<1H OCEAN'], dtype=object),\n",
              " array(['<1H OCEAN'], dtype=object),\n",
              " array(['<1H OCEAN'], dtype=object),\n",
              " array(['<1H OCEAN'], dtype=object),\n",
              " array(['NEAR BAY'], dtype=object),\n",
              " array(['<1H OCEAN'], dtype=object),\n",
              " array(['<1H OCEAN'], dtype=object),\n",
              " array(['INLAND'], dtype=object),\n",
              " array(['INLAND'], dtype=object),\n",
              " array(['<1H OCEAN'], dtype=object),\n",
              " array(['<1H OCEAN'], dtype=object),\n",
              " array(['INLAND'], dtype=object),\n",
              " array(['<1H OCEAN'], dtype=object),\n",
              " array(['INLAND'], dtype=object),\n",
              " array(['<1H OCEAN'], dtype=object),\n",
              " array(['<1H OCEAN'], dtype=object),\n",
              " array(['<1H OCEAN'], dtype=object),\n",
              " array(['<1H OCEAN'], dtype=object),\n",
              " array(['NEAR OCEAN'], dtype=object),\n",
              " array(['NEAR OCEAN'], dtype=object),\n",
              " array(['<1H OCEAN'], dtype=object),\n",
              " array(['INLAND'], dtype=object),\n",
              " array(['<1H OCEAN'], dtype=object),\n",
              " array(['<1H OCEAN'], dtype=object),\n",
              " array(['<1H OCEAN'], dtype=object),\n",
              " array(['NEAR BAY'], dtype=object),\n",
              " array(['INLAND'], dtype=object),\n",
              " array(['<1H OCEAN'], dtype=object),\n",
              " array(['INLAND'], dtype=object),\n",
              " array(['<1H OCEAN'], dtype=object),\n",
              " array(['<1H OCEAN'], dtype=object),\n",
              " array(['INLAND'], dtype=object),\n",
              " array(['INLAND'], dtype=object),\n",
              " array(['NEAR BAY'], dtype=object),\n",
              " array(['NEAR BAY'], dtype=object),\n",
              " array(['NEAR BAY'], dtype=object),\n",
              " array(['INLAND'], dtype=object),\n",
              " array(['INLAND'], dtype=object),\n",
              " array(['INLAND'], dtype=object),\n",
              " array(['<1H OCEAN'], dtype=object),\n",
              " array(['INLAND'], dtype=object),\n",
              " array(['<1H OCEAN'], dtype=object),\n",
              " array(['INLAND'], dtype=object),\n",
              " array(['<1H OCEAN'], dtype=object),\n",
              " array(['<1H OCEAN'], dtype=object),\n",
              " array(['<1H OCEAN'], dtype=object),\n",
              " array(['<1H OCEAN'], dtype=object),\n",
              " array(['INLAND'], dtype=object),\n",
              " array(['<1H OCEAN'], dtype=object),\n",
              " array(['INLAND'], dtype=object),\n",
              " array(['<1H OCEAN'], dtype=object),\n",
              " array(['NEAR BAY'], dtype=object),\n",
              " array(['<1H OCEAN'], dtype=object),\n",
              " array(['INLAND'], dtype=object),\n",
              " array(['<1H OCEAN'], dtype=object),\n",
              " array(['INLAND'], dtype=object),\n",
              " array(['INLAND'], dtype=object),\n",
              " array(['NEAR OCEAN'], dtype=object),\n",
              " array(['INLAND'], dtype=object),\n",
              " array(['INLAND'], dtype=object),\n",
              " array(['<1H OCEAN'], dtype=object),\n",
              " array(['<1H OCEAN'], dtype=object),\n",
              " array(['<1H OCEAN'], dtype=object),\n",
              " array(['<1H OCEAN'], dtype=object),\n",
              " array(['<1H OCEAN'], dtype=object),\n",
              " array(['<1H OCEAN'], dtype=object),\n",
              " array(['<1H OCEAN'], dtype=object),\n",
              " array(['NEAR BAY'], dtype=object),\n",
              " array(['<1H OCEAN'], dtype=object),\n",
              " array(['NEAR OCEAN'], dtype=object),\n",
              " array(['INLAND'], dtype=object),\n",
              " array(['<1H OCEAN'], dtype=object),\n",
              " array(['NEAR BAY'], dtype=object),\n",
              " array(['<1H OCEAN'], dtype=object),\n",
              " array(['<1H OCEAN'], dtype=object),\n",
              " array(['NEAR BAY'], dtype=object),\n",
              " array(['<1H OCEAN'], dtype=object),\n",
              " array(['INLAND'], dtype=object),\n",
              " array(['NEAR BAY'], dtype=object),\n",
              " array(['INLAND'], dtype=object),\n",
              " array(['INLAND'], dtype=object),\n",
              " array(['<1H OCEAN'], dtype=object),\n",
              " array(['INLAND'], dtype=object),\n",
              " array(['<1H OCEAN'], dtype=object),\n",
              " array(['<1H OCEAN'], dtype=object),\n",
              " array(['INLAND'], dtype=object),\n",
              " array(['INLAND'], dtype=object),\n",
              " array(['INLAND'], dtype=object),\n",
              " array(['<1H OCEAN'], dtype=object),\n",
              " array(['<1H OCEAN'], dtype=object),\n",
              " array(['<1H OCEAN'], dtype=object),\n",
              " array(['<1H OCEAN'], dtype=object),\n",
              " array(['<1H OCEAN'], dtype=object),\n",
              " array(['<1H OCEAN'], dtype=object),\n",
              " array(['INLAND'], dtype=object),\n",
              " array(['INLAND'], dtype=object),\n",
              " array(['NEAR BAY'], dtype=object),\n",
              " array(['<1H OCEAN'], dtype=object),\n",
              " array(['<1H OCEAN'], dtype=object),\n",
              " array(['<1H OCEAN'], dtype=object),\n",
              " array(['INLAND'], dtype=object),\n",
              " array(['<1H OCEAN'], dtype=object),\n",
              " array(['<1H OCEAN'], dtype=object),\n",
              " array(['INLAND'], dtype=object),\n",
              " array(['NEAR OCEAN'], dtype=object),\n",
              " array(['<1H OCEAN'], dtype=object),\n",
              " array(['INLAND'], dtype=object),\n",
              " array(['<1H OCEAN'], dtype=object),\n",
              " array(['INLAND'], dtype=object),\n",
              " array(['<1H OCEAN'], dtype=object),\n",
              " array(['NEAR OCEAN'], dtype=object),\n",
              " array(['INLAND'], dtype=object),\n",
              " array(['INLAND'], dtype=object),\n",
              " array(['NEAR BAY'], dtype=object),\n",
              " array(['INLAND'], dtype=object),\n",
              " array(['INLAND'], dtype=object),\n",
              " array(['<1H OCEAN'], dtype=object),\n",
              " array(['INLAND'], dtype=object),\n",
              " array(['INLAND'], dtype=object),\n",
              " array(['<1H OCEAN'], dtype=object),\n",
              " array(['INLAND'], dtype=object),\n",
              " array(['INLAND'], dtype=object),\n",
              " array(['<1H OCEAN'], dtype=object),\n",
              " array(['NEAR BAY'], dtype=object),\n",
              " array(['<1H OCEAN'], dtype=object),\n",
              " array(['INLAND'], dtype=object),\n",
              " array(['NEAR BAY'], dtype=object),\n",
              " array(['<1H OCEAN'], dtype=object),\n",
              " array(['<1H OCEAN'], dtype=object),\n",
              " array(['<1H OCEAN'], dtype=object),\n",
              " array(['<1H OCEAN'], dtype=object),\n",
              " array(['NEAR OCEAN'], dtype=object),\n",
              " array(['<1H OCEAN'], dtype=object),\n",
              " array(['INLAND'], dtype=object),\n",
              " array(['NEAR OCEAN'], dtype=object),\n",
              " array(['NEAR BAY'], dtype=object),\n",
              " array(['INLAND'], dtype=object),\n",
              " array(['<1H OCEAN'], dtype=object),\n",
              " array(['<1H OCEAN'], dtype=object),\n",
              " array(['NEAR OCEAN'], dtype=object),\n",
              " array(['INLAND'], dtype=object),\n",
              " array(['INLAND'], dtype=object),\n",
              " array(['NEAR OCEAN'], dtype=object),\n",
              " array(['<1H OCEAN'], dtype=object),\n",
              " array(['NEAR OCEAN'], dtype=object),\n",
              " array(['NEAR BAY'], dtype=object),\n",
              " array(['<1H OCEAN'], dtype=object),\n",
              " array(['INLAND'], dtype=object),\n",
              " array(['INLAND'], dtype=object),\n",
              " array(['NEAR OCEAN'], dtype=object),\n",
              " array(['INLAND'], dtype=object),\n",
              " array(['INLAND'], dtype=object),\n",
              " array(['<1H OCEAN'], dtype=object),\n",
              " array(['<1H OCEAN'], dtype=object),\n",
              " array(['INLAND'], dtype=object),\n",
              " array(['INLAND'], dtype=object),\n",
              " array(['NEAR BAY'], dtype=object),\n",
              " array(['<1H OCEAN'], dtype=object),\n",
              " array(['INLAND'], dtype=object),\n",
              " array(['NEAR BAY'], dtype=object),\n",
              " array(['<1H OCEAN'], dtype=object),\n",
              " array(['INLAND'], dtype=object),\n",
              " array(['<1H OCEAN'], dtype=object),\n",
              " array(['NEAR OCEAN'], dtype=object),\n",
              " array(['INLAND'], dtype=object),\n",
              " array(['<1H OCEAN'], dtype=object),\n",
              " array(['<1H OCEAN'], dtype=object),\n",
              " array(['INLAND'], dtype=object),\n",
              " array(['<1H OCEAN'], dtype=object),\n",
              " array(['<1H OCEAN'], dtype=object),\n",
              " array(['NEAR BAY'], dtype=object),\n",
              " array(['INLAND'], dtype=object),\n",
              " array(['INLAND'], dtype=object),\n",
              " array(['NEAR BAY'], dtype=object),\n",
              " array(['<1H OCEAN'], dtype=object),\n",
              " array(['NEAR OCEAN'], dtype=object),\n",
              " array(['NEAR OCEAN'], dtype=object),\n",
              " array(['NEAR BAY'], dtype=object),\n",
              " array(['NEAR OCEAN'], dtype=object),\n",
              " array(['NEAR BAY'], dtype=object),\n",
              " array(['<1H OCEAN'], dtype=object),\n",
              " array(['<1H OCEAN'], dtype=object),\n",
              " array(['<1H OCEAN'], dtype=object),\n",
              " array(['<1H OCEAN'], dtype=object),\n",
              " array(['INLAND'], dtype=object),\n",
              " array(['INLAND'], dtype=object),\n",
              " array(['<1H OCEAN'], dtype=object),\n",
              " array(['NEAR OCEAN'], dtype=object),\n",
              " array(['INLAND'], dtype=object),\n",
              " array(['<1H OCEAN'], dtype=object),\n",
              " array(['INLAND'], dtype=object),\n",
              " array(['<1H OCEAN'], dtype=object),\n",
              " array(['<1H OCEAN'], dtype=object),\n",
              " array(['INLAND'], dtype=object),\n",
              " array(['<1H OCEAN'], dtype=object),\n",
              " array(['NEAR OCEAN'], dtype=object),\n",
              " array(['NEAR BAY'], dtype=object),\n",
              " array(['NEAR OCEAN'], dtype=object),\n",
              " array(['NEAR OCEAN'], dtype=object),\n",
              " array(['INLAND'], dtype=object),\n",
              " array(['INLAND'], dtype=object),\n",
              " array(['<1H OCEAN'], dtype=object),\n",
              " array(['INLAND'], dtype=object),\n",
              " array(['<1H OCEAN'], dtype=object),\n",
              " array(['INLAND'], dtype=object),\n",
              " array(['INLAND'], dtype=object),\n",
              " array(['NEAR BAY'], dtype=object),\n",
              " array(['INLAND'], dtype=object),\n",
              " array(['NEAR BAY'], dtype=object),\n",
              " array(['INLAND'], dtype=object),\n",
              " array(['<1H OCEAN'], dtype=object),\n",
              " array(['NEAR OCEAN'], dtype=object),\n",
              " array(['INLAND'], dtype=object),\n",
              " array(['NEAR OCEAN'], dtype=object),\n",
              " array(['<1H OCEAN'], dtype=object),\n",
              " array(['<1H OCEAN'], dtype=object),\n",
              " array(['<1H OCEAN'], dtype=object),\n",
              " array(['INLAND'], dtype=object),\n",
              " array(['NEAR BAY'], dtype=object),\n",
              " array(['INLAND'], dtype=object),\n",
              " array(['INLAND'], dtype=object),\n",
              " array(['INLAND'], dtype=object),\n",
              " array(['<1H OCEAN'], dtype=object),\n",
              " array(['NEAR BAY'], dtype=object),\n",
              " array(['<1H OCEAN'], dtype=object),\n",
              " array(['<1H OCEAN'], dtype=object),\n",
              " array(['NEAR OCEAN'], dtype=object),\n",
              " array(['NEAR BAY'], dtype=object),\n",
              " array(['<1H OCEAN'], dtype=object),\n",
              " array(['INLAND'], dtype=object),\n",
              " array(['NEAR BAY'], dtype=object),\n",
              " array(['<1H OCEAN'], dtype=object),\n",
              " array(['INLAND'], dtype=object),\n",
              " array(['<1H OCEAN'], dtype=object),\n",
              " array(['NEAR OCEAN'], dtype=object),\n",
              " array(['INLAND'], dtype=object),\n",
              " array(['<1H OCEAN'], dtype=object),\n",
              " array(['<1H OCEAN'], dtype=object),\n",
              " array(['INLAND'], dtype=object),\n",
              " array(['<1H OCEAN'], dtype=object),\n",
              " array(['INLAND'], dtype=object),\n",
              " array(['<1H OCEAN'], dtype=object),\n",
              " array(['NEAR OCEAN'], dtype=object),\n",
              " array(['NEAR OCEAN'], dtype=object),\n",
              " array(['<1H OCEAN'], dtype=object),\n",
              " array(['INLAND'], dtype=object),\n",
              " array(['<1H OCEAN'], dtype=object),\n",
              " array(['<1H OCEAN'], dtype=object),\n",
              " array(['NEAR OCEAN'], dtype=object),\n",
              " array(['<1H OCEAN'], dtype=object),\n",
              " array(['<1H OCEAN'], dtype=object),\n",
              " array(['<1H OCEAN'], dtype=object),\n",
              " array(['<1H OCEAN'], dtype=object),\n",
              " array(['NEAR OCEAN'], dtype=object),\n",
              " array(['INLAND'], dtype=object),\n",
              " array(['<1H OCEAN'], dtype=object),\n",
              " array(['INLAND'], dtype=object),\n",
              " array(['INLAND'], dtype=object),\n",
              " array(['NEAR OCEAN'], dtype=object),\n",
              " array(['<1H OCEAN'], dtype=object),\n",
              " array(['INLAND'], dtype=object),\n",
              " array(['<1H OCEAN'], dtype=object),\n",
              " array(['INLAND'], dtype=object),\n",
              " array(['INLAND'], dtype=object),\n",
              " array(['<1H OCEAN'], dtype=object),\n",
              " array(['<1H OCEAN'], dtype=object),\n",
              " array(['<1H OCEAN'], dtype=object),\n",
              " array(['INLAND'], dtype=object),\n",
              " array(['INLAND'], dtype=object),\n",
              " array(['<1H OCEAN'], dtype=object),\n",
              " array(['<1H OCEAN'], dtype=object),\n",
              " array(['INLAND'], dtype=object),\n",
              " array(['NEAR BAY'], dtype=object),\n",
              " array(['NEAR BAY'], dtype=object),\n",
              " array(['<1H OCEAN'], dtype=object),\n",
              " array(['NEAR OCEAN'], dtype=object),\n",
              " array(['<1H OCEAN'], dtype=object),\n",
              " array(['<1H OCEAN'], dtype=object),\n",
              " array(['INLAND'], dtype=object),\n",
              " array(['INLAND'], dtype=object),\n",
              " array(['NEAR OCEAN'], dtype=object),\n",
              " array(['INLAND'], dtype=object),\n",
              " array(['<1H OCEAN'], dtype=object),\n",
              " array(['INLAND'], dtype=object),\n",
              " array(['<1H OCEAN'], dtype=object),\n",
              " array(['<1H OCEAN'], dtype=object),\n",
              " array(['<1H OCEAN'], dtype=object),\n",
              " array(['INLAND'], dtype=object),\n",
              " array(['INLAND'], dtype=object),\n",
              " array(['NEAR OCEAN'], dtype=object),\n",
              " array(['<1H OCEAN'], dtype=object),\n",
              " array(['INLAND'], dtype=object),\n",
              " array(['NEAR BAY'], dtype=object),\n",
              " array(['NEAR OCEAN'], dtype=object),\n",
              " array(['INLAND'], dtype=object),\n",
              " array(['<1H OCEAN'], dtype=object),\n",
              " array(['<1H OCEAN'], dtype=object),\n",
              " array(['<1H OCEAN'], dtype=object),\n",
              " array(['INLAND'], dtype=object),\n",
              " array(['<1H OCEAN'], dtype=object),\n",
              " array(['NEAR OCEAN'], dtype=object),\n",
              " array(['INLAND'], dtype=object),\n",
              " array(['<1H OCEAN'], dtype=object),\n",
              " array(['INLAND'], dtype=object),\n",
              " array(['<1H OCEAN'], dtype=object),\n",
              " array(['NEAR BAY'], dtype=object),\n",
              " array(['NEAR OCEAN'], dtype=object),\n",
              " array(['<1H OCEAN'], dtype=object),\n",
              " array(['<1H OCEAN'], dtype=object),\n",
              " array(['<1H OCEAN'], dtype=object),\n",
              " array(['INLAND'], dtype=object),\n",
              " array(['<1H OCEAN'], dtype=object),\n",
              " array(['<1H OCEAN'], dtype=object),\n",
              " array(['<1H OCEAN'], dtype=object),\n",
              " array(['INLAND'], dtype=object),\n",
              " array(['INLAND'], dtype=object),\n",
              " array(['INLAND'], dtype=object),\n",
              " array(['NEAR BAY'], dtype=object),\n",
              " array(['NEAR OCEAN'], dtype=object),\n",
              " array(['INLAND'], dtype=object),\n",
              " array(['NEAR OCEAN'], dtype=object),\n",
              " array(['INLAND'], dtype=object),\n",
              " array(['INLAND'], dtype=object),\n",
              " array(['NEAR OCEAN'], dtype=object),\n",
              " array(['NEAR OCEAN'], dtype=object),\n",
              " array(['<1H OCEAN'], dtype=object),\n",
              " array(['NEAR OCEAN'], dtype=object),\n",
              " array(['<1H OCEAN'], dtype=object),\n",
              " array(['NEAR BAY'], dtype=object),\n",
              " array(['INLAND'], dtype=object),\n",
              " array(['INLAND'], dtype=object),\n",
              " array(['<1H OCEAN'], dtype=object),\n",
              " array(['INLAND'], dtype=object),\n",
              " array(['INLAND'], dtype=object),\n",
              " array(['<1H OCEAN'], dtype=object),\n",
              " array(['INLAND'], dtype=object),\n",
              " array(['<1H OCEAN'], dtype=object),\n",
              " array(['NEAR BAY'], dtype=object),\n",
              " array(['<1H OCEAN'], dtype=object),\n",
              " array(['NEAR BAY'], dtype=object),\n",
              " array(['INLAND'], dtype=object),\n",
              " array(['INLAND'], dtype=object),\n",
              " array(['INLAND'], dtype=object),\n",
              " array(['<1H OCEAN'], dtype=object),\n",
              " array(['INLAND'], dtype=object),\n",
              " array(['INLAND'], dtype=object),\n",
              " array(['INLAND'], dtype=object),\n",
              " array(['<1H OCEAN'], dtype=object),\n",
              " array(['<1H OCEAN'], dtype=object),\n",
              " array(['NEAR BAY'], dtype=object),\n",
              " array(['<1H OCEAN'], dtype=object),\n",
              " array(['<1H OCEAN'], dtype=object),\n",
              " array(['INLAND'], dtype=object),\n",
              " array(['NEAR BAY'], dtype=object),\n",
              " array(['<1H OCEAN'], dtype=object),\n",
              " array(['NEAR BAY'], dtype=object),\n",
              " array(['<1H OCEAN'], dtype=object),\n",
              " array(['INLAND'], dtype=object),\n",
              " array(['INLAND'], dtype=object),\n",
              " array(['<1H OCEAN'], dtype=object),\n",
              " array(['<1H OCEAN'], dtype=object),\n",
              " array(['INLAND'], dtype=object),\n",
              " array(['INLAND'], dtype=object),\n",
              " array(['<1H OCEAN'], dtype=object),\n",
              " array(['<1H OCEAN'], dtype=object),\n",
              " array(['<1H OCEAN'], dtype=object),\n",
              " array(['NEAR BAY'], dtype=object),\n",
              " array(['<1H OCEAN'], dtype=object),\n",
              " array(['NEAR BAY'], dtype=object),\n",
              " array(['INLAND'], dtype=object),\n",
              " array(['NEAR BAY'], dtype=object),\n",
              " array(['INLAND'], dtype=object),\n",
              " array(['NEAR OCEAN'], dtype=object),\n",
              " array(['NEAR OCEAN'], dtype=object),\n",
              " array(['<1H OCEAN'], dtype=object),\n",
              " array(['INLAND'], dtype=object),\n",
              " array(['<1H OCEAN'], dtype=object),\n",
              " array(['INLAND'], dtype=object),\n",
              " array(['INLAND'], dtype=object),\n",
              " array(['INLAND'], dtype=object),\n",
              " array(['<1H OCEAN'], dtype=object),\n",
              " array(['<1H OCEAN'], dtype=object),\n",
              " array(['INLAND'], dtype=object),\n",
              " array(['<1H OCEAN'], dtype=object),\n",
              " array(['INLAND'], dtype=object),\n",
              " array(['NEAR OCEAN'], dtype=object),\n",
              " array(['INLAND'], dtype=object),\n",
              " array(['NEAR OCEAN'], dtype=object),\n",
              " array(['NEAR BAY'], dtype=object),\n",
              " array(['<1H OCEAN'], dtype=object),\n",
              " array(['INLAND'], dtype=object),\n",
              " array(['<1H OCEAN'], dtype=object),\n",
              " array(['INLAND'], dtype=object),\n",
              " array(['<1H OCEAN'], dtype=object),\n",
              " array(['NEAR BAY'], dtype=object),\n",
              " array(['NEAR OCEAN'], dtype=object),\n",
              " array(['<1H OCEAN'], dtype=object),\n",
              " array(['<1H OCEAN'], dtype=object),\n",
              " array(['NEAR BAY'], dtype=object),\n",
              " array(['<1H OCEAN'], dtype=object),\n",
              " array(['<1H OCEAN'], dtype=object),\n",
              " array(['INLAND'], dtype=object),\n",
              " array(['NEAR OCEAN'], dtype=object),\n",
              " array(['INLAND'], dtype=object),\n",
              " array(['<1H OCEAN'], dtype=object),\n",
              " array(['<1H OCEAN'], dtype=object),\n",
              " array(['NEAR BAY'], dtype=object),\n",
              " array(['<1H OCEAN'], dtype=object),\n",
              " array(['<1H OCEAN'], dtype=object),\n",
              " array(['INLAND'], dtype=object),\n",
              " array(['<1H OCEAN'], dtype=object),\n",
              " array(['NEAR OCEAN'], dtype=object),\n",
              " array(['NEAR BAY'], dtype=object),\n",
              " array(['<1H OCEAN'], dtype=object),\n",
              " array(['<1H OCEAN'], dtype=object),\n",
              " array(['<1H OCEAN'], dtype=object),\n",
              " array(['<1H OCEAN'], dtype=object),\n",
              " array(['INLAND'], dtype=object),\n",
              " array(['<1H OCEAN'], dtype=object),\n",
              " array(['<1H OCEAN'], dtype=object),\n",
              " array(['<1H OCEAN'], dtype=object),\n",
              " array(['<1H OCEAN'], dtype=object),\n",
              " array(['<1H OCEAN'], dtype=object),\n",
              " array(['NEAR BAY'], dtype=object),\n",
              " array(['INLAND'], dtype=object),\n",
              " array(['INLAND'], dtype=object),\n",
              " array(['INLAND'], dtype=object),\n",
              " array(['INLAND'], dtype=object),\n",
              " array(['<1H OCEAN'], dtype=object),\n",
              " array(['INLAND'], dtype=object),\n",
              " array(['<1H OCEAN'], dtype=object),\n",
              " array(['<1H OCEAN'], dtype=object),\n",
              " array(['INLAND'], dtype=object),\n",
              " array(['NEAR BAY'], dtype=object),\n",
              " array(['NEAR BAY'], dtype=object),\n",
              " array(['INLAND'], dtype=object),\n",
              " array(['<1H OCEAN'], dtype=object),\n",
              " array(['INLAND'], dtype=object),\n",
              " array(['NEAR BAY'], dtype=object),\n",
              " array(['INLAND'], dtype=object),\n",
              " array(['INLAND'], dtype=object),\n",
              " array(['INLAND'], dtype=object),\n",
              " array(['INLAND'], dtype=object),\n",
              " array(['NEAR BAY'], dtype=object),\n",
              " array(['<1H OCEAN'], dtype=object),\n",
              " array(['<1H OCEAN'], dtype=object),\n",
              " array(['INLAND'], dtype=object),\n",
              " array(['<1H OCEAN'], dtype=object),\n",
              " array(['<1H OCEAN'], dtype=object),\n",
              " array(['INLAND'], dtype=object),\n",
              " array(['<1H OCEAN'], dtype=object),\n",
              " array(['NEAR OCEAN'], dtype=object),\n",
              " array(['NEAR BAY'], dtype=object),\n",
              " array(['NEAR OCEAN'], dtype=object),\n",
              " array(['NEAR OCEAN'], dtype=object),\n",
              " array(['NEAR OCEAN'], dtype=object),\n",
              " array(['INLAND'], dtype=object),\n",
              " array(['<1H OCEAN'], dtype=object),\n",
              " array(['<1H OCEAN'], dtype=object),\n",
              " array(['<1H OCEAN'], dtype=object),\n",
              " array(['NEAR BAY'], dtype=object),\n",
              " array(['INLAND'], dtype=object),\n",
              " array(['<1H OCEAN'], dtype=object),\n",
              " array(['<1H OCEAN'], dtype=object),\n",
              " array(['INLAND'], dtype=object),\n",
              " array(['<1H OCEAN'], dtype=object),\n",
              " array(['NEAR BAY'], dtype=object),\n",
              " array(['INLAND'], dtype=object),\n",
              " array(['<1H OCEAN'], dtype=object),\n",
              " array(['NEAR BAY'], dtype=object),\n",
              " array(['<1H OCEAN'], dtype=object),\n",
              " array(['NEAR OCEAN'], dtype=object),\n",
              " array(['INLAND'], dtype=object),\n",
              " array(['INLAND'], dtype=object),\n",
              " array(['NEAR OCEAN'], dtype=object),\n",
              " array(['INLAND'], dtype=object),\n",
              " array(['<1H OCEAN'], dtype=object),\n",
              " array(['NEAR OCEAN'], dtype=object),\n",
              " array(['<1H OCEAN'], dtype=object),\n",
              " array(['INLAND'], dtype=object),\n",
              " array(['NEAR BAY'], dtype=object),\n",
              " array(['NEAR BAY'], dtype=object),\n",
              " array(['<1H OCEAN'], dtype=object),\n",
              " array(['INLAND'], dtype=object),\n",
              " array(['NEAR OCEAN'], dtype=object),\n",
              " array(['<1H OCEAN'], dtype=object),\n",
              " array(['INLAND'], dtype=object),\n",
              " array(['NEAR OCEAN'], dtype=object),\n",
              " array(['<1H OCEAN'], dtype=object),\n",
              " array(['<1H OCEAN'], dtype=object),\n",
              " array(['<1H OCEAN'], dtype=object),\n",
              " array(['INLAND'], dtype=object),\n",
              " array(['<1H OCEAN'], dtype=object),\n",
              " array(['INLAND'], dtype=object),\n",
              " array(['NEAR OCEAN'], dtype=object),\n",
              " array(['INLAND'], dtype=object),\n",
              " array(['<1H OCEAN'], dtype=object),\n",
              " array(['<1H OCEAN'], dtype=object),\n",
              " array(['INLAND'], dtype=object),\n",
              " array(['INLAND'], dtype=object),\n",
              " array(['<1H OCEAN'], dtype=object),\n",
              " array(['<1H OCEAN'], dtype=object),\n",
              " array(['<1H OCEAN'], dtype=object),\n",
              " array(['INLAND'], dtype=object),\n",
              " array(['INLAND'], dtype=object),\n",
              " array(['INLAND'], dtype=object),\n",
              " array(['INLAND'], dtype=object),\n",
              " array(['<1H OCEAN'], dtype=object),\n",
              " array(['<1H OCEAN'], dtype=object),\n",
              " array(['<1H OCEAN'], dtype=object),\n",
              " array(['<1H OCEAN'], dtype=object),\n",
              " array(['<1H OCEAN'], dtype=object),\n",
              " array(['NEAR BAY'], dtype=object),\n",
              " array(['<1H OCEAN'], dtype=object),\n",
              " array(['<1H OCEAN'], dtype=object),\n",
              " array(['INLAND'], dtype=object),\n",
              " array(['<1H OCEAN'], dtype=object),\n",
              " array(['<1H OCEAN'], dtype=object),\n",
              " array(['NEAR OCEAN'], dtype=object),\n",
              " array(['<1H OCEAN'], dtype=object),\n",
              " array(['INLAND'], dtype=object),\n",
              " array(['INLAND'], dtype=object),\n",
              " array(['INLAND'], dtype=object),\n",
              " array(['<1H OCEAN'], dtype=object),\n",
              " array(['NEAR BAY'], dtype=object),\n",
              " array(['NEAR BAY'], dtype=object),\n",
              " array(['<1H OCEAN'], dtype=object),\n",
              " array(['<1H OCEAN'], dtype=object),\n",
              " array(['INLAND'], dtype=object),\n",
              " array(['<1H OCEAN'], dtype=object),\n",
              " array(['NEAR BAY'], dtype=object),\n",
              " array(['NEAR BAY'], dtype=object),\n",
              " array(['NEAR OCEAN'], dtype=object),\n",
              " array(['INLAND'], dtype=object),\n",
              " array(['<1H OCEAN'], dtype=object),\n",
              " array(['NEAR OCEAN'], dtype=object),\n",
              " array(['<1H OCEAN'], dtype=object),\n",
              " array(['<1H OCEAN'], dtype=object),\n",
              " array(['<1H OCEAN'], dtype=object),\n",
              " array(['NEAR OCEAN'], dtype=object),\n",
              " array(['<1H OCEAN'], dtype=object),\n",
              " array(['INLAND'], dtype=object),\n",
              " array(['INLAND'], dtype=object),\n",
              " array(['INLAND'], dtype=object),\n",
              " array(['<1H OCEAN'], dtype=object),\n",
              " array(['<1H OCEAN'], dtype=object),\n",
              " array(['<1H OCEAN'], dtype=object),\n",
              " array(['NEAR BAY'], dtype=object),\n",
              " array(['<1H OCEAN'], dtype=object),\n",
              " array(['NEAR BAY'], dtype=object),\n",
              " array(['NEAR OCEAN'], dtype=object),\n",
              " array(['<1H OCEAN'], dtype=object),\n",
              " array(['<1H OCEAN'], dtype=object),\n",
              " array(['INLAND'], dtype=object),\n",
              " array(['INLAND'], dtype=object),\n",
              " array(['INLAND'], dtype=object),\n",
              " array(['INLAND'], dtype=object),\n",
              " array(['<1H OCEAN'], dtype=object),\n",
              " array(['INLAND'], dtype=object),\n",
              " array(['<1H OCEAN'], dtype=object),\n",
              " array(['<1H OCEAN'], dtype=object),\n",
              " array(['NEAR OCEAN'], dtype=object),\n",
              " array(['<1H OCEAN'], dtype=object),\n",
              " array(['<1H OCEAN'], dtype=object),\n",
              " array(['NEAR BAY'], dtype=object),\n",
              " array(['INLAND'], dtype=object),\n",
              " array(['<1H OCEAN'], dtype=object),\n",
              " array(['NEAR OCEAN'], dtype=object),\n",
              " array(['INLAND'], dtype=object),\n",
              " array(['<1H OCEAN'], dtype=object),\n",
              " array(['<1H OCEAN'], dtype=object),\n",
              " array(['NEAR OCEAN'], dtype=object),\n",
              " array(['INLAND'], dtype=object),\n",
              " array(['INLAND'], dtype=object),\n",
              " array(['<1H OCEAN'], dtype=object),\n",
              " array(['<1H OCEAN'], dtype=object),\n",
              " array(['INLAND'], dtype=object),\n",
              " array(['INLAND'], dtype=object),\n",
              " array(['<1H OCEAN'], dtype=object),\n",
              " array(['<1H OCEAN'], dtype=object),\n",
              " array(['<1H OCEAN'], dtype=object),\n",
              " array(['<1H OCEAN'], dtype=object),\n",
              " array(['<1H OCEAN'], dtype=object),\n",
              " array(['INLAND'], dtype=object),\n",
              " array(['INLAND'], dtype=object),\n",
              " array(['<1H OCEAN'], dtype=object),\n",
              " array(['<1H OCEAN'], dtype=object),\n",
              " array(['<1H OCEAN'], dtype=object),\n",
              " array(['<1H OCEAN'], dtype=object),\n",
              " array(['NEAR OCEAN'], dtype=object),\n",
              " array(['<1H OCEAN'], dtype=object),\n",
              " array(['<1H OCEAN'], dtype=object),\n",
              " array(['NEAR OCEAN'], dtype=object),\n",
              " array(['NEAR OCEAN'], dtype=object),\n",
              " array(['<1H OCEAN'], dtype=object),\n",
              " array(['INLAND'], dtype=object),\n",
              " array(['NEAR OCEAN'], dtype=object),\n",
              " array(['<1H OCEAN'], dtype=object),\n",
              " array(['INLAND'], dtype=object),\n",
              " array(['<1H OCEAN'], dtype=object),\n",
              " array(['NEAR BAY'], dtype=object),\n",
              " array(['<1H OCEAN'], dtype=object),\n",
              " array(['NEAR OCEAN'], dtype=object),\n",
              " array(['INLAND'], dtype=object),\n",
              " array(['<1H OCEAN'], dtype=object),\n",
              " array(['<1H OCEAN'], dtype=object),\n",
              " array(['NEAR OCEAN'], dtype=object),\n",
              " array(['NEAR BAY'], dtype=object),\n",
              " array(['<1H OCEAN'], dtype=object),\n",
              " array(['<1H OCEAN'], dtype=object),\n",
              " array(['<1H OCEAN'], dtype=object),\n",
              " array(['NEAR OCEAN'], dtype=object),\n",
              " array(['NEAR OCEAN'], dtype=object),\n",
              " array(['INLAND'], dtype=object),\n",
              " array(['NEAR BAY'], dtype=object),\n",
              " array(['<1H OCEAN'], dtype=object),\n",
              " array(['INLAND'], dtype=object),\n",
              " array(['NEAR BAY'], dtype=object),\n",
              " array(['INLAND'], dtype=object),\n",
              " array(['<1H OCEAN'], dtype=object),\n",
              " array(['<1H OCEAN'], dtype=object),\n",
              " array(['<1H OCEAN'], dtype=object),\n",
              " array(['<1H OCEAN'], dtype=object),\n",
              " array(['<1H OCEAN'], dtype=object),\n",
              " array(['INLAND'], dtype=object),\n",
              " array(['NEAR BAY'], dtype=object),\n",
              " array(['<1H OCEAN'], dtype=object),\n",
              " array(['NEAR OCEAN'], dtype=object),\n",
              " array(['<1H OCEAN'], dtype=object),\n",
              " array(['INLAND'], dtype=object),\n",
              " array(['<1H OCEAN'], dtype=object),\n",
              " array(['<1H OCEAN'], dtype=object),\n",
              " array(['<1H OCEAN'], dtype=object),\n",
              " array(['<1H OCEAN'], dtype=object),\n",
              " array(['NEAR BAY'], dtype=object),\n",
              " array(['<1H OCEAN'], dtype=object),\n",
              " array(['INLAND'], dtype=object),\n",
              " array(['<1H OCEAN'], dtype=object),\n",
              " array(['NEAR BAY'], dtype=object),\n",
              " array(['NEAR OCEAN'], dtype=object),\n",
              " array(['<1H OCEAN'], dtype=object),\n",
              " array(['NEAR OCEAN'], dtype=object),\n",
              " array(['<1H OCEAN'], dtype=object),\n",
              " array(['NEAR BAY'], dtype=object),\n",
              " array(['<1H OCEAN'], dtype=object),\n",
              " array(['<1H OCEAN'], dtype=object),\n",
              " array(['NEAR BAY'], dtype=object),\n",
              " array(['<1H OCEAN'], dtype=object),\n",
              " array(['NEAR BAY'], dtype=object),\n",
              " array(['<1H OCEAN'], dtype=object),\n",
              " array(['INLAND'], dtype=object),\n",
              " array(['<1H OCEAN'], dtype=object),\n",
              " array(['<1H OCEAN'], dtype=object),\n",
              " array(['NEAR BAY'], dtype=object),\n",
              " array(['<1H OCEAN'], dtype=object),\n",
              " array(['NEAR OCEAN'], dtype=object),\n",
              " array(['INLAND'], dtype=object),\n",
              " array(['NEAR OCEAN'], dtype=object),\n",
              " array(['INLAND'], dtype=object),\n",
              " array(['<1H OCEAN'], dtype=object),\n",
              " array(['<1H OCEAN'], dtype=object),\n",
              " array(['<1H OCEAN'], dtype=object),\n",
              " array(['NEAR OCEAN'], dtype=object),\n",
              " array(['<1H OCEAN'], dtype=object),\n",
              " array(['<1H OCEAN'], dtype=object),\n",
              " array(['INLAND'], dtype=object),\n",
              " array(['<1H OCEAN'], dtype=object),\n",
              " array(['NEAR OCEAN'], dtype=object),\n",
              " array(['<1H OCEAN'], dtype=object),\n",
              " array(['<1H OCEAN'], dtype=object),\n",
              " array(['INLAND'], dtype=object),\n",
              " array(['<1H OCEAN'], dtype=object),\n",
              " array(['INLAND'], dtype=object),\n",
              " array(['<1H OCEAN'], dtype=object),\n",
              " array(['<1H OCEAN'], dtype=object),\n",
              " array(['NEAR OCEAN'], dtype=object),\n",
              " array(['<1H OCEAN'], dtype=object),\n",
              " array(['<1H OCEAN'], dtype=object),\n",
              " array(['NEAR BAY'], dtype=object),\n",
              " array(['NEAR OCEAN'], dtype=object),\n",
              " array(['INLAND'], dtype=object),\n",
              " array(['NEAR OCEAN'], dtype=object),\n",
              " array(['INLAND'], dtype=object),\n",
              " array(['INLAND'], dtype=object),\n",
              " array(['<1H OCEAN'], dtype=object),\n",
              " array(['<1H OCEAN'], dtype=object),\n",
              " array(['NEAR BAY'], dtype=object),\n",
              " array(['<1H OCEAN'], dtype=object),\n",
              " array(['<1H OCEAN'], dtype=object),\n",
              " array(['<1H OCEAN'], dtype=object),\n",
              " array(['<1H OCEAN'], dtype=object),\n",
              " array(['<1H OCEAN'], dtype=object),\n",
              " array(['INLAND'], dtype=object),\n",
              " array(['INLAND'], dtype=object),\n",
              " array(['<1H OCEAN'], dtype=object),\n",
              " array(['INLAND'], dtype=object),\n",
              " array(['<1H OCEAN'], dtype=object),\n",
              " array(['NEAR BAY'], dtype=object),\n",
              " array(['<1H OCEAN'], dtype=object),\n",
              " array(['<1H OCEAN'], dtype=object),\n",
              " array(['<1H OCEAN'], dtype=object),\n",
              " array(['INLAND'], dtype=object),\n",
              " array(['NEAR BAY'], dtype=object),\n",
              " array(['INLAND'], dtype=object),\n",
              " array(['INLAND'], dtype=object),\n",
              " array(['NEAR BAY'], dtype=object),\n",
              " array(['<1H OCEAN'], dtype=object),\n",
              " array(['<1H OCEAN'], dtype=object),\n",
              " array(['<1H OCEAN'], dtype=object),\n",
              " array(['<1H OCEAN'], dtype=object),\n",
              " array(['INLAND'], dtype=object),\n",
              " array(['<1H OCEAN'], dtype=object),\n",
              " array(['<1H OCEAN'], dtype=object),\n",
              " array(['<1H OCEAN'], dtype=object),\n",
              " array(['<1H OCEAN'], dtype=object),\n",
              " array(['INLAND'], dtype=object),\n",
              " array(['NEAR BAY'], dtype=object),\n",
              " array(['NEAR OCEAN'], dtype=object),\n",
              " array(['INLAND'], dtype=object),\n",
              " array(['NEAR BAY'], dtype=object),\n",
              " array(['<1H OCEAN'], dtype=object),\n",
              " array(['NEAR BAY'], dtype=object),\n",
              " array(['INLAND'], dtype=object),\n",
              " array(['NEAR OCEAN'], dtype=object),\n",
              " array(['INLAND'], dtype=object),\n",
              " array(['<1H OCEAN'], dtype=object),\n",
              " array(['<1H OCEAN'], dtype=object),\n",
              " array(['<1H OCEAN'], dtype=object),\n",
              " array(['<1H OCEAN'], dtype=object),\n",
              " array(['<1H OCEAN'], dtype=object),\n",
              " array(['NEAR OCEAN'], dtype=object),\n",
              " array(['NEAR BAY'], dtype=object),\n",
              " array(['INLAND'], dtype=object),\n",
              " array(['NEAR BAY'], dtype=object),\n",
              " array(['INLAND'], dtype=object),\n",
              " array(['NEAR OCEAN'], dtype=object),\n",
              " array(['NEAR BAY'], dtype=object),\n",
              " array(['INLAND'], dtype=object),\n",
              " array(['<1H OCEAN'], dtype=object),\n",
              " array(['<1H OCEAN'], dtype=object),\n",
              " array(['<1H OCEAN'], dtype=object),\n",
              " array(['<1H OCEAN'], dtype=object),\n",
              " array(['<1H OCEAN'], dtype=object),\n",
              " array(['<1H OCEAN'], dtype=object),\n",
              " array(['NEAR BAY'], dtype=object),\n",
              " array(['NEAR BAY'], dtype=object),\n",
              " array(['<1H OCEAN'], dtype=object),\n",
              " array(['NEAR OCEAN'], dtype=object),\n",
              " array(['INLAND'], dtype=object),\n",
              " array(['INLAND'], dtype=object),\n",
              " array(['INLAND'], dtype=object),\n",
              " array(['NEAR OCEAN'], dtype=object),\n",
              " array(['NEAR OCEAN'], dtype=object),\n",
              " array(['INLAND'], dtype=object),\n",
              " array(['INLAND'], dtype=object),\n",
              " array(['NEAR OCEAN'], dtype=object),\n",
              " array(['<1H OCEAN'], dtype=object),\n",
              " array(['<1H OCEAN'], dtype=object),\n",
              " array(['<1H OCEAN'], dtype=object),\n",
              " array(['<1H OCEAN'], dtype=object),\n",
              " array(['NEAR BAY'], dtype=object),\n",
              " array(['<1H OCEAN'], dtype=object),\n",
              " array(['INLAND'], dtype=object),\n",
              " array(['INLAND'], dtype=object),\n",
              " array(['<1H OCEAN'], dtype=object),\n",
              " array(['NEAR BAY'], dtype=object),\n",
              " array(['INLAND'], dtype=object),\n",
              " array(['INLAND'], dtype=object),\n",
              " array(['NEAR BAY'], dtype=object),\n",
              " array(['INLAND'], dtype=object),\n",
              " array(['NEAR BAY'], dtype=object),\n",
              " array(['NEAR BAY'], dtype=object),\n",
              " array(['INLAND'], dtype=object),\n",
              " array(['<1H OCEAN'], dtype=object),\n",
              " array(['INLAND'], dtype=object),\n",
              " array(['NEAR OCEAN'], dtype=object),\n",
              " array(['INLAND'], dtype=object),\n",
              " array(['NEAR OCEAN'], dtype=object),\n",
              " array(['INLAND'], dtype=object),\n",
              " array(['NEAR BAY'], dtype=object),\n",
              " array(['INLAND'], dtype=object),\n",
              " array(['NEAR OCEAN'], dtype=object),\n",
              " array(['INLAND'], dtype=object),\n",
              " array(['NEAR OCEAN'], dtype=object),\n",
              " array(['NEAR OCEAN'], dtype=object),\n",
              " array(['<1H OCEAN'], dtype=object),\n",
              " array(['INLAND'], dtype=object),\n",
              " array(['NEAR BAY'], dtype=object),\n",
              " array(['<1H OCEAN'], dtype=object),\n",
              " array(['<1H OCEAN'], dtype=object),\n",
              " array(['<1H OCEAN'], dtype=object),\n",
              " array(['INLAND'], dtype=object),\n",
              " array(['INLAND'], dtype=object),\n",
              " array(['NEAR BAY'], dtype=object),\n",
              " array(['NEAR BAY'], dtype=object),\n",
              " array(['INLAND'], dtype=object),\n",
              " array(['<1H OCEAN'], dtype=object),\n",
              " array(['NEAR BAY'], dtype=object),\n",
              " array(['<1H OCEAN'], dtype=object),\n",
              " array(['INLAND'], dtype=object),\n",
              " array(['NEAR BAY'], dtype=object),\n",
              " array(['<1H OCEAN'], dtype=object),\n",
              " array(['<1H OCEAN'], dtype=object),\n",
              " array(['INLAND'], dtype=object),\n",
              " array(['INLAND'], dtype=object),\n",
              " array(['NEAR OCEAN'], dtype=object),\n",
              " array(['<1H OCEAN'], dtype=object),\n",
              " array(['<1H OCEAN'], dtype=object),\n",
              " array(['NEAR BAY'], dtype=object),\n",
              " array(['<1H OCEAN'], dtype=object),\n",
              " array(['<1H OCEAN'], dtype=object),\n",
              " array(['<1H OCEAN'], dtype=object),\n",
              " array(['NEAR OCEAN'], dtype=object),\n",
              " array(['<1H OCEAN'], dtype=object),\n",
              " array(['<1H OCEAN'], dtype=object),\n",
              " array(['INLAND'], dtype=object),\n",
              " array(['<1H OCEAN'], dtype=object),\n",
              " array(['<1H OCEAN'], dtype=object),\n",
              " array(['NEAR OCEAN'], dtype=object),\n",
              " array(['INLAND'], dtype=object),\n",
              " array(['<1H OCEAN'], dtype=object),\n",
              " array(['<1H OCEAN'], dtype=object),\n",
              " array(['INLAND'], dtype=object),\n",
              " array(['NEAR BAY'], dtype=object),\n",
              " array(['<1H OCEAN'], dtype=object),\n",
              " array(['NEAR OCEAN'], dtype=object),\n",
              " array(['<1H OCEAN'], dtype=object),\n",
              " array(['NEAR BAY'], dtype=object),\n",
              " array(['INLAND'], dtype=object),\n",
              " array(['NEAR BAY'], dtype=object),\n",
              " array(['<1H OCEAN'], dtype=object),\n",
              " array(['INLAND'], dtype=object),\n",
              " array(['<1H OCEAN'], dtype=object),\n",
              " array(['INLAND'], dtype=object),\n",
              " array(['INLAND'], dtype=object),\n",
              " array(['<1H OCEAN'], dtype=object),\n",
              " array(['INLAND'], dtype=object),\n",
              " array(['NEAR BAY'], dtype=object),\n",
              " array(['<1H OCEAN'], dtype=object),\n",
              " array(['<1H OCEAN'], dtype=object),\n",
              " array(['NEAR OCEAN'], dtype=object),\n",
              " array(['INLAND'], dtype=object),\n",
              " array(['<1H OCEAN'], dtype=object),\n",
              " array(['NEAR BAY'], dtype=object),\n",
              " array(['NEAR OCEAN'], dtype=object),\n",
              " array(['NEAR BAY'], dtype=object),\n",
              " array(['INLAND'], dtype=object),\n",
              " array(['INLAND'], dtype=object),\n",
              " array(['<1H OCEAN'], dtype=object),\n",
              " array(['INLAND'], dtype=object),\n",
              " array(['<1H OCEAN'], dtype=object),\n",
              " array(['<1H OCEAN'], dtype=object),\n",
              " array(['<1H OCEAN'], dtype=object),\n",
              " array(['NEAR BAY'], dtype=object),\n",
              " array(['INLAND'], dtype=object),\n",
              " array(['NEAR BAY'], dtype=object),\n",
              " array(['<1H OCEAN'], dtype=object),\n",
              " array(['<1H OCEAN'], dtype=object),\n",
              " array(['<1H OCEAN'], dtype=object),\n",
              " array(['NEAR BAY'], dtype=object),\n",
              " array(['<1H OCEAN'], dtype=object),\n",
              " array(['<1H OCEAN'], dtype=object),\n",
              " array(['<1H OCEAN'], dtype=object),\n",
              " array(['INLAND'], dtype=object),\n",
              " array(['INLAND'], dtype=object),\n",
              " array(['NEAR OCEAN'], dtype=object),\n",
              " array(['NEAR BAY'], dtype=object),\n",
              " array(['<1H OCEAN'], dtype=object),\n",
              " array(['<1H OCEAN'], dtype=object),\n",
              " array(['<1H OCEAN'], dtype=object),\n",
              " array(['INLAND'], dtype=object),\n",
              " array(['INLAND'], dtype=object),\n",
              " array(['<1H OCEAN'], dtype=object),\n",
              " array(['<1H OCEAN'], dtype=object),\n",
              " array(['INLAND'], dtype=object),\n",
              " array(['NEAR BAY'], dtype=object),\n",
              " array(['NEAR BAY'], dtype=object),\n",
              " array(['<1H OCEAN'], dtype=object),\n",
              " array(['INLAND'], dtype=object),\n",
              " array(['<1H OCEAN'], dtype=object),\n",
              " array(['<1H OCEAN'], dtype=object),\n",
              " array(['<1H OCEAN'], dtype=object),\n",
              " array(['NEAR BAY'], dtype=object),\n",
              " array(['NEAR BAY'], dtype=object),\n",
              " array(['NEAR OCEAN'], dtype=object),\n",
              " array(['INLAND'], dtype=object),\n",
              " array(['NEAR BAY'], dtype=object),\n",
              " array(['INLAND'], dtype=object),\n",
              " array(['<1H OCEAN'], dtype=object),\n",
              " array(['NEAR OCEAN'], dtype=object),\n",
              " array(['NEAR BAY'], dtype=object),\n",
              " array(['<1H OCEAN'], dtype=object),\n",
              " array(['INLAND'], dtype=object),\n",
              " array(['<1H OCEAN'], dtype=object),\n",
              " array(['INLAND'], dtype=object),\n",
              " array(['INLAND'], dtype=object),\n",
              " array(['<1H OCEAN'], dtype=object),\n",
              " array(['<1H OCEAN'], dtype=object),\n",
              " array(['<1H OCEAN'], dtype=object),\n",
              " array(['INLAND'], dtype=object),\n",
              " array(['INLAND'], dtype=object),\n",
              " array(['NEAR BAY'], dtype=object),\n",
              " array(['<1H OCEAN'], dtype=object),\n",
              " array(['INLAND'], dtype=object),\n",
              " array(['<1H OCEAN'], dtype=object),\n",
              " array(['INLAND'], dtype=object),\n",
              " array(['<1H OCEAN'], dtype=object),\n",
              " array(['INLAND'], dtype=object),\n",
              " array(['NEAR BAY'], dtype=object),\n",
              " array(['<1H OCEAN'], dtype=object),\n",
              " array(['<1H OCEAN'], dtype=object),\n",
              " array(['<1H OCEAN'], dtype=object),\n",
              " array(['INLAND'], dtype=object),\n",
              " array(['<1H OCEAN'], dtype=object),\n",
              " array(['<1H OCEAN'], dtype=object),\n",
              " array(['INLAND'], dtype=object),\n",
              " array(['<1H OCEAN'], dtype=object),\n",
              " array(['INLAND'], dtype=object),\n",
              " array(['<1H OCEAN'], dtype=object),\n",
              " array(['<1H OCEAN'], dtype=object),\n",
              " array(['INLAND'], dtype=object),\n",
              " array(['<1H OCEAN'], dtype=object),\n",
              " array(['<1H OCEAN'], dtype=object),\n",
              " array(['INLAND'], dtype=object),\n",
              " array(['NEAR OCEAN'], dtype=object),\n",
              " array(['<1H OCEAN'], dtype=object),\n",
              " array(['<1H OCEAN'], dtype=object),\n",
              " array(['INLAND'], dtype=object),\n",
              " array(['INLAND'], dtype=object),\n",
              " array(['<1H OCEAN'], dtype=object),\n",
              " array(['INLAND'], dtype=object),\n",
              " array(['<1H OCEAN'], dtype=object),\n",
              " array(['<1H OCEAN'], dtype=object),\n",
              " array(['INLAND'], dtype=object),\n",
              " array(['<1H OCEAN'], dtype=object),\n",
              " array(['INLAND'], dtype=object),\n",
              " array(['INLAND'], dtype=object),\n",
              " array(['NEAR BAY'], dtype=object),\n",
              " array(['<1H OCEAN'], dtype=object),\n",
              " array(['INLAND'], dtype=object),\n",
              " array(['INLAND'], dtype=object),\n",
              " array(['<1H OCEAN'], dtype=object),\n",
              " array(['<1H OCEAN'], dtype=object),\n",
              " array(['NEAR BAY'], dtype=object),\n",
              " array(['INLAND'], dtype=object),\n",
              " array(['<1H OCEAN'], dtype=object),\n",
              " array(['INLAND'], dtype=object),\n",
              " array(['<1H OCEAN'], dtype=object),\n",
              " array(['<1H OCEAN'], dtype=object),\n",
              " array(['INLAND'], dtype=object),\n",
              " array(['INLAND'], dtype=object),\n",
              " array(['NEAR OCEAN'], dtype=object),\n",
              " array(['INLAND'], dtype=object),\n",
              " array(['<1H OCEAN'], dtype=object),\n",
              " array(['<1H OCEAN'], dtype=object),\n",
              " array(['<1H OCEAN'], dtype=object),\n",
              " array(['<1H OCEAN'], dtype=object),\n",
              " array(['NEAR OCEAN'], dtype=object),\n",
              " array(['INLAND'], dtype=object),\n",
              " array(['<1H OCEAN'], dtype=object),\n",
              " array(['<1H OCEAN'], dtype=object),\n",
              " array(['<1H OCEAN'], dtype=object),\n",
              " array(['<1H OCEAN'], dtype=object),\n",
              " array(['NEAR BAY'], dtype=object),\n",
              " array(['INLAND'], dtype=object),\n",
              " array(['<1H OCEAN'], dtype=object),\n",
              " array(['INLAND'], dtype=object),\n",
              " array(['INLAND'], dtype=object),\n",
              " array(['<1H OCEAN'], dtype=object),\n",
              " array(['INLAND'], dtype=object),\n",
              " array(['<1H OCEAN'], dtype=object),\n",
              " array(['<1H OCEAN'], dtype=object),\n",
              " array(['NEAR BAY'], dtype=object),\n",
              " array(['INLAND'], dtype=object),\n",
              " array(['<1H OCEAN'], dtype=object),\n",
              " ...]"
            ]
          },
          "metadata": {
            "tags": []
          },
          "execution_count": 67
        }
      ]
    },
    {
      "cell_type": "markdown",
      "metadata": {
        "id": "pPVCGcU7pDSB",
        "colab_type": "text"
      },
      "source": [
        "#### Custom Transformers"
      ]
    },
    {
      "cell_type": "code",
      "metadata": {
        "id": "W8-u6UGMoyv9",
        "colab_type": "code",
        "colab": {}
      },
      "source": [
        "from sklearn.base import BaseEstimator, TransformerMixin\n",
        "\n",
        "# column index\n",
        "rooms_ix, bedrooms_ix, population_ix, households_ix = 3, 4, 5, 6\n",
        "\n",
        "class CombinedAttributesAdder(BaseEstimator, TransformerMixin):\n",
        "    def __init__(self, add_bedrooms_per_room = True): # no *args or **kargs\n",
        "        self.add_bedrooms_per_room = add_bedrooms_per_room\n",
        "    def fit(self, X, y=None):\n",
        "        return self  # nothing else to do\n",
        "    def transform(self, X):\n",
        "        rooms_per_household = X[:, rooms_ix] / X[:, households_ix]\n",
        "        population_per_household = X[:, population_ix] / X[:, households_ix]\n",
        "        if self.add_bedrooms_per_room:\n",
        "            bedrooms_per_room = X[:, bedrooms_ix] / X[:, rooms_ix]\n",
        "            return np.c_[X, rooms_per_household, population_per_household,\n",
        "                         bedrooms_per_room]\n",
        "        else:\n",
        "            return np.c_[X, rooms_per_household, population_per_household]\n",
        "\n",
        "attr_adder = CombinedAttributesAdder(add_bedrooms_per_room=False)\n",
        "housing_extra_attribs = attr_adder.transform(housing.values)"
      ],
      "execution_count": 0,
      "outputs": []
    },
    {
      "cell_type": "markdown",
      "metadata": {
        "id": "UfwEmqCHvO1S",
        "colab_type": "text"
      },
      "source": [
        "#### Feature Scalling"
      ]
    },
    {
      "cell_type": "code",
      "metadata": {
        "id": "YI_TXPotW0KM",
        "colab_type": "code",
        "colab": {}
      },
      "source": [
        "# min-max (normalization)\n",
        "\n",
        "# standardization"
      ],
      "execution_count": 0,
      "outputs": []
    },
    {
      "cell_type": "markdown",
      "metadata": {
        "id": "Df917cflWoF9",
        "colab_type": "text"
      },
      "source": [
        "#### Transformation Pipeline"
      ]
    },
    {
      "cell_type": "code",
      "metadata": {
        "id": "849X-zUwvAnE",
        "colab_type": "code",
        "colab": {}
      },
      "source": [
        "# pipeline for preprocessing the numerical atributes\n",
        "# https://youtu.be/w9IGkBfOoic\n",
        "from sklearn.pipeline import Pipeline\n",
        "from sklearn.preprocessing import StandardScaler      # (https://medium.com/@contactsunny/why-do-we-need-feature-scaling-in-machine-learning-and-how-to-do-it-using-scikit-learn-d8314206fe73)\n",
        "\n",
        "num_pipeline = Pipeline([\n",
        "                         ('imputer', SimpleImputer(strategy='median')),\n",
        "                        ('attribs_adder', CombinedAttributesAdder()),\n",
        "                        ('std_scaler', StandardScaler())\n",
        "                        ])\n",
        "\n",
        "housing_num_tr = num_pipeline.fit_transform(housing_num)"
      ],
      "execution_count": 0,
      "outputs": []
    },
    {
      "cell_type": "code",
      "metadata": {
        "id": "nKedhT9IweCv",
        "colab_type": "code",
        "outputId": "bee03c51-cbb4-4d85-8045-7cbe67ce04b1",
        "colab": {
          "base_uri": "https://localhost:8080/",
          "height": 0
        }
      },
      "source": [
        "housing_num_tr"
      ],
      "execution_count": 71,
      "outputs": [
        {
          "output_type": "execute_result",
          "data": {
            "text/plain": [
              "array([[-1.15604281,  0.77194962,  0.74333089, ..., -0.31205452,\n",
              "        -0.08649871,  0.15531753],\n",
              "       [-1.17602483,  0.6596948 , -1.1653172 , ...,  0.21768338,\n",
              "        -0.03353391, -0.83628902],\n",
              "       [ 1.18684903, -1.34218285,  0.18664186, ..., -0.46531516,\n",
              "        -0.09240499,  0.4222004 ],\n",
              "       ...,\n",
              "       [ 1.58648943, -0.72478134, -1.56295222, ...,  0.3469342 ,\n",
              "        -0.03055414, -0.52177644],\n",
              "       [ 0.78221312, -0.85106801,  0.18664186, ...,  0.02499488,\n",
              "         0.06150916, -0.30340741],\n",
              "       [-1.43579109,  0.99645926,  1.85670895, ..., -0.22852947,\n",
              "        -0.09586294,  0.10180567]])"
            ]
          },
          "metadata": {
            "tags": []
          },
          "execution_count": 71
        }
      ]
    },
    {
      "cell_type": "code",
      "metadata": {
        "id": "mhWJAlaYxAmn",
        "colab_type": "code",
        "colab": {}
      },
      "source": [
        "# pipeline for preprocessing the numerical and categorical attributes\n",
        "from sklearn.compose import ColumnTransformer\n",
        "\n",
        "num_attribs = list(housing_num)\n",
        "cat_attribs = ['ocean_proximity']\n",
        "\n",
        "full_pipeline = ColumnTransformer([\n",
        "                                   ('num', num_pipeline, num_attribs),\n",
        "                                   ('cat', OneHotEncoder(),cat_attribs)\n",
        "                                   ])\n",
        "\n",
        "housing_prepared = full_pipeline.fit_transform(housing)"
      ],
      "execution_count": 0,
      "outputs": []
    },
    {
      "cell_type": "code",
      "metadata": {
        "id": "f3av4ST6zG-N",
        "colab_type": "code",
        "outputId": "40f23e0f-45f0-429a-8f8f-35e88258d3a7",
        "colab": {
          "base_uri": "https://localhost:8080/",
          "height": 0
        }
      },
      "source": [
        "housing_prepared"
      ],
      "execution_count": 73,
      "outputs": [
        {
          "output_type": "execute_result",
          "data": {
            "text/plain": [
              "array([[-1.15604281,  0.77194962,  0.74333089, ...,  0.        ,\n",
              "         0.        ,  0.        ],\n",
              "       [-1.17602483,  0.6596948 , -1.1653172 , ...,  0.        ,\n",
              "         0.        ,  0.        ],\n",
              "       [ 1.18684903, -1.34218285,  0.18664186, ...,  0.        ,\n",
              "         0.        ,  1.        ],\n",
              "       ...,\n",
              "       [ 1.58648943, -0.72478134, -1.56295222, ...,  0.        ,\n",
              "         0.        ,  0.        ],\n",
              "       [ 0.78221312, -0.85106801,  0.18664186, ...,  0.        ,\n",
              "         0.        ,  0.        ],\n",
              "       [-1.43579109,  0.99645926,  1.85670895, ...,  0.        ,\n",
              "         1.        ,  0.        ]])"
            ]
          },
          "metadata": {
            "tags": []
          },
          "execution_count": 73
        }
      ]
    },
    {
      "cell_type": "code",
      "metadata": {
        "id": "gzvIOyjqzJHT",
        "colab_type": "code",
        "outputId": "87b65c6c-16e1-4eab-a8ca-652c92d3c2a4",
        "colab": {
          "base_uri": "https://localhost:8080/",
          "height": 0
        }
      },
      "source": [
        "housing_prepared.shape"
      ],
      "execution_count": 74,
      "outputs": [
        {
          "output_type": "execute_result",
          "data": {
            "text/plain": [
              "(16512, 16)"
            ]
          },
          "metadata": {
            "tags": []
          },
          "execution_count": 74
        }
      ]
    },
    {
      "cell_type": "markdown",
      "metadata": {
        "id": "_B82wmrb-0qD",
        "colab_type": "text"
      },
      "source": [
        "## Select and Train Model"
      ]
    },
    {
      "cell_type": "markdown",
      "metadata": {
        "id": "jEWkGF9PZ7JO",
        "colab_type": "text"
      },
      "source": [
        "#### Training and Evaluating on the Training Set"
      ]
    },
    {
      "cell_type": "code",
      "metadata": {
        "id": "XuBJMJ5EzMxz",
        "colab_type": "code",
        "outputId": "075537cf-0d25-4dfe-f2f3-94b9d910fc9d",
        "colab": {
          "base_uri": "https://localhost:8080/",
          "height": 0
        }
      },
      "source": [
        "# train a linear regression model\n",
        "from sklearn.linear_model import LinearRegression\n",
        "\n",
        "lin_reg = LinearRegression()\n",
        "lin_reg.fit(housing_prepared, housing_labels)"
      ],
      "execution_count": 75,
      "outputs": [
        {
          "output_type": "execute_result",
          "data": {
            "text/plain": [
              "LinearRegression(copy_X=True, fit_intercept=True, n_jobs=None, normalize=False)"
            ]
          },
          "metadata": {
            "tags": []
          },
          "execution_count": 75
        }
      ]
    },
    {
      "cell_type": "code",
      "metadata": {
        "id": "QbQS1ZjbDd1i",
        "colab_type": "code",
        "outputId": "43237ad2-ed23-4c33-d95a-7270815c5f35",
        "colab": {
          "base_uri": "https://localhost:8080/",
          "height": 0
        }
      },
      "source": [
        "housing.head()"
      ],
      "execution_count": 76,
      "outputs": [
        {
          "output_type": "execute_result",
          "data": {
            "text/html": [
              "<div>\n",
              "<style scoped>\n",
              "    .dataframe tbody tr th:only-of-type {\n",
              "        vertical-align: middle;\n",
              "    }\n",
              "\n",
              "    .dataframe tbody tr th {\n",
              "        vertical-align: top;\n",
              "    }\n",
              "\n",
              "    .dataframe thead th {\n",
              "        text-align: right;\n",
              "    }\n",
              "</style>\n",
              "<table border=\"1\" class=\"dataframe\">\n",
              "  <thead>\n",
              "    <tr style=\"text-align: right;\">\n",
              "      <th></th>\n",
              "      <th>longitude</th>\n",
              "      <th>latitude</th>\n",
              "      <th>housing_median_age</th>\n",
              "      <th>total_rooms</th>\n",
              "      <th>total_bedrooms</th>\n",
              "      <th>population</th>\n",
              "      <th>households</th>\n",
              "      <th>median_income</th>\n",
              "      <th>ocean_proximity</th>\n",
              "    </tr>\n",
              "  </thead>\n",
              "  <tbody>\n",
              "    <tr>\n",
              "      <th>17606</th>\n",
              "      <td>-121.89</td>\n",
              "      <td>37.29</td>\n",
              "      <td>38.0</td>\n",
              "      <td>1568.0</td>\n",
              "      <td>351.0</td>\n",
              "      <td>710.0</td>\n",
              "      <td>339.0</td>\n",
              "      <td>2.7042</td>\n",
              "      <td>&lt;1H OCEAN</td>\n",
              "    </tr>\n",
              "    <tr>\n",
              "      <th>18632</th>\n",
              "      <td>-121.93</td>\n",
              "      <td>37.05</td>\n",
              "      <td>14.0</td>\n",
              "      <td>679.0</td>\n",
              "      <td>108.0</td>\n",
              "      <td>306.0</td>\n",
              "      <td>113.0</td>\n",
              "      <td>6.4214</td>\n",
              "      <td>&lt;1H OCEAN</td>\n",
              "    </tr>\n",
              "    <tr>\n",
              "      <th>14650</th>\n",
              "      <td>-117.20</td>\n",
              "      <td>32.77</td>\n",
              "      <td>31.0</td>\n",
              "      <td>1952.0</td>\n",
              "      <td>471.0</td>\n",
              "      <td>936.0</td>\n",
              "      <td>462.0</td>\n",
              "      <td>2.8621</td>\n",
              "      <td>NEAR OCEAN</td>\n",
              "    </tr>\n",
              "    <tr>\n",
              "      <th>3230</th>\n",
              "      <td>-119.61</td>\n",
              "      <td>36.31</td>\n",
              "      <td>25.0</td>\n",
              "      <td>1847.0</td>\n",
              "      <td>371.0</td>\n",
              "      <td>1460.0</td>\n",
              "      <td>353.0</td>\n",
              "      <td>1.8839</td>\n",
              "      <td>INLAND</td>\n",
              "    </tr>\n",
              "    <tr>\n",
              "      <th>3555</th>\n",
              "      <td>-118.59</td>\n",
              "      <td>34.23</td>\n",
              "      <td>17.0</td>\n",
              "      <td>6592.0</td>\n",
              "      <td>1525.0</td>\n",
              "      <td>4459.0</td>\n",
              "      <td>1463.0</td>\n",
              "      <td>3.0347</td>\n",
              "      <td>&lt;1H OCEAN</td>\n",
              "    </tr>\n",
              "  </tbody>\n",
              "</table>\n",
              "</div>"
            ],
            "text/plain": [
              "       longitude  latitude  ...  median_income  ocean_proximity\n",
              "17606    -121.89     37.29  ...         2.7042        <1H OCEAN\n",
              "18632    -121.93     37.05  ...         6.4214        <1H OCEAN\n",
              "14650    -117.20     32.77  ...         2.8621       NEAR OCEAN\n",
              "3230     -119.61     36.31  ...         1.8839           INLAND\n",
              "3555     -118.59     34.23  ...         3.0347        <1H OCEAN\n",
              "\n",
              "[5 rows x 9 columns]"
            ]
          },
          "metadata": {
            "tags": []
          },
          "execution_count": 76
        }
      ]
    },
    {
      "cell_type": "code",
      "metadata": {
        "id": "OaIQGMD1D4LG",
        "colab_type": "code",
        "outputId": "52ba90cf-cb69-4a19-fe2d-e527f8472319",
        "colab": {
          "base_uri": "https://localhost:8080/",
          "height": 0
        }
      },
      "source": [
        "# let's try the full preprocessing pipeline on a few training instances\n",
        "\n",
        "some_data = housing.iloc[:5]\n",
        "some_labels = housing_labels.iloc[:5]\n",
        "some_data_prepared = full_pipeline.transform(some_data)\n",
        "\n",
        "print('Predictions:', lin_reg.predict(some_data_prepared))"
      ],
      "execution_count": 77,
      "outputs": [
        {
          "output_type": "stream",
          "text": [
            "Predictions: [210644.60459286 317768.80697211 210956.43331178  59218.98886849\n",
            " 189747.55849879]\n"
          ],
          "name": "stdout"
        }
      ]
    },
    {
      "cell_type": "code",
      "metadata": {
        "id": "XKWSBJc5Ek3w",
        "colab_type": "code",
        "outputId": "3427bd94-0b55-45b7-d784-d951de6f5d6f",
        "colab": {
          "base_uri": "https://localhost:8080/",
          "height": 0
        }
      },
      "source": [
        "# compare against the actual values\n",
        "print('Labels:', list(some_labels))"
      ],
      "execution_count": 78,
      "outputs": [
        {
          "output_type": "stream",
          "text": [
            "Labels: [286600.0, 340600.0, 196900.0, 46300.0, 254500.0]\n"
          ],
          "name": "stdout"
        }
      ]
    },
    {
      "cell_type": "code",
      "metadata": {
        "id": "VTUdOAZ2E26Q",
        "colab_type": "code",
        "outputId": "80dca17b-4593-4458-e5a1-a43c502f5829",
        "colab": {
          "base_uri": "https://localhost:8080/",
          "height": 0
        }
      },
      "source": [
        "# measure mean squared errors of predicted values\n",
        "from sklearn.metrics import mean_squared_error\n",
        "\n",
        "housing_predictions = lin_reg.predict(housing_prepared)\n",
        "lin_mse = mean_squared_error(housing_labels, housing_predictions)\n",
        "lin_rmse = np.sqrt(lin_mse)\n",
        "lin_rmse"
      ],
      "execution_count": 79,
      "outputs": [
        {
          "output_type": "execute_result",
          "data": {
            "text/plain": [
              "68628.19819848923"
            ]
          },
          "metadata": {
            "tags": []
          },
          "execution_count": 79
        }
      ]
    },
    {
      "cell_type": "code",
      "metadata": {
        "id": "K5xSLPuiF4zV",
        "colab_type": "code",
        "outputId": "bd326ac3-4d9f-4a60-8312-729c11f55e57",
        "colab": {
          "base_uri": "https://localhost:8080/",
          "height": 0
        }
      },
      "source": [
        "# measure mean absolute errors of predicted values\n",
        "from sklearn.metrics import mean_absolute_error\n",
        "\n",
        "lin_mae = mean_absolute_error(housing_labels, housing_predictions)\n",
        "lin_mae"
      ],
      "execution_count": 80,
      "outputs": [
        {
          "output_type": "execute_result",
          "data": {
            "text/plain": [
              "49439.89599001897"
            ]
          },
          "metadata": {
            "tags": []
          },
          "execution_count": 80
        }
      ]
    },
    {
      "cell_type": "code",
      "metadata": {
        "id": "gI6yqV7EGY32",
        "colab_type": "code",
        "outputId": "097b3d8a-c04d-4b6d-8bab-07d1846cb7db",
        "colab": {
          "base_uri": "https://localhost:8080/",
          "height": 0
        }
      },
      "source": [
        "# try decision tree regression to reduce the error rate\n",
        "from sklearn.tree import DecisionTreeRegressor\n",
        "\n",
        "tree_reg = DecisionTreeRegressor(random_state=42)\n",
        "tree_reg.fit(housing_prepared, housing_labels)"
      ],
      "execution_count": 81,
      "outputs": [
        {
          "output_type": "execute_result",
          "data": {
            "text/plain": [
              "DecisionTreeRegressor(ccp_alpha=0.0, criterion='mse', max_depth=None,\n",
              "                      max_features=None, max_leaf_nodes=None,\n",
              "                      min_impurity_decrease=0.0, min_impurity_split=None,\n",
              "                      min_samples_leaf=1, min_samples_split=2,\n",
              "                      min_weight_fraction_leaf=0.0, presort='deprecated',\n",
              "                      random_state=42, splitter='best')"
            ]
          },
          "metadata": {
            "tags": []
          },
          "execution_count": 81
        }
      ]
    },
    {
      "cell_type": "code",
      "metadata": {
        "id": "vH8Q9QGVHXl-",
        "colab_type": "code",
        "outputId": "7b93e771-8879-4b03-dd40-8afa56c5248d",
        "colab": {
          "base_uri": "https://localhost:8080/",
          "height": 0
        }
      },
      "source": [
        "# measure mean squared errors of predicted values\n",
        "from sklearn.metrics import mean_squared_error\n",
        "\n",
        "housing_predictions = tree_reg.predict(housing_prepared)\n",
        "tree_mse = mean_squared_error(housing_labels, housing_predictions)\n",
        "tree_rmse = np.sqrt(tree_mse)\n",
        "tree_rmse"
      ],
      "execution_count": 82,
      "outputs": [
        {
          "output_type": "execute_result",
          "data": {
            "text/plain": [
              "0.0"
            ]
          },
          "metadata": {
            "tags": []
          },
          "execution_count": 82
        }
      ]
    },
    {
      "cell_type": "markdown",
      "metadata": {
        "id": "207-0NBlIv6k",
        "colab_type": "text"
      },
      "source": [
        "#### Cross Validation for better Evaluation"
      ]
    },
    {
      "cell_type": "code",
      "metadata": {
        "id": "RnC13ewPIE6V",
        "colab_type": "code",
        "colab": {}
      },
      "source": [
        "# K-fold cross validation\n",
        "from sklearn.model_selection import cross_val_score\n",
        "\n",
        "scores = cross_val_score(tree_reg, housing_prepared, housing_labels,\n",
        "                         scoring='neg_mean_squared_error', cv=10)\n",
        "tree_rmse_scores = np.sqrt(-scores)"
      ],
      "execution_count": 0,
      "outputs": []
    },
    {
      "cell_type": "code",
      "metadata": {
        "id": "eB9A1VR6Xqau",
        "colab_type": "code",
        "outputId": "a094872f-7526-42af-f71a-a39ab27887d2",
        "colab": {
          "base_uri": "https://localhost:8080/",
          "height": 0
        }
      },
      "source": [
        "# func to display scores\n",
        "def display_scores(scores):\n",
        "  print('Scores:', scores)\n",
        "  print('Mean:', scores.mean())\n",
        "  print('Standard Deviation:', scores.std())\n",
        "\n",
        "display_scores(tree_rmse_scores)"
      ],
      "execution_count": 84,
      "outputs": [
        {
          "output_type": "stream",
          "text": [
            "Scores: [70194.33680785 66855.16363941 72432.58244769 70758.73896782\n",
            " 71115.88230639 75585.14172901 70262.86139133 70273.6325285\n",
            " 75366.87952553 71231.65726027]\n",
            "Mean: 71407.68766037929\n",
            "Standard Deviation: 2439.4345041191004\n"
          ],
          "name": "stdout"
        }
      ]
    },
    {
      "cell_type": "code",
      "metadata": {
        "id": "VU7V5JMZYLAS",
        "colab_type": "code",
        "outputId": "04a7284f-e7fb-4bcb-ac63-1ddba8b255fb",
        "colab": {
          "base_uri": "https://localhost:8080/",
          "height": 0
        }
      },
      "source": [
        "# cross validation on Linear Regression model\n",
        "from sklearn.model_selection import cross_val_score\n",
        "\n",
        "lin_scores = cross_val_score(lin_reg, housing_prepared, housing_labels,\n",
        "                             scoring='neg_mean_squared_error', cv=10)\n",
        "lin_rmse_scores = np.sqrt(-lin_scores)\n",
        "display_scores(lin_rmse_scores)"
      ],
      "execution_count": 85,
      "outputs": [
        {
          "output_type": "stream",
          "text": [
            "Scores: [66782.73843989 66960.118071   70347.95244419 74739.57052552\n",
            " 68031.13388938 71193.84183426 64969.63056405 68281.61137997\n",
            " 71552.91566558 67665.10082067]\n",
            "Mean: 69052.46136345083\n",
            "Standard Deviation: 2731.674001798344\n"
          ],
          "name": "stdout"
        }
      ]
    },
    {
      "cell_type": "markdown",
      "metadata": {
        "id": "kEAXjAjOa1hy",
        "colab_type": "text"
      },
      "source": [
        "#### Cross Validation using Another Model"
      ]
    },
    {
      "cell_type": "code",
      "metadata": {
        "id": "lR6ODB9WZeYY",
        "colab_type": "code",
        "outputId": "c6edb2a7-3ad9-4f46-cede-151c9e04c71f",
        "colab": {
          "base_uri": "https://localhost:8080/",
          "height": 0
        }
      },
      "source": [
        "# use Random Forrest Regressor\n",
        "from sklearn.ensemble import RandomForestRegressor\n",
        "\n",
        "forest_reg = RandomForestRegressor(n_estimators=100, random_state=42)\n",
        "forest_reg.fit(housing_prepared, housing_labels)"
      ],
      "execution_count": 86,
      "outputs": [
        {
          "output_type": "execute_result",
          "data": {
            "text/plain": [
              "RandomForestRegressor(bootstrap=True, ccp_alpha=0.0, criterion='mse',\n",
              "                      max_depth=None, max_features='auto', max_leaf_nodes=None,\n",
              "                      max_samples=None, min_impurity_decrease=0.0,\n",
              "                      min_impurity_split=None, min_samples_leaf=1,\n",
              "                      min_samples_split=2, min_weight_fraction_leaf=0.0,\n",
              "                      n_estimators=100, n_jobs=None, oob_score=False,\n",
              "                      random_state=42, verbose=0, warm_start=False)"
            ]
          },
          "metadata": {
            "tags": []
          },
          "execution_count": 86
        }
      ]
    },
    {
      "cell_type": "code",
      "metadata": {
        "id": "O_3HSjGyb8ab",
        "colab_type": "code",
        "outputId": "0481d02e-c9c4-42df-9b3d-8a7677c1df12",
        "colab": {
          "base_uri": "https://localhost:8080/",
          "height": 0
        }
      },
      "source": [
        "# mean squared error of Random Forest Regressor\n",
        "from sklearn.metrics import mean_squared_error\n",
        "\n",
        "housing_predictions = forest_reg.predict(housing_prepared)\n",
        "forest_mse = mean_squared_error(housing_labels, housing_predictions)\n",
        "forest_rmse = np.sqrt(forest_mse)\n",
        "forest_rmse"
      ],
      "execution_count": 87,
      "outputs": [
        {
          "output_type": "execute_result",
          "data": {
            "text/plain": [
              "18603.515021376355"
            ]
          },
          "metadata": {
            "tags": []
          },
          "execution_count": 87
        }
      ]
    },
    {
      "cell_type": "code",
      "metadata": {
        "id": "l7TZSARhdBd4",
        "colab_type": "code",
        "outputId": "50d103ac-6ed1-4e9c-9da0-00ca8737b48d",
        "colab": {
          "base_uri": "https://localhost:8080/",
          "height": 0
        }
      },
      "source": [
        "from sklearn.model_selection import cross_val_score\n",
        "\n",
        "forest_scores = cross_val_score(forest_reg, housing_prepared, housing_labels,\n",
        "                                scoring=\"neg_mean_squared_error\", cv=10)\n",
        "forest_rmse_scores = np.sqrt(-forest_scores)\n",
        "display_scores(forest_rmse_scores)"
      ],
      "execution_count": 88,
      "outputs": [
        {
          "output_type": "stream",
          "text": [
            "Scores: [49519.80364233 47461.9115823  50029.02762854 52325.28068953\n",
            " 49308.39426421 53446.37892622 48634.8036574  47585.73832311\n",
            " 53490.10699751 50021.5852922 ]\n",
            "Mean: 50182.303100336096\n",
            "Standard Deviation: 2097.0810550985693\n"
          ],
          "name": "stdout"
        }
      ]
    },
    {
      "cell_type": "code",
      "metadata": {
        "id": "_Uk2nJBHeeXM",
        "colab_type": "code",
        "colab": {}
      },
      "source": [
        "# # save model for further use\n",
        "# import joblib\n",
        "# joblib.dump(my_model, 'my_model.pkl')\n",
        "# # and later\n",
        "# my_model_loaded = joblib.load('my_model.pkl')"
      ],
      "execution_count": 0,
      "outputs": []
    },
    {
      "cell_type": "markdown",
      "metadata": {
        "id": "1cTMPsBZh0Iv",
        "colab_type": "text"
      },
      "source": [
        "## Fine Tune the Model"
      ]
    },
    {
      "cell_type": "markdown",
      "metadata": {
        "id": "vgCFcHnRHTl3",
        "colab_type": "text"
      },
      "source": [
        "#### Grid Search"
      ]
    },
    {
      "cell_type": "code",
      "metadata": {
        "id": "zhxBaHezh9CY",
        "colab_type": "code",
        "outputId": "0950196c-220b-4dd0-9253-87a71f65bd8f",
        "colab": {
          "base_uri": "https://localhost:8080/",
          "height": 370
        }
      },
      "source": [
        "# search for best combination of the hyperparameters values for Random Forest\n",
        "from sklearn.model_selection import GridSearchCV\n",
        "\n",
        "param_grid = [\n",
        "    # try 12 (3×4) combinations of hyperparameters\n",
        "    {'n_estimators': [3, 10, 30], 'max_features': [2, 4, 6, 8]},\n",
        "    # then try 6 (2×3) combinations with bootstrap set as False\n",
        "    {'bootstrap': [False], 'n_estimators': [3, 10], 'max_features': [2, 3, 4]},\n",
        "  ]\n",
        "\n",
        "forest_reg = RandomForestRegressor(random_state=42)\n",
        "# train across 5 folds, that's a total of (12+6)*5=90 rounds of training \n",
        "grid_search = GridSearchCV(forest_reg, param_grid, cv=5,\n",
        "                           scoring='neg_mean_squared_error',\n",
        "                           return_train_score=True)\n",
        "\n",
        "grid_search.fit(housing_prepared, housing_labels)"
      ],
      "execution_count": 90,
      "outputs": [
        {
          "output_type": "execute_result",
          "data": {
            "text/plain": [
              "GridSearchCV(cv=5, error_score=nan,\n",
              "             estimator=RandomForestRegressor(bootstrap=True, ccp_alpha=0.0,\n",
              "                                             criterion='mse', max_depth=None,\n",
              "                                             max_features='auto',\n",
              "                                             max_leaf_nodes=None,\n",
              "                                             max_samples=None,\n",
              "                                             min_impurity_decrease=0.0,\n",
              "                                             min_impurity_split=None,\n",
              "                                             min_samples_leaf=1,\n",
              "                                             min_samples_split=2,\n",
              "                                             min_weight_fraction_leaf=0.0,\n",
              "                                             n_estimators=100, n_jobs=None,\n",
              "                                             oob_score=False, random_state=42,\n",
              "                                             verbose=0, warm_start=False),\n",
              "             iid='deprecated', n_jobs=None,\n",
              "             param_grid=[{'max_features': [2, 4, 6, 8],\n",
              "                          'n_estimators': [3, 10, 30]},\n",
              "                         {'bootstrap': [False], 'max_features': [2, 3, 4],\n",
              "                          'n_estimators': [3, 10]}],\n",
              "             pre_dispatch='2*n_jobs', refit=True, return_train_score=True,\n",
              "             scoring='neg_mean_squared_error', verbose=0)"
            ]
          },
          "metadata": {
            "tags": []
          },
          "execution_count": 90
        }
      ]
    },
    {
      "cell_type": "code",
      "metadata": {
        "id": "P4Pplz23IA47",
        "colab_type": "code",
        "outputId": "9a3b94eb-7dc8-4ccf-ca1d-8f538c8dca3a",
        "colab": {
          "base_uri": "https://localhost:8080/",
          "height": 34
        }
      },
      "source": [
        "grid_search.best_params_"
      ],
      "execution_count": 91,
      "outputs": [
        {
          "output_type": "execute_result",
          "data": {
            "text/plain": [
              "{'max_features': 8, 'n_estimators': 30}"
            ]
          },
          "metadata": {
            "tags": []
          },
          "execution_count": 91
        }
      ]
    },
    {
      "cell_type": "code",
      "metadata": {
        "id": "Lw4rgfrcIV7C",
        "colab_type": "code",
        "outputId": "c4249554-1bb8-451a-d382-a2981fc67d2b",
        "colab": {
          "base_uri": "https://localhost:8080/",
          "height": 134
        }
      },
      "source": [
        "grid_search.best_estimator_"
      ],
      "execution_count": 92,
      "outputs": [
        {
          "output_type": "execute_result",
          "data": {
            "text/plain": [
              "RandomForestRegressor(bootstrap=True, ccp_alpha=0.0, criterion='mse',\n",
              "                      max_depth=None, max_features=8, max_leaf_nodes=None,\n",
              "                      max_samples=None, min_impurity_decrease=0.0,\n",
              "                      min_impurity_split=None, min_samples_leaf=1,\n",
              "                      min_samples_split=2, min_weight_fraction_leaf=0.0,\n",
              "                      n_estimators=30, n_jobs=None, oob_score=False,\n",
              "                      random_state=42, verbose=0, warm_start=False)"
            ]
          },
          "metadata": {
            "tags": []
          },
          "execution_count": 92
        }
      ]
    },
    {
      "cell_type": "code",
      "metadata": {
        "id": "oA7lwZ9zIiTw",
        "colab_type": "code",
        "outputId": "bf85e2d3-cf1a-436e-e8b5-246c91055908",
        "colab": {
          "base_uri": "https://localhost:8080/",
          "height": 319
        }
      },
      "source": [
        "cvres = grid_search.cv_results_\n",
        "# cvres\n",
        "for mean_score, params in zip(cvres[\"mean_test_score\"], cvres[\"params\"]):\n",
        "    print(np.sqrt(-mean_score), params)"
      ],
      "execution_count": 93,
      "outputs": [
        {
          "output_type": "stream",
          "text": [
            "63669.11631261028 {'max_features': 2, 'n_estimators': 3}\n",
            "55627.099719926795 {'max_features': 2, 'n_estimators': 10}\n",
            "53384.57275149205 {'max_features': 2, 'n_estimators': 30}\n",
            "60965.950449450494 {'max_features': 4, 'n_estimators': 3}\n",
            "52741.04704299915 {'max_features': 4, 'n_estimators': 10}\n",
            "50377.40461678399 {'max_features': 4, 'n_estimators': 30}\n",
            "58663.93866579625 {'max_features': 6, 'n_estimators': 3}\n",
            "52006.19873526564 {'max_features': 6, 'n_estimators': 10}\n",
            "50146.51167415009 {'max_features': 6, 'n_estimators': 30}\n",
            "57869.25276169646 {'max_features': 8, 'n_estimators': 3}\n",
            "51711.127883959234 {'max_features': 8, 'n_estimators': 10}\n",
            "49682.273345071546 {'max_features': 8, 'n_estimators': 30}\n",
            "62895.06951262424 {'bootstrap': False, 'max_features': 2, 'n_estimators': 3}\n",
            "54658.176157539405 {'bootstrap': False, 'max_features': 2, 'n_estimators': 10}\n",
            "59470.40652318466 {'bootstrap': False, 'max_features': 3, 'n_estimators': 3}\n",
            "52724.9822587892 {'bootstrap': False, 'max_features': 3, 'n_estimators': 10}\n",
            "57490.5691951261 {'bootstrap': False, 'max_features': 4, 'n_estimators': 3}\n",
            "51009.495668875716 {'bootstrap': False, 'max_features': 4, 'n_estimators': 10}\n"
          ],
          "name": "stdout"
        }
      ]
    },
    {
      "cell_type": "code",
      "metadata": {
        "id": "vBZKLZqAKizO",
        "colab_type": "code",
        "outputId": "f19fd901-0720-4b85-a7d5-aab3b457f6ab",
        "colab": {
          "base_uri": "https://localhost:8080/",
          "height": 1000
        }
      },
      "source": [
        "pd.DataFrame(grid_search.cv_results_)"
      ],
      "execution_count": 94,
      "outputs": [
        {
          "output_type": "execute_result",
          "data": {
            "text/html": [
              "<div>\n",
              "<style scoped>\n",
              "    .dataframe tbody tr th:only-of-type {\n",
              "        vertical-align: middle;\n",
              "    }\n",
              "\n",
              "    .dataframe tbody tr th {\n",
              "        vertical-align: top;\n",
              "    }\n",
              "\n",
              "    .dataframe thead th {\n",
              "        text-align: right;\n",
              "    }\n",
              "</style>\n",
              "<table border=\"1\" class=\"dataframe\">\n",
              "  <thead>\n",
              "    <tr style=\"text-align: right;\">\n",
              "      <th></th>\n",
              "      <th>mean_fit_time</th>\n",
              "      <th>std_fit_time</th>\n",
              "      <th>mean_score_time</th>\n",
              "      <th>std_score_time</th>\n",
              "      <th>param_max_features</th>\n",
              "      <th>param_n_estimators</th>\n",
              "      <th>param_bootstrap</th>\n",
              "      <th>params</th>\n",
              "      <th>split0_test_score</th>\n",
              "      <th>split1_test_score</th>\n",
              "      <th>split2_test_score</th>\n",
              "      <th>split3_test_score</th>\n",
              "      <th>split4_test_score</th>\n",
              "      <th>mean_test_score</th>\n",
              "      <th>std_test_score</th>\n",
              "      <th>rank_test_score</th>\n",
              "      <th>split0_train_score</th>\n",
              "      <th>split1_train_score</th>\n",
              "      <th>split2_train_score</th>\n",
              "      <th>split3_train_score</th>\n",
              "      <th>split4_train_score</th>\n",
              "      <th>mean_train_score</th>\n",
              "      <th>std_train_score</th>\n",
              "    </tr>\n",
              "  </thead>\n",
              "  <tbody>\n",
              "    <tr>\n",
              "      <th>0</th>\n",
              "      <td>0.062552</td>\n",
              "      <td>0.002236</td>\n",
              "      <td>0.002986</td>\n",
              "      <td>0.000163</td>\n",
              "      <td>2</td>\n",
              "      <td>3</td>\n",
              "      <td>NaN</td>\n",
              "      <td>{'max_features': 2, 'n_estimators': 3}</td>\n",
              "      <td>-3.837622e+09</td>\n",
              "      <td>-4.147108e+09</td>\n",
              "      <td>-4.196408e+09</td>\n",
              "      <td>-3.903319e+09</td>\n",
              "      <td>-4.184325e+09</td>\n",
              "      <td>-4.053756e+09</td>\n",
              "      <td>1.519591e+08</td>\n",
              "      <td>18</td>\n",
              "      <td>-1.064113e+09</td>\n",
              "      <td>-1.105142e+09</td>\n",
              "      <td>-1.116550e+09</td>\n",
              "      <td>-1.112342e+09</td>\n",
              "      <td>-1.129650e+09</td>\n",
              "      <td>-1.105559e+09</td>\n",
              "      <td>2.220402e+07</td>\n",
              "    </tr>\n",
              "    <tr>\n",
              "      <th>1</th>\n",
              "      <td>0.208306</td>\n",
              "      <td>0.006314</td>\n",
              "      <td>0.009082</td>\n",
              "      <td>0.000382</td>\n",
              "      <td>2</td>\n",
              "      <td>10</td>\n",
              "      <td>NaN</td>\n",
              "      <td>{'max_features': 2, 'n_estimators': 10}</td>\n",
              "      <td>-3.047771e+09</td>\n",
              "      <td>-3.254861e+09</td>\n",
              "      <td>-3.130196e+09</td>\n",
              "      <td>-2.865188e+09</td>\n",
              "      <td>-3.173856e+09</td>\n",
              "      <td>-3.094374e+09</td>\n",
              "      <td>1.327062e+08</td>\n",
              "      <td>11</td>\n",
              "      <td>-5.927175e+08</td>\n",
              "      <td>-5.870952e+08</td>\n",
              "      <td>-5.776964e+08</td>\n",
              "      <td>-5.716332e+08</td>\n",
              "      <td>-5.802501e+08</td>\n",
              "      <td>-5.818785e+08</td>\n",
              "      <td>7.345821e+06</td>\n",
              "    </tr>\n",
              "    <tr>\n",
              "      <th>2</th>\n",
              "      <td>0.611316</td>\n",
              "      <td>0.002549</td>\n",
              "      <td>0.028202</td>\n",
              "      <td>0.000773</td>\n",
              "      <td>2</td>\n",
              "      <td>30</td>\n",
              "      <td>NaN</td>\n",
              "      <td>{'max_features': 2, 'n_estimators': 30}</td>\n",
              "      <td>-2.689185e+09</td>\n",
              "      <td>-3.021086e+09</td>\n",
              "      <td>-2.948330e+09</td>\n",
              "      <td>-2.619995e+09</td>\n",
              "      <td>-2.970968e+09</td>\n",
              "      <td>-2.849913e+09</td>\n",
              "      <td>1.626875e+08</td>\n",
              "      <td>9</td>\n",
              "      <td>-4.381089e+08</td>\n",
              "      <td>-4.391272e+08</td>\n",
              "      <td>-4.371702e+08</td>\n",
              "      <td>-4.376955e+08</td>\n",
              "      <td>-4.452654e+08</td>\n",
              "      <td>-4.394734e+08</td>\n",
              "      <td>2.966320e+06</td>\n",
              "    </tr>\n",
              "    <tr>\n",
              "      <th>3</th>\n",
              "      <td>0.108272</td>\n",
              "      <td>0.004035</td>\n",
              "      <td>0.003676</td>\n",
              "      <td>0.001026</td>\n",
              "      <td>4</td>\n",
              "      <td>3</td>\n",
              "      <td>NaN</td>\n",
              "      <td>{'max_features': 4, 'n_estimators': 3}</td>\n",
              "      <td>-3.730181e+09</td>\n",
              "      <td>-3.786886e+09</td>\n",
              "      <td>-3.734515e+09</td>\n",
              "      <td>-3.418747e+09</td>\n",
              "      <td>-3.913907e+09</td>\n",
              "      <td>-3.716847e+09</td>\n",
              "      <td>1.631510e+08</td>\n",
              "      <td>16</td>\n",
              "      <td>-9.865163e+08</td>\n",
              "      <td>-1.012565e+09</td>\n",
              "      <td>-9.169425e+08</td>\n",
              "      <td>-1.037400e+09</td>\n",
              "      <td>-9.707739e+08</td>\n",
              "      <td>-9.848396e+08</td>\n",
              "      <td>4.084607e+07</td>\n",
              "    </tr>\n",
              "    <tr>\n",
              "      <th>4</th>\n",
              "      <td>0.340926</td>\n",
              "      <td>0.007519</td>\n",
              "      <td>0.009472</td>\n",
              "      <td>0.000792</td>\n",
              "      <td>4</td>\n",
              "      <td>10</td>\n",
              "      <td>NaN</td>\n",
              "      <td>{'max_features': 4, 'n_estimators': 10}</td>\n",
              "      <td>-2.666283e+09</td>\n",
              "      <td>-2.784511e+09</td>\n",
              "      <td>-2.892276e+09</td>\n",
              "      <td>-2.616813e+09</td>\n",
              "      <td>-2.948207e+09</td>\n",
              "      <td>-2.781618e+09</td>\n",
              "      <td>1.268607e+08</td>\n",
              "      <td>8</td>\n",
              "      <td>-5.097115e+08</td>\n",
              "      <td>-5.162820e+08</td>\n",
              "      <td>-4.962893e+08</td>\n",
              "      <td>-5.436192e+08</td>\n",
              "      <td>-5.160297e+08</td>\n",
              "      <td>-5.163863e+08</td>\n",
              "      <td>1.542862e+07</td>\n",
              "    </tr>\n",
              "    <tr>\n",
              "      <th>5</th>\n",
              "      <td>1.015235</td>\n",
              "      <td>0.020716</td>\n",
              "      <td>0.028243</td>\n",
              "      <td>0.000573</td>\n",
              "      <td>4</td>\n",
              "      <td>30</td>\n",
              "      <td>NaN</td>\n",
              "      <td>{'max_features': 4, 'n_estimators': 30}</td>\n",
              "      <td>-2.387153e+09</td>\n",
              "      <td>-2.588448e+09</td>\n",
              "      <td>-2.666426e+09</td>\n",
              "      <td>-2.398071e+09</td>\n",
              "      <td>-2.649316e+09</td>\n",
              "      <td>-2.537883e+09</td>\n",
              "      <td>1.214614e+08</td>\n",
              "      <td>3</td>\n",
              "      <td>-3.838835e+08</td>\n",
              "      <td>-3.880268e+08</td>\n",
              "      <td>-3.790867e+08</td>\n",
              "      <td>-4.040957e+08</td>\n",
              "      <td>-3.845520e+08</td>\n",
              "      <td>-3.879289e+08</td>\n",
              "      <td>8.571233e+06</td>\n",
              "    </tr>\n",
              "    <tr>\n",
              "      <th>6</th>\n",
              "      <td>0.138943</td>\n",
              "      <td>0.005244</td>\n",
              "      <td>0.003163</td>\n",
              "      <td>0.000154</td>\n",
              "      <td>6</td>\n",
              "      <td>3</td>\n",
              "      <td>NaN</td>\n",
              "      <td>{'max_features': 6, 'n_estimators': 3}</td>\n",
              "      <td>-3.119657e+09</td>\n",
              "      <td>-3.586319e+09</td>\n",
              "      <td>-3.592772e+09</td>\n",
              "      <td>-3.328934e+09</td>\n",
              "      <td>-3.579607e+09</td>\n",
              "      <td>-3.441458e+09</td>\n",
              "      <td>1.893056e+08</td>\n",
              "      <td>14</td>\n",
              "      <td>-9.245343e+08</td>\n",
              "      <td>-8.886939e+08</td>\n",
              "      <td>-9.353135e+08</td>\n",
              "      <td>-9.009801e+08</td>\n",
              "      <td>-8.624664e+08</td>\n",
              "      <td>-9.023976e+08</td>\n",
              "      <td>2.591445e+07</td>\n",
              "    </tr>\n",
              "    <tr>\n",
              "      <th>7</th>\n",
              "      <td>0.462825</td>\n",
              "      <td>0.006085</td>\n",
              "      <td>0.009586</td>\n",
              "      <td>0.000290</td>\n",
              "      <td>6</td>\n",
              "      <td>10</td>\n",
              "      <td>NaN</td>\n",
              "      <td>{'max_features': 6, 'n_estimators': 10}</td>\n",
              "      <td>-2.549663e+09</td>\n",
              "      <td>-2.782039e+09</td>\n",
              "      <td>-2.762720e+09</td>\n",
              "      <td>-2.521134e+09</td>\n",
              "      <td>-2.907667e+09</td>\n",
              "      <td>-2.704645e+09</td>\n",
              "      <td>1.471569e+08</td>\n",
              "      <td>6</td>\n",
              "      <td>-4.980344e+08</td>\n",
              "      <td>-5.045869e+08</td>\n",
              "      <td>-4.994664e+08</td>\n",
              "      <td>-4.990325e+08</td>\n",
              "      <td>-5.055542e+08</td>\n",
              "      <td>-5.013349e+08</td>\n",
              "      <td>3.100456e+06</td>\n",
              "    </tr>\n",
              "    <tr>\n",
              "      <th>8</th>\n",
              "      <td>1.425765</td>\n",
              "      <td>0.018735</td>\n",
              "      <td>0.028718</td>\n",
              "      <td>0.001625</td>\n",
              "      <td>6</td>\n",
              "      <td>30</td>\n",
              "      <td>NaN</td>\n",
              "      <td>{'max_features': 6, 'n_estimators': 30}</td>\n",
              "      <td>-2.370010e+09</td>\n",
              "      <td>-2.583638e+09</td>\n",
              "      <td>-2.607703e+09</td>\n",
              "      <td>-2.350953e+09</td>\n",
              "      <td>-2.661059e+09</td>\n",
              "      <td>-2.514673e+09</td>\n",
              "      <td>1.285080e+08</td>\n",
              "      <td>2</td>\n",
              "      <td>-3.838538e+08</td>\n",
              "      <td>-3.804711e+08</td>\n",
              "      <td>-3.805218e+08</td>\n",
              "      <td>-3.856095e+08</td>\n",
              "      <td>-3.901917e+08</td>\n",
              "      <td>-3.841296e+08</td>\n",
              "      <td>3.617057e+06</td>\n",
              "    </tr>\n",
              "    <tr>\n",
              "      <th>9</th>\n",
              "      <td>0.192121</td>\n",
              "      <td>0.017242</td>\n",
              "      <td>0.003539</td>\n",
              "      <td>0.000462</td>\n",
              "      <td>8</td>\n",
              "      <td>3</td>\n",
              "      <td>NaN</td>\n",
              "      <td>{'max_features': 8, 'n_estimators': 3}</td>\n",
              "      <td>-3.353504e+09</td>\n",
              "      <td>-3.348552e+09</td>\n",
              "      <td>-3.402843e+09</td>\n",
              "      <td>-3.129307e+09</td>\n",
              "      <td>-3.510047e+09</td>\n",
              "      <td>-3.348850e+09</td>\n",
              "      <td>1.241939e+08</td>\n",
              "      <td>13</td>\n",
              "      <td>-9.228123e+08</td>\n",
              "      <td>-8.553031e+08</td>\n",
              "      <td>-8.603321e+08</td>\n",
              "      <td>-8.881964e+08</td>\n",
              "      <td>-9.151287e+08</td>\n",
              "      <td>-8.883545e+08</td>\n",
              "      <td>2.750227e+07</td>\n",
              "    </tr>\n",
              "    <tr>\n",
              "      <th>10</th>\n",
              "      <td>0.626921</td>\n",
              "      <td>0.043013</td>\n",
              "      <td>0.009831</td>\n",
              "      <td>0.000270</td>\n",
              "      <td>8</td>\n",
              "      <td>10</td>\n",
              "      <td>NaN</td>\n",
              "      <td>{'max_features': 8, 'n_estimators': 10}</td>\n",
              "      <td>-2.571970e+09</td>\n",
              "      <td>-2.718994e+09</td>\n",
              "      <td>-2.842317e+09</td>\n",
              "      <td>-2.460258e+09</td>\n",
              "      <td>-2.776666e+09</td>\n",
              "      <td>-2.674041e+09</td>\n",
              "      <td>1.392777e+08</td>\n",
              "      <td>5</td>\n",
              "      <td>-4.932416e+08</td>\n",
              "      <td>-4.815238e+08</td>\n",
              "      <td>-4.730979e+08</td>\n",
              "      <td>-5.155367e+08</td>\n",
              "      <td>-4.985555e+08</td>\n",
              "      <td>-4.923911e+08</td>\n",
              "      <td>1.459294e+07</td>\n",
              "    </tr>\n",
              "    <tr>\n",
              "      <th>11</th>\n",
              "      <td>1.873822</td>\n",
              "      <td>0.041212</td>\n",
              "      <td>0.029590</td>\n",
              "      <td>0.001910</td>\n",
              "      <td>8</td>\n",
              "      <td>30</td>\n",
              "      <td>NaN</td>\n",
              "      <td>{'max_features': 8, 'n_estimators': 30}</td>\n",
              "      <td>-2.357390e+09</td>\n",
              "      <td>-2.546640e+09</td>\n",
              "      <td>-2.591972e+09</td>\n",
              "      <td>-2.318617e+09</td>\n",
              "      <td>-2.527022e+09</td>\n",
              "      <td>-2.468328e+09</td>\n",
              "      <td>1.091662e+08</td>\n",
              "      <td>1</td>\n",
              "      <td>-3.841658e+08</td>\n",
              "      <td>-3.744500e+08</td>\n",
              "      <td>-3.773239e+08</td>\n",
              "      <td>-3.882250e+08</td>\n",
              "      <td>-3.810005e+08</td>\n",
              "      <td>-3.810330e+08</td>\n",
              "      <td>4.871017e+06</td>\n",
              "    </tr>\n",
              "    <tr>\n",
              "      <th>12</th>\n",
              "      <td>0.098015</td>\n",
              "      <td>0.003303</td>\n",
              "      <td>0.003610</td>\n",
              "      <td>0.000378</td>\n",
              "      <td>2</td>\n",
              "      <td>3</td>\n",
              "      <td>False</td>\n",
              "      <td>{'bootstrap': False, 'max_features': 2, 'n_est...</td>\n",
              "      <td>-3.785816e+09</td>\n",
              "      <td>-4.166012e+09</td>\n",
              "      <td>-4.061751e+09</td>\n",
              "      <td>-3.675704e+09</td>\n",
              "      <td>-4.089667e+09</td>\n",
              "      <td>-3.955790e+09</td>\n",
              "      <td>1.900964e+08</td>\n",
              "      <td>17</td>\n",
              "      <td>-0.000000e+00</td>\n",
              "      <td>-0.000000e+00</td>\n",
              "      <td>-0.000000e+00</td>\n",
              "      <td>-0.000000e+00</td>\n",
              "      <td>-0.000000e+00</td>\n",
              "      <td>0.000000e+00</td>\n",
              "      <td>0.000000e+00</td>\n",
              "    </tr>\n",
              "    <tr>\n",
              "      <th>13</th>\n",
              "      <td>0.330721</td>\n",
              "      <td>0.009807</td>\n",
              "      <td>0.011306</td>\n",
              "      <td>0.000324</td>\n",
              "      <td>2</td>\n",
              "      <td>10</td>\n",
              "      <td>False</td>\n",
              "      <td>{'bootstrap': False, 'max_features': 2, 'n_est...</td>\n",
              "      <td>-2.810721e+09</td>\n",
              "      <td>-3.107789e+09</td>\n",
              "      <td>-3.131187e+09</td>\n",
              "      <td>-2.788537e+09</td>\n",
              "      <td>-3.099347e+09</td>\n",
              "      <td>-2.987516e+09</td>\n",
              "      <td>1.539234e+08</td>\n",
              "      <td>10</td>\n",
              "      <td>-6.056477e-02</td>\n",
              "      <td>-0.000000e+00</td>\n",
              "      <td>-0.000000e+00</td>\n",
              "      <td>-0.000000e+00</td>\n",
              "      <td>-2.967449e+00</td>\n",
              "      <td>-6.056027e-01</td>\n",
              "      <td>1.181156e+00</td>\n",
              "    </tr>\n",
              "    <tr>\n",
              "      <th>14</th>\n",
              "      <td>0.133596</td>\n",
              "      <td>0.003820</td>\n",
              "      <td>0.003423</td>\n",
              "      <td>0.000082</td>\n",
              "      <td>3</td>\n",
              "      <td>3</td>\n",
              "      <td>False</td>\n",
              "      <td>{'bootstrap': False, 'max_features': 3, 'n_est...</td>\n",
              "      <td>-3.618324e+09</td>\n",
              "      <td>-3.441527e+09</td>\n",
              "      <td>-3.554815e+09</td>\n",
              "      <td>-3.619116e+09</td>\n",
              "      <td>-3.449864e+09</td>\n",
              "      <td>-3.536729e+09</td>\n",
              "      <td>7.795057e+07</td>\n",
              "      <td>15</td>\n",
              "      <td>-0.000000e+00</td>\n",
              "      <td>-0.000000e+00</td>\n",
              "      <td>-0.000000e+00</td>\n",
              "      <td>-0.000000e+00</td>\n",
              "      <td>-6.072840e+01</td>\n",
              "      <td>-1.214568e+01</td>\n",
              "      <td>2.429136e+01</td>\n",
              "    </tr>\n",
              "    <tr>\n",
              "      <th>15</th>\n",
              "      <td>0.467749</td>\n",
              "      <td>0.030224</td>\n",
              "      <td>0.013200</td>\n",
              "      <td>0.000820</td>\n",
              "      <td>3</td>\n",
              "      <td>10</td>\n",
              "      <td>False</td>\n",
              "      <td>{'bootstrap': False, 'max_features': 3, 'n_est...</td>\n",
              "      <td>-2.757999e+09</td>\n",
              "      <td>-2.851737e+09</td>\n",
              "      <td>-2.830927e+09</td>\n",
              "      <td>-2.672765e+09</td>\n",
              "      <td>-2.786190e+09</td>\n",
              "      <td>-2.779924e+09</td>\n",
              "      <td>6.286720e+07</td>\n",
              "      <td>7</td>\n",
              "      <td>-2.089484e+01</td>\n",
              "      <td>-0.000000e+00</td>\n",
              "      <td>-0.000000e+00</td>\n",
              "      <td>-0.000000e+00</td>\n",
              "      <td>-5.465556e+00</td>\n",
              "      <td>-5.272080e+00</td>\n",
              "      <td>8.093117e+00</td>\n",
              "    </tr>\n",
              "    <tr>\n",
              "      <th>16</th>\n",
              "      <td>0.169373</td>\n",
              "      <td>0.010281</td>\n",
              "      <td>0.003623</td>\n",
              "      <td>0.000127</td>\n",
              "      <td>4</td>\n",
              "      <td>3</td>\n",
              "      <td>False</td>\n",
              "      <td>{'bootstrap': False, 'max_features': 4, 'n_est...</td>\n",
              "      <td>-3.134040e+09</td>\n",
              "      <td>-3.559375e+09</td>\n",
              "      <td>-3.440422e+09</td>\n",
              "      <td>-3.053647e+09</td>\n",
              "      <td>-3.338344e+09</td>\n",
              "      <td>-3.305166e+09</td>\n",
              "      <td>1.879165e+08</td>\n",
              "      <td>12</td>\n",
              "      <td>-0.000000e+00</td>\n",
              "      <td>-0.000000e+00</td>\n",
              "      <td>-0.000000e+00</td>\n",
              "      <td>-0.000000e+00</td>\n",
              "      <td>-0.000000e+00</td>\n",
              "      <td>0.000000e+00</td>\n",
              "      <td>0.000000e+00</td>\n",
              "    </tr>\n",
              "    <tr>\n",
              "      <th>17</th>\n",
              "      <td>0.554117</td>\n",
              "      <td>0.013525</td>\n",
              "      <td>0.012767</td>\n",
              "      <td>0.000590</td>\n",
              "      <td>4</td>\n",
              "      <td>10</td>\n",
              "      <td>False</td>\n",
              "      <td>{'bootstrap': False, 'max_features': 4, 'n_est...</td>\n",
              "      <td>-2.525578e+09</td>\n",
              "      <td>-2.710011e+09</td>\n",
              "      <td>-2.609100e+09</td>\n",
              "      <td>-2.439607e+09</td>\n",
              "      <td>-2.725548e+09</td>\n",
              "      <td>-2.601969e+09</td>\n",
              "      <td>1.088048e+08</td>\n",
              "      <td>4</td>\n",
              "      <td>-0.000000e+00</td>\n",
              "      <td>-1.514119e-02</td>\n",
              "      <td>-0.000000e+00</td>\n",
              "      <td>-0.000000e+00</td>\n",
              "      <td>-0.000000e+00</td>\n",
              "      <td>-3.028238e-03</td>\n",
              "      <td>6.056477e-03</td>\n",
              "    </tr>\n",
              "  </tbody>\n",
              "</table>\n",
              "</div>"
            ],
            "text/plain": [
              "    mean_fit_time  std_fit_time  ...  mean_train_score  std_train_score\n",
              "0        0.062552      0.002236  ...     -1.105559e+09     2.220402e+07\n",
              "1        0.208306      0.006314  ...     -5.818785e+08     7.345821e+06\n",
              "2        0.611316      0.002549  ...     -4.394734e+08     2.966320e+06\n",
              "3        0.108272      0.004035  ...     -9.848396e+08     4.084607e+07\n",
              "4        0.340926      0.007519  ...     -5.163863e+08     1.542862e+07\n",
              "5        1.015235      0.020716  ...     -3.879289e+08     8.571233e+06\n",
              "6        0.138943      0.005244  ...     -9.023976e+08     2.591445e+07\n",
              "7        0.462825      0.006085  ...     -5.013349e+08     3.100456e+06\n",
              "8        1.425765      0.018735  ...     -3.841296e+08     3.617057e+06\n",
              "9        0.192121      0.017242  ...     -8.883545e+08     2.750227e+07\n",
              "10       0.626921      0.043013  ...     -4.923911e+08     1.459294e+07\n",
              "11       1.873822      0.041212  ...     -3.810330e+08     4.871017e+06\n",
              "12       0.098015      0.003303  ...      0.000000e+00     0.000000e+00\n",
              "13       0.330721      0.009807  ...     -6.056027e-01     1.181156e+00\n",
              "14       0.133596      0.003820  ...     -1.214568e+01     2.429136e+01\n",
              "15       0.467749      0.030224  ...     -5.272080e+00     8.093117e+00\n",
              "16       0.169373      0.010281  ...      0.000000e+00     0.000000e+00\n",
              "17       0.554117      0.013525  ...     -3.028238e-03     6.056477e-03\n",
              "\n",
              "[18 rows x 23 columns]"
            ]
          },
          "metadata": {
            "tags": []
          },
          "execution_count": 94
        }
      ]
    },
    {
      "cell_type": "markdown",
      "metadata": {
        "id": "zWIYK7-yKA5H",
        "colab_type": "text"
      },
      "source": [
        "#### Randomized Search"
      ]
    },
    {
      "cell_type": "code",
      "metadata": {
        "id": "GT3nZTNfI06H",
        "colab_type": "code",
        "outputId": "b75ece6f-c44a-44c0-f284-3b4a5884e8ec",
        "colab": {
          "base_uri": "https://localhost:8080/",
          "height": 406
        }
      },
      "source": [
        "from sklearn.model_selection import RandomizedSearchCV\n",
        "from scipy.stats import randint\n",
        "param_distribs = {\n",
        "        'n_estimators': randint(low=1, high=200),\n",
        "        'max_features': randint(low=1, high=8),\n",
        "    }\n",
        "forest_reg = RandomForestRegressor(random_state=42)\n",
        "rnd_search = RandomizedSearchCV(forest_reg, param_distributions=param_distribs,\n",
        "                                n_iter=10, cv=5, scoring='neg_mean_squared_error', random_state=42)\n",
        "rnd_search.fit(housing_prepared, housing_labels)"
      ],
      "execution_count": 95,
      "outputs": [
        {
          "output_type": "execute_result",
          "data": {
            "text/plain": [
              "RandomizedSearchCV(cv=5, error_score=nan,\n",
              "                   estimator=RandomForestRegressor(bootstrap=True,\n",
              "                                                   ccp_alpha=0.0,\n",
              "                                                   criterion='mse',\n",
              "                                                   max_depth=None,\n",
              "                                                   max_features='auto',\n",
              "                                                   max_leaf_nodes=None,\n",
              "                                                   max_samples=None,\n",
              "                                                   min_impurity_decrease=0.0,\n",
              "                                                   min_impurity_split=None,\n",
              "                                                   min_samples_leaf=1,\n",
              "                                                   min_samples_split=2,\n",
              "                                                   min_weight_fraction_leaf=0.0,\n",
              "                                                   n_estimators=100,\n",
              "                                                   n_jobs=None, oob_score=Fals...\n",
              "                                                   warm_start=False),\n",
              "                   iid='deprecated', n_iter=10, n_jobs=None,\n",
              "                   param_distributions={'max_features': <scipy.stats._distn_infrastructure.rv_frozen object at 0x7f9e0125cb00>,\n",
              "                                        'n_estimators': <scipy.stats._distn_infrastructure.rv_frozen object at 0x7f9e0125cac8>},\n",
              "                   pre_dispatch='2*n_jobs', random_state=42, refit=True,\n",
              "                   return_train_score=False, scoring='neg_mean_squared_error',\n",
              "                   verbose=0)"
            ]
          },
          "metadata": {
            "tags": []
          },
          "execution_count": 95
        }
      ]
    },
    {
      "cell_type": "code",
      "metadata": {
        "id": "B1OCVMmQLYg1",
        "colab_type": "code",
        "outputId": "5b52cb47-439a-40f1-ee6d-c46215ec6515",
        "colab": {
          "base_uri": "https://localhost:8080/",
          "height": 185
        }
      },
      "source": [
        "cvres = rnd_search.cv_results_\n",
        "for mean_score, params in zip(cvres[\"mean_test_score\"], cvres[\"params\"]):\n",
        "    print(np.sqrt(-mean_score), params)"
      ],
      "execution_count": 96,
      "outputs": [
        {
          "output_type": "stream",
          "text": [
            "49150.70756927707 {'max_features': 7, 'n_estimators': 180}\n",
            "51389.889203389284 {'max_features': 5, 'n_estimators': 15}\n",
            "50796.155224308866 {'max_features': 3, 'n_estimators': 72}\n",
            "50835.13360315349 {'max_features': 5, 'n_estimators': 21}\n",
            "49280.9449827171 {'max_features': 7, 'n_estimators': 122}\n",
            "50774.90662363929 {'max_features': 3, 'n_estimators': 75}\n",
            "50682.78888164288 {'max_features': 3, 'n_estimators': 88}\n",
            "49608.99608105296 {'max_features': 5, 'n_estimators': 100}\n",
            "50473.61930350219 {'max_features': 3, 'n_estimators': 150}\n",
            "64429.84143294435 {'max_features': 5, 'n_estimators': 2}\n"
          ],
          "name": "stdout"
        }
      ]
    },
    {
      "cell_type": "markdown",
      "metadata": {
        "id": "eRMZ1eQNMgEa",
        "colab_type": "text"
      },
      "source": [
        "#### Analyze Best Models and Their Errors"
      ]
    },
    {
      "cell_type": "code",
      "metadata": {
        "id": "_f6arTBEMBLR",
        "colab_type": "code",
        "outputId": "45a3ae34-3edb-48d2-d222-8c2091751601",
        "colab": {
          "base_uri": "https://localhost:8080/",
          "height": 84
        }
      },
      "source": [
        "# relative importance of each attribute\n",
        "feature_importances = grid_search.best_estimator_.feature_importances_\n",
        "feature_importances"
      ],
      "execution_count": 97,
      "outputs": [
        {
          "output_type": "execute_result",
          "data": {
            "text/plain": [
              "array([7.33442355e-02, 6.29090705e-02, 4.11437985e-02, 1.46726854e-02,\n",
              "       1.41064835e-02, 1.48742809e-02, 1.42575993e-02, 3.66158981e-01,\n",
              "       5.64191792e-02, 1.08792957e-01, 5.33510773e-02, 1.03114883e-02,\n",
              "       1.64780994e-01, 6.02803867e-05, 1.96041560e-03, 2.85647464e-03])"
            ]
          },
          "metadata": {
            "tags": []
          },
          "execution_count": 97
        }
      ]
    },
    {
      "cell_type": "code",
      "metadata": {
        "id": "DHnQV2WlM6wA",
        "colab_type": "code",
        "outputId": "ec27f51f-c218-4504-942f-949ecad6113d",
        "colab": {
          "base_uri": "https://localhost:8080/",
          "height": 286
        }
      },
      "source": [
        "extra_attribs = [\"rooms_per_hhold\", \"pop_per_hhold\", \"bedrooms_per_room\"]\n",
        "#cat_encoder = cat_pipeline.named_steps[\"cat_encoder\"] # old solution\n",
        "cat_encoder = full_pipeline.named_transformers_[\"cat\"]\n",
        "cat_one_hot_attribs = list(cat_encoder.categories_[0])\n",
        "attributes = num_attribs + extra_attribs + cat_one_hot_attribs\n",
        "sorted(zip(feature_importances, attributes), reverse=True)"
      ],
      "execution_count": 98,
      "outputs": [
        {
          "output_type": "execute_result",
          "data": {
            "text/plain": [
              "[(0.36615898061813423, 'median_income'),\n",
              " (0.16478099356159054, 'INLAND'),\n",
              " (0.10879295677551575, 'pop_per_hhold'),\n",
              " (0.07334423551601243, 'longitude'),\n",
              " (0.06290907048262032, 'latitude'),\n",
              " (0.056419179181954014, 'rooms_per_hhold'),\n",
              " (0.053351077347675815, 'bedrooms_per_room'),\n",
              " (0.04114379847872964, 'housing_median_age'),\n",
              " (0.014874280890402769, 'population'),\n",
              " (0.014672685420543239, 'total_rooms'),\n",
              " (0.014257599323407808, 'households'),\n",
              " (0.014106483453584104, 'total_bedrooms'),\n",
              " (0.010311488326303788, '<1H OCEAN'),\n",
              " (0.0028564746373201584, 'NEAR OCEAN'),\n",
              " (0.0019604155994780706, 'NEAR BAY'),\n",
              " (6.0280386727366e-05, 'ISLAND')]"
            ]
          },
          "metadata": {
            "tags": []
          },
          "execution_count": 98
        }
      ]
    },
    {
      "cell_type": "markdown",
      "metadata": {
        "id": "8b26jTi-Npsm",
        "colab_type": "text"
      },
      "source": [
        "## Evaluate the System on Test Set"
      ]
    },
    {
      "cell_type": "code",
      "metadata": {
        "id": "n1Ov4UXyNMao",
        "colab_type": "code",
        "colab": {}
      },
      "source": [
        "final_model = grid_search.best_estimator_\n",
        "# final_model"
      ],
      "execution_count": 0,
      "outputs": []
    },
    {
      "cell_type": "code",
      "metadata": {
        "id": "TDuPjZhKODYW",
        "colab_type": "code",
        "outputId": "11beacec-03d5-4cc9-94c6-14c7ad60c22d",
        "colab": {
          "base_uri": "https://localhost:8080/",
          "height": 34
        }
      },
      "source": [
        "X_test = strat_test_set.drop('median_house_value', axis=1)\n",
        "y_test = strat_test_set['median_house_value'].copy()\n",
        "\n",
        "X_test_prepared = full_pipeline.transform(X_test)\n",
        "final_predictions = final_model.predict(X_test_prepared)\n",
        "\n",
        "final_mse = mean_squared_error(y_test, final_predictions)\n",
        "final_rmse = np.sqrt(final_mse)\n",
        "\n",
        "final_rmse"
      ],
      "execution_count": 100,
      "outputs": [
        {
          "output_type": "execute_result",
          "data": {
            "text/plain": [
              "47730.22690385927"
            ]
          },
          "metadata": {
            "tags": []
          },
          "execution_count": 100
        }
      ]
    },
    {
      "cell_type": "code",
      "metadata": {
        "id": "6b68O2hhPQap",
        "colab_type": "code",
        "outputId": "e2203be9-eaea-4dfe-aa4d-c58aa0a70d7a",
        "colab": {
          "base_uri": "https://localhost:8080/",
          "height": 34
        }
      },
      "source": [
        "from scipy import stats\n",
        "\n",
        "confidence = 0.95\n",
        "squared_errors = (final_predictions - y_test) ** 2\n",
        "np.sqrt(stats.t.interval(confidence, len(squared_errors) - 1,\n",
        "                         loc = squared_errors.mean(),\n",
        "                         scale=stats.sem(squared_errors)\n",
        "                         ))"
      ],
      "execution_count": 101,
      "outputs": [
        {
          "output_type": "execute_result",
          "data": {
            "text/plain": [
              "array([45685.10470776, 49691.25001878])"
            ]
          },
          "metadata": {
            "tags": []
          },
          "execution_count": 101
        }
      ]
    },
    {
      "cell_type": "code",
      "metadata": {
        "id": "Un_4AJpKQLSX",
        "colab_type": "code",
        "outputId": "98c06312-66a7-4777-8440-76c742a188e9",
        "colab": {
          "base_uri": "https://localhost:8080/",
          "height": 34
        }
      },
      "source": [
        "# compute intervals manually\n",
        "m = len(squared_errors)\n",
        "mean = squared_errors.mean()\n",
        "tscore = stats.t.ppf((1 + confidence) / 2, df=m - 1)\n",
        "tmargin = tscore * squared_errors.std(ddof=1) / np.sqrt(m)\n",
        "np.sqrt(mean - tmargin), np.sqrt(mean + tmargin)"
      ],
      "execution_count": 102,
      "outputs": [
        {
          "output_type": "execute_result",
          "data": {
            "text/plain": [
              "(45685.10470776, 49691.25001877858)"
            ]
          },
          "metadata": {
            "tags": []
          },
          "execution_count": 102
        }
      ]
    },
    {
      "cell_type": "code",
      "metadata": {
        "id": "KrjTPTqAQea5",
        "colab_type": "code",
        "outputId": "69684716-5fbf-417c-c849-6ff12ebc4cb2",
        "colab": {
          "base_uri": "https://localhost:8080/",
          "height": 34
        }
      },
      "source": [
        "# z-scores rather than t-scores\n",
        "zscore = stats.norm.ppf((1 + confidence) / 2)\n",
        "zmargin = zscore * squared_errors.std(ddof=1) / np.sqrt(m)\n",
        "np.sqrt(mean - zmargin), np.sqrt(mean + zmargin)"
      ],
      "execution_count": 103,
      "outputs": [
        {
          "output_type": "execute_result",
          "data": {
            "text/plain": [
              "(45685.717918136455, 49690.68623889413)"
            ]
          },
          "metadata": {
            "tags": []
          },
          "execution_count": 103
        }
      ]
    }
  ]
}